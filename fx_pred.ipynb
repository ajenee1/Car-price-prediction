{
 "cells": [
  {
   "cell_type": "code",
   "execution_count": 2,
   "id": "f2d1ea73",
   "metadata": {},
   "outputs": [],
   "source": [
    "import yfinance as yf\n",
    "import pandas as pd\n",
    "import numpy as np\n",
    "import matplotlib.pyplot as plt"
   ]
  },
  {
   "cell_type": "code",
   "execution_count": 17,
   "id": "63e55dd1",
   "metadata": {},
   "outputs": [
    {
     "name": "stderr",
     "output_type": "stream",
     "text": [
      "/var/folders/by/bn5byyk92gq6f173m_jc7qym0000gn/T/ipykernel_26490/2944061222.py:13: FutureWarning: YF.download() has changed argument auto_adjust default to True\n",
      "  data = yf.download(\n",
      "[*********************100%***********************]  7 of 7 completed"
     ]
    },
    {
     "name": "stdout",
     "output_type": "stream",
     "text": [
      "Ticker       Date GBPUSD=X                       EURUSD=X                 ...  \\\n",
      "Price                 Open High Low Close Volume     Open High Low Close  ...   \n",
      "0      2000-01-03      NaN  NaN NaN   NaN    NaN      NaN  NaN NaN   NaN  ...   \n",
      "1      2000-01-04      NaN  NaN NaN   NaN    NaN      NaN  NaN NaN   NaN  ...   \n",
      "2      2000-01-05      NaN  NaN NaN   NaN    NaN      NaN  NaN NaN   NaN  ...   \n",
      "3      2000-01-06      NaN  NaN NaN   NaN    NaN      NaN  NaN NaN   NaN  ...   \n",
      "4      2000-01-07      NaN  NaN NaN   NaN    NaN      NaN  NaN NaN   NaN  ...   \n",
      "\n",
      "Ticker CHF=X                             JPY=X                          \\\n",
      "Price   Open High Low Close Volume        Open        High         Low   \n",
      "0        NaN  NaN NaN   NaN    NaN  102.070000  103.330002  101.309998   \n",
      "1        NaN  NaN NaN   NaN    NaN  101.639999  103.320000  101.470001   \n",
      "2        NaN  NaN NaN   NaN    NaN  103.129997  104.480003  102.750000   \n",
      "3        NaN  NaN NaN   NaN    NaN  104.089996  105.559998  103.900002   \n",
      "4        NaN  NaN NaN   NaN    NaN  105.260002  105.879997  104.830002   \n",
      "\n",
      "Ticker                     \n",
      "Price        Close Volume  \n",
      "0       101.690002    0.0  \n",
      "1       103.139999    0.0  \n",
      "2       104.089996    0.0  \n",
      "3       105.230003    0.0  \n",
      "4       105.330002    0.0  \n",
      "\n",
      "[5 rows x 36 columns]\n"
     ]
    },
    {
     "name": "stderr",
     "output_type": "stream",
     "text": [
      "\n"
     ]
    }
   ],
   "source": [
    "# Read data from yahoo finance\n",
    "\n",
    "tickers = [\n",
    "    \"EURUSD=X\",  # EUR/USD\n",
    "    \"GBPUSD=X\",  # GBP/USD\n",
    "    \"JPY=X\",     # USD/JPY\n",
    "    \"CHF=X\",     # USD/CHF\n",
    "    \"CAD=X\",     # USD/CAD\n",
    "    \"AUDUSD=X\",  # AUD/USD\n",
    "    \"NZDUSD=X\"   # NZD/USD\n",
    "]\n",
    "\n",
    "data = yf.download(\n",
    "    tickers,\n",
    "    start=\"2000-01-01\",\n",
    "    end=\"2025-09-04\",\n",
    "    interval=\"1d\",\n",
    "    group_by=\"ticker\",\n",
    "    actions=False\n",
    ").reset_index()\n",
    "\n",
    "print(data.head())\n",
    "\n",
    "\n",
    "# Drop Volume since zero\n",
    "if \"Volume\" in data.columns:\n",
    "    data = data.drop(columns=[\"Volume\"])\n",
    "\n",
    "#print(data)"
   ]
  },
  {
   "cell_type": "code",
   "execution_count": 18,
   "id": "22b814f7",
   "metadata": {},
   "outputs": [],
   "source": [
    "#Save to CSV\n",
    "data.to_csv(\"EURUSD_daily_2004_to_2025.csv\", index=False)"
   ]
  }
 ],
 "metadata": {
  "kernelspec": {
   "display_name": "base",
   "language": "python",
   "name": "python3"
  },
  "language_info": {
   "codemirror_mode": {
    "name": "ipython",
    "version": 3
   },
   "file_extension": ".py",
   "mimetype": "text/x-python",
   "name": "python",
   "nbconvert_exporter": "python",
   "pygments_lexer": "ipython3",
   "version": "3.12.7"
  }
 },
 "nbformat": 4,
 "nbformat_minor": 5
}
