{
 "cells": [
  {
   "cell_type": "markdown",
   "id": "71dff673",
   "metadata": {},
   "source": [
    "# Neural Network"
   ]
  },
  {
   "cell_type": "code",
   "execution_count": 1,
   "id": "cef21bc3",
   "metadata": {},
   "outputs": [],
   "source": [
    "import pandas as pd\n",
    "import numpy as np\n",
    "import joblib\n",
    "import shap\n",
    "import matplotlib.pyplot as plt\n",
    "\n",
    "from sklearn.model_selection import train_test_split\n",
    "from sklearn.preprocessing import StandardScaler\n",
    "from sklearn.model_selection import KFold\n",
    "from sklearn.metrics import mean_absolute_error, mean_squared_error, r2_score\n",
    "\n",
    "import tensorflow as tf\n",
    "from tensorflow.keras.models import Sequential\n",
    "from tensorflow.keras.layers import Dense\n",
    "from tensorflow.keras.optimizers import Adam\n",
    "from tensorflow.keras.callbacks import EarlyStopping\n",
    "\n",
    "\n"
   ]
  },
  {
   "cell_type": "code",
   "execution_count": 2,
   "id": "90463348",
   "metadata": {},
   "outputs": [],
   "source": [
    "\"Read in clean-data\"\n",
    "df = pd.read_csv(\"clean_df.csv\")"
   ]
  },
  {
   "cell_type": "code",
   "execution_count": 3,
   "id": "8c063701",
   "metadata": {},
   "outputs": [],
   "source": [
    "\"Configure features and target\"\n",
    "# Define target column\n",
    "target_col = \"Price\"\n",
    "\n",
    "# Split features/target\n",
    "x = df.drop(columns=[target_col])\n",
    "y = df[target_col].astype(float)"
   ]
  },
  {
   "cell_type": "code",
   "execution_count": 4,
   "id": "8051672b",
   "metadata": {},
   "outputs": [],
   "source": [
    "\"Configure features and target\"\n",
    "# Define target column\n",
    "target_col = \"Price\"\n",
    "\n",
    "# Split features/target\n",
    "x = df.drop(columns=[target_col])\n",
    "y = df[target_col].astype(float)"
   ]
  },
  {
   "cell_type": "code",
   "execution_count": 5,
   "id": "c9a2f800",
   "metadata": {},
   "outputs": [],
   "source": [
    "\"Split data into training and test sets\"\n",
    "# Split: 80% train, 20% test\n",
    "X_train, X_test, y_train, y_test = train_test_split(\n",
    "    x, y, test_size=0.2, random_state=42\n",
    ")"
   ]
  },
  {
   "cell_type": "code",
   "execution_count": 6,
   "id": "70699031",
   "metadata": {},
   "outputs": [
    {
     "name": "stdout",
     "output_type": "stream",
     "text": [
      "Original X_train shape: (39990, 8)\n",
      "Data types:\n",
      "Manufacturer            object\n",
      "Model                   object\n",
      "Engine size            float64\n",
      "Fuel type               object\n",
      "Year of manufacture      int64\n",
      "Mileage                  int64\n",
      "Car_Age                  int64\n",
      "Mileage_per_Year       float64\n",
      "dtype: object\n"
     ]
    }
   ],
   "source": [
    "\"Preprocess data\"\n",
    "print(f\"Original X_train shape: {X_train.shape}\")\n",
    "print(f\"Data types:\\n{X_train.dtypes}\")\n",
    "\n",
    "\n",
    "# One-hot encoding for categorical variables\n",
    "X_train_processed = pd.get_dummies(X_train, drop_first=True)\n",
    "X_test_processed = pd.get_dummies(X_test, drop_first=True)\n",
    "\n",
    "# Update variables for cross-validation\n",
    "X_train = X_train_processed\n",
    "X_test = X_test_processed"
   ]
  },
  {
   "cell_type": "code",
   "execution_count": 7,
   "id": "532f8362",
   "metadata": {},
   "outputs": [],
   "source": [
    "\"Cross-validation setup\"\n",
    "k_folds = 5 # Number of folds\n",
    "kf = KFold(n_splits=k_folds, shuffle=True, random_state=42)\n",
    "\n",
    "# Define parameter grid to test \n",
    "param_combinations = [\n",
    "    {'learning_rate': 0.001, 'batch_size': 32, 'epochs': 50, 'hidden_size': 64},\n",
    "    {'learning_rate': 0.01, 'batch_size': 32, 'epochs': 50, 'hidden_size': 128},\n",
    "    {'learning_rate': 0.001, 'batch_size': 64, 'epochs': 100, 'hidden_size': 64},\n",
    "]"
   ]
  },
  {
   "cell_type": "code",
   "execution_count": 8,
   "id": "da498ad0",
   "metadata": {},
   "outputs": [],
   "source": [
    "\"Cross-validation function\"\n",
    "def cv_params(X_train, y_train, param_list, k_folds=5):\n",
    "    \"\"\"Cross-validation for neural network hyperparameters\"\"\"\n",
    "    kf = KFold(n_splits=k_folds, shuffle=True, random_state=42)\n",
    "    best_score, best_params = float('inf'), None\n",
    "    \n",
    "    for i, params in enumerate(param_list):\n",
    "        print(f\"\\nTesting {i+1}/{len(param_list)}: {params}\")\n",
    "        scores = []\n",
    "        \n",
    "        # Split and scale data\n",
    "        for fold, (train_idx, val_idx) in enumerate(kf.split(X_train)):\n",
    "            scaler = StandardScaler()\n",
    "            X_tr = scaler.fit_transform(X_train.iloc[train_idx])\n",
    "            X_val = scaler.transform(X_train.iloc[val_idx])\n",
    "            y_tr, y_val = y_train.iloc[train_idx], y_train.iloc[val_idx]\n",
    "            \n",
    "            # Build model\n",
    "            model = Sequential([\n",
    "                Dense(params['hidden_size'], activation='relu', input_dim=X_tr.shape[1]),\n",
    "                Dense(params['hidden_size']//2, activation='relu'),\n",
    "                Dense(params['hidden_size']//4, activation='relu'),\n",
    "                Dense(1)\n",
    "            ])\n",
    "            model.compile(optimizer=Adam(learning_rate=params['learning_rate']), loss='mse')\n",
    "            \n",
    "            # Train\n",
    "            model.fit(X_tr, y_tr, epochs=params['epochs'], batch_size=params['batch_size'],\n",
    "                     validation_data=(X_val, y_val), verbose=0,\n",
    "                     callbacks=[EarlyStopping(patience=10, restore_best_weights=True)])\n",
    "            \n",
    "            # Evaluate\n",
    "            score = mean_squared_error(y_val, model.predict(X_val, verbose=0))\n",
    "            scores.append(score)\n",
    "            print(f\"  Fold {fold+1}: {score:.4f}\")\n",
    "        \n",
    "        # Track best\n",
    "        avg_score = np.mean(scores)\n",
    "        print(f\"  Average: {avg_score:.4f} ± {np.std(scores):.4f}\")\n",
    "        \n",
    "        if avg_score < best_score:\n",
    "            best_score, best_params = avg_score, params\n",
    "    \n",
    "    print(f\"Best: {best_params} (MSE: {best_score:.4f})\")\n",
    "    return best_params, best_score, []"
   ]
  },
  {
   "cell_type": "code",
   "execution_count": 9,
   "id": "6de9cf2e",
   "metadata": {},
   "outputs": [
    {
     "name": "stdout",
     "output_type": "stream",
     "text": [
      "\n",
      "Testing 1/3: {'learning_rate': 0.001, 'batch_size': 32, 'epochs': 50, 'hidden_size': 64}\n"
     ]
    },
    {
     "name": "stderr",
     "output_type": "stream",
     "text": [
      "/opt/anaconda3/lib/python3.12/site-packages/keras/src/layers/core/dense.py:93: UserWarning: Do not pass an `input_shape`/`input_dim` argument to a layer. When using Sequential models, prefer using an `Input(shape)` object as the first layer in the model instead.\n",
      "  super().__init__(activity_regularizer=activity_regularizer, **kwargs)\n"
     ]
    },
    {
     "name": "stdout",
     "output_type": "stream",
     "text": [
      "  Fold 1: 34625.9154\n"
     ]
    },
    {
     "name": "stderr",
     "output_type": "stream",
     "text": [
      "/opt/anaconda3/lib/python3.12/site-packages/keras/src/layers/core/dense.py:93: UserWarning: Do not pass an `input_shape`/`input_dim` argument to a layer. When using Sequential models, prefer using an `Input(shape)` object as the first layer in the model instead.\n",
      "  super().__init__(activity_regularizer=activity_regularizer, **kwargs)\n"
     ]
    },
    {
     "name": "stdout",
     "output_type": "stream",
     "text": [
      "  Fold 2: 39476.3572\n"
     ]
    },
    {
     "name": "stderr",
     "output_type": "stream",
     "text": [
      "/opt/anaconda3/lib/python3.12/site-packages/keras/src/layers/core/dense.py:93: UserWarning: Do not pass an `input_shape`/`input_dim` argument to a layer. When using Sequential models, prefer using an `Input(shape)` object as the first layer in the model instead.\n",
      "  super().__init__(activity_regularizer=activity_regularizer, **kwargs)\n"
     ]
    },
    {
     "name": "stdout",
     "output_type": "stream",
     "text": [
      "  Fold 3: 51365.8255\n"
     ]
    },
    {
     "name": "stderr",
     "output_type": "stream",
     "text": [
      "/opt/anaconda3/lib/python3.12/site-packages/keras/src/layers/core/dense.py:93: UserWarning: Do not pass an `input_shape`/`input_dim` argument to a layer. When using Sequential models, prefer using an `Input(shape)` object as the first layer in the model instead.\n",
      "  super().__init__(activity_regularizer=activity_regularizer, **kwargs)\n"
     ]
    },
    {
     "name": "stdout",
     "output_type": "stream",
     "text": [
      "  Fold 4: 47598.0829\n"
     ]
    },
    {
     "name": "stderr",
     "output_type": "stream",
     "text": [
      "/opt/anaconda3/lib/python3.12/site-packages/keras/src/layers/core/dense.py:93: UserWarning: Do not pass an `input_shape`/`input_dim` argument to a layer. When using Sequential models, prefer using an `Input(shape)` object as the first layer in the model instead.\n",
      "  super().__init__(activity_regularizer=activity_regularizer, **kwargs)\n"
     ]
    },
    {
     "name": "stdout",
     "output_type": "stream",
     "text": [
      "  Fold 5: 49087.3716\n",
      "  Average: 44430.7105 ± 6332.3327\n",
      "\n",
      "Testing 2/3: {'learning_rate': 0.01, 'batch_size': 32, 'epochs': 50, 'hidden_size': 128}\n"
     ]
    },
    {
     "name": "stderr",
     "output_type": "stream",
     "text": [
      "/opt/anaconda3/lib/python3.12/site-packages/keras/src/layers/core/dense.py:93: UserWarning: Do not pass an `input_shape`/`input_dim` argument to a layer. When using Sequential models, prefer using an `Input(shape)` object as the first layer in the model instead.\n",
      "  super().__init__(activity_regularizer=activity_regularizer, **kwargs)\n"
     ]
    },
    {
     "name": "stdout",
     "output_type": "stream",
     "text": [
      "  Fold 1: 143297.0849\n"
     ]
    },
    {
     "name": "stderr",
     "output_type": "stream",
     "text": [
      "/opt/anaconda3/lib/python3.12/site-packages/keras/src/layers/core/dense.py:93: UserWarning: Do not pass an `input_shape`/`input_dim` argument to a layer. When using Sequential models, prefer using an `Input(shape)` object as the first layer in the model instead.\n",
      "  super().__init__(activity_regularizer=activity_regularizer, **kwargs)\n"
     ]
    },
    {
     "name": "stdout",
     "output_type": "stream",
     "text": [
      "  Fold 2: 59574.8900\n"
     ]
    },
    {
     "name": "stderr",
     "output_type": "stream",
     "text": [
      "/opt/anaconda3/lib/python3.12/site-packages/keras/src/layers/core/dense.py:93: UserWarning: Do not pass an `input_shape`/`input_dim` argument to a layer. When using Sequential models, prefer using an `Input(shape)` object as the first layer in the model instead.\n",
      "  super().__init__(activity_regularizer=activity_regularizer, **kwargs)\n"
     ]
    },
    {
     "name": "stdout",
     "output_type": "stream",
     "text": [
      "  Fold 3: 71623.3661\n"
     ]
    },
    {
     "name": "stderr",
     "output_type": "stream",
     "text": [
      "/opt/anaconda3/lib/python3.12/site-packages/keras/src/layers/core/dense.py:93: UserWarning: Do not pass an `input_shape`/`input_dim` argument to a layer. When using Sequential models, prefer using an `Input(shape)` object as the first layer in the model instead.\n",
      "  super().__init__(activity_regularizer=activity_regularizer, **kwargs)\n"
     ]
    },
    {
     "name": "stdout",
     "output_type": "stream",
     "text": [
      "  Fold 4: 63220.9998\n"
     ]
    },
    {
     "name": "stderr",
     "output_type": "stream",
     "text": [
      "/opt/anaconda3/lib/python3.12/site-packages/keras/src/layers/core/dense.py:93: UserWarning: Do not pass an `input_shape`/`input_dim` argument to a layer. When using Sequential models, prefer using an `Input(shape)` object as the first layer in the model instead.\n",
      "  super().__init__(activity_regularizer=activity_regularizer, **kwargs)\n"
     ]
    },
    {
     "name": "stdout",
     "output_type": "stream",
     "text": [
      "  Fold 5: 16823.0667\n",
      "  Average: 70907.8815 ± 40873.9544\n",
      "\n",
      "Testing 3/3: {'learning_rate': 0.001, 'batch_size': 64, 'epochs': 100, 'hidden_size': 64}\n"
     ]
    },
    {
     "name": "stderr",
     "output_type": "stream",
     "text": [
      "/opt/anaconda3/lib/python3.12/site-packages/keras/src/layers/core/dense.py:93: UserWarning: Do not pass an `input_shape`/`input_dim` argument to a layer. When using Sequential models, prefer using an `Input(shape)` object as the first layer in the model instead.\n",
      "  super().__init__(activity_regularizer=activity_regularizer, **kwargs)\n"
     ]
    },
    {
     "name": "stdout",
     "output_type": "stream",
     "text": [
      "  Fold 1: 30504.3755\n"
     ]
    },
    {
     "name": "stderr",
     "output_type": "stream",
     "text": [
      "/opt/anaconda3/lib/python3.12/site-packages/keras/src/layers/core/dense.py:93: UserWarning: Do not pass an `input_shape`/`input_dim` argument to a layer. When using Sequential models, prefer using an `Input(shape)` object as the first layer in the model instead.\n",
      "  super().__init__(activity_regularizer=activity_regularizer, **kwargs)\n"
     ]
    },
    {
     "name": "stdout",
     "output_type": "stream",
     "text": [
      "  Fold 2: 36861.2494\n"
     ]
    },
    {
     "name": "stderr",
     "output_type": "stream",
     "text": [
      "/opt/anaconda3/lib/python3.12/site-packages/keras/src/layers/core/dense.py:93: UserWarning: Do not pass an `input_shape`/`input_dim` argument to a layer. When using Sequential models, prefer using an `Input(shape)` object as the first layer in the model instead.\n",
      "  super().__init__(activity_regularizer=activity_regularizer, **kwargs)\n"
     ]
    },
    {
     "name": "stdout",
     "output_type": "stream",
     "text": [
      "  Fold 3: 50578.3591\n"
     ]
    },
    {
     "name": "stderr",
     "output_type": "stream",
     "text": [
      "/opt/anaconda3/lib/python3.12/site-packages/keras/src/layers/core/dense.py:93: UserWarning: Do not pass an `input_shape`/`input_dim` argument to a layer. When using Sequential models, prefer using an `Input(shape)` object as the first layer in the model instead.\n",
      "  super().__init__(activity_regularizer=activity_regularizer, **kwargs)\n"
     ]
    },
    {
     "name": "stdout",
     "output_type": "stream",
     "text": [
      "  Fold 4: 41369.1435\n"
     ]
    },
    {
     "name": "stderr",
     "output_type": "stream",
     "text": [
      "/opt/anaconda3/lib/python3.12/site-packages/keras/src/layers/core/dense.py:93: UserWarning: Do not pass an `input_shape`/`input_dim` argument to a layer. When using Sequential models, prefer using an `Input(shape)` object as the first layer in the model instead.\n",
      "  super().__init__(activity_regularizer=activity_regularizer, **kwargs)\n"
     ]
    },
    {
     "name": "stdout",
     "output_type": "stream",
     "text": [
      "  Fold 5: 30089.0749\n",
      "  Average: 37880.4405 ± 7609.9757\n",
      "Best: {'learning_rate': 0.001, 'batch_size': 64, 'epochs': 100, 'hidden_size': 64} (MSE: 37880.4405)\n",
      "\n",
      "All parameter combinations tested:\n",
      "   BEST PARAMETERS FOUND:\n",
      "   Parameters: {'learning_rate': 0.001, 'batch_size': 64, 'epochs': 100, 'hidden_size': 64}\n",
      "   Best CV Score (MSE): 37880.4405\n",
      "   Best CV Score (RMSE): 194.6290\n"
     ]
    }
   ],
   "source": [
    "\"Run cross-validation to find best parameters\"\n",
    "best_params, best_score, all_results = cv_params(\n",
    "    X_train, y_train, \n",
    "    param_combinations, \n",
    "    k_folds=5\n",
    ")\n",
    "\n",
    "print(\"\\nAll parameter combinations tested:\")\n",
    "for i, result in enumerate(all_results):\n",
    "    print(f\"\\n{i+1}. {result['params']}\")\n",
    "    print(f\"   Average MSE: {result['avg_score']:.4f} ± {result['std_score']:.4f}\")\n",
    "    print(f\"   Fold scores: {[f'{score:.4f}' for score in result['fold_scores']]}\")\n",
    "\n",
    "# Print best parameters\n",
    "print(f\"   BEST PARAMETERS FOUND:\")\n",
    "print(f\"   Parameters: {best_params}\")\n",
    "print(f\"   Best CV Score (MSE): {best_score:.4f}\")\n",
    "print(f\"   Best CV Score (RMSE): {np.sqrt(best_score):.4f}\")"
   ]
  },
  {
   "cell_type": "code",
   "execution_count": 10,
   "id": "a55139da",
   "metadata": {},
   "outputs": [
    {
     "name": "stdout",
     "output_type": "stream",
     "text": [
      "Epoch 1/100\n"
     ]
    },
    {
     "name": "stderr",
     "output_type": "stream",
     "text": [
      "/opt/anaconda3/lib/python3.12/site-packages/keras/src/layers/core/dense.py:93: UserWarning: Do not pass an `input_shape`/`input_dim` argument to a layer. When using Sequential models, prefer using an `Input(shape)` object as the first layer in the model instead.\n",
      "  super().__init__(activity_regularizer=activity_regularizer, **kwargs)\n"
     ]
    },
    {
     "name": "stdout",
     "output_type": "stream",
     "text": [
      "\u001b[1m500/500\u001b[0m \u001b[32m━━━━━━━━━━━━━━━━━━━━\u001b[0m\u001b[37m\u001b[0m \u001b[1m1s\u001b[0m 514us/step - loss: 431473536.0000 - mae: 13029.8262 - val_loss: 62071136.0000 - val_mae: 4114.3877\n",
      "Epoch 2/100\n",
      "\u001b[1m500/500\u001b[0m \u001b[32m━━━━━━━━━━━━━━━━━━━━\u001b[0m\u001b[37m\u001b[0m \u001b[1m0s\u001b[0m 390us/step - loss: 51111464.0000 - mae: 3739.7266 - val_loss: 32572874.0000 - val_mae: 2995.1870\n",
      "Epoch 3/100\n",
      "\u001b[1m500/500\u001b[0m \u001b[32m━━━━━━━━━━━━━━━━━━━━\u001b[0m\u001b[37m\u001b[0m \u001b[1m0s\u001b[0m 385us/step - loss: 31321628.0000 - mae: 2845.5488 - val_loss: 24499290.0000 - val_mae: 2472.1543\n",
      "Epoch 4/100\n",
      "\u001b[1m500/500\u001b[0m \u001b[32m━━━━━━━━━━━━━━━━━━━━\u001b[0m\u001b[37m\u001b[0m \u001b[1m0s\u001b[0m 403us/step - loss: 23944804.0000 - mae: 2344.7966 - val_loss: 19608440.0000 - val_mae: 1921.1589\n",
      "Epoch 5/100\n",
      "\u001b[1m500/500\u001b[0m \u001b[32m━━━━━━━━━━━━━━━━━━━━\u001b[0m\u001b[37m\u001b[0m \u001b[1m0s\u001b[0m 384us/step - loss: 21599980.0000 - mae: 1942.5029 - val_loss: 15858930.0000 - val_mae: 1513.5439\n",
      "Epoch 6/100\n",
      "\u001b[1m500/500\u001b[0m \u001b[32m━━━━━━━━━━━━━━━━━━━━\u001b[0m\u001b[37m\u001b[0m \u001b[1m0s\u001b[0m 442us/step - loss: 15008949.0000 - mae: 1475.2921 - val_loss: 12503567.0000 - val_mae: 1310.4637\n",
      "Epoch 7/100\n",
      "\u001b[1m500/500\u001b[0m \u001b[32m━━━━━━━━━━━━━━━━━━━━\u001b[0m\u001b[37m\u001b[0m \u001b[1m0s\u001b[0m 461us/step - loss: 11761649.0000 - mae: 1243.2908 - val_loss: 9261005.0000 - val_mae: 1110.9387\n",
      "Epoch 8/100\n",
      "\u001b[1m500/500\u001b[0m \u001b[32m━━━━━━━━━━━━━━━━━━━━\u001b[0m\u001b[37m\u001b[0m \u001b[1m0s\u001b[0m 382us/step - loss: 9204272.0000 - mae: 1064.6831 - val_loss: 6687554.5000 - val_mae: 864.6110\n",
      "Epoch 9/100\n",
      "\u001b[1m500/500\u001b[0m \u001b[32m━━━━━━━━━━━━━━━━━━━━\u001b[0m\u001b[37m\u001b[0m \u001b[1m0s\u001b[0m 436us/step - loss: 6191333.0000 - mae: 855.8948 - val_loss: 4770486.5000 - val_mae: 776.2863\n",
      "Epoch 10/100\n",
      "\u001b[1m500/500\u001b[0m \u001b[32m━━━━━━━━━━━━━━━━━━━━\u001b[0m\u001b[37m\u001b[0m \u001b[1m0s\u001b[0m 384us/step - loss: 4094484.5000 - mae: 722.5450 - val_loss: 3309407.2500 - val_mae: 642.1630\n",
      "Epoch 11/100\n",
      "\u001b[1m500/500\u001b[0m \u001b[32m━━━━━━━━━━━━━━━━━━━━\u001b[0m\u001b[37m\u001b[0m \u001b[1m0s\u001b[0m 407us/step - loss: 3289136.2500 - mae: 627.7198 - val_loss: 2393325.7500 - val_mae: 564.1992\n",
      "Epoch 12/100\n",
      "\u001b[1m500/500\u001b[0m \u001b[32m━━━━━━━━━━━━━━━━━━━━\u001b[0m\u001b[37m\u001b[0m \u001b[1m0s\u001b[0m 380us/step - loss: 2277133.0000 - mae: 546.4178 - val_loss: 1961042.2500 - val_mae: 562.5165\n",
      "Epoch 13/100\n",
      "\u001b[1m500/500\u001b[0m \u001b[32m━━━━━━━━━━━━━━━━━━━━\u001b[0m\u001b[37m\u001b[0m \u001b[1m0s\u001b[0m 435us/step - loss: 1834369.1250 - mae: 500.6315 - val_loss: 1371199.0000 - val_mae: 471.4086\n",
      "Epoch 14/100\n",
      "\u001b[1m500/500\u001b[0m \u001b[32m━━━━━━━━━━━━━━━━━━━━\u001b[0m\u001b[37m\u001b[0m \u001b[1m0s\u001b[0m 388us/step - loss: 1503648.3750 - mae: 459.8342 - val_loss: 1082889.3750 - val_mae: 437.2648\n",
      "Epoch 15/100\n",
      "\u001b[1m500/500\u001b[0m \u001b[32m━━━━━━━━━━━━━━━━━━━━\u001b[0m\u001b[37m\u001b[0m \u001b[1m0s\u001b[0m 378us/step - loss: 1175120.5000 - mae: 424.7776 - val_loss: 910490.9375 - val_mae: 401.3951\n",
      "Epoch 16/100\n",
      "\u001b[1m500/500\u001b[0m \u001b[32m━━━━━━━━━━━━━━━━━━━━\u001b[0m\u001b[37m\u001b[0m \u001b[1m0s\u001b[0m 378us/step - loss: 826436.4375 - mae: 378.1006 - val_loss: 816820.6875 - val_mae: 409.6363\n",
      "Epoch 17/100\n",
      "\u001b[1m500/500\u001b[0m \u001b[32m━━━━━━━━━━━━━━━━━━━━\u001b[0m\u001b[37m\u001b[0m \u001b[1m0s\u001b[0m 380us/step - loss: 701377.9375 - mae: 360.9112 - val_loss: 646414.9375 - val_mae: 366.4212\n",
      "Epoch 18/100\n",
      "\u001b[1m500/500\u001b[0m \u001b[32m━━━━━━━━━━━━━━━━━━━━\u001b[0m\u001b[37m\u001b[0m \u001b[1m0s\u001b[0m 384us/step - loss: 735923.3750 - mae: 350.6054 - val_loss: 534554.2500 - val_mae: 333.2724\n",
      "Epoch 19/100\n",
      "\u001b[1m500/500\u001b[0m \u001b[32m━━━━━━━━━━━━━━━━━━━━\u001b[0m\u001b[37m\u001b[0m \u001b[1m0s\u001b[0m 374us/step - loss: 597206.6250 - mae: 333.1025 - val_loss: 478667.9688 - val_mae: 310.4903\n",
      "Epoch 20/100\n",
      "\u001b[1m500/500\u001b[0m \u001b[32m━━━━━━━━━━━━━━━━━━━━\u001b[0m\u001b[37m\u001b[0m \u001b[1m0s\u001b[0m 421us/step - loss: 641339.8125 - mae: 317.2821 - val_loss: 424672.1250 - val_mae: 303.7155\n",
      "Epoch 21/100\n",
      "\u001b[1m500/500\u001b[0m \u001b[32m━━━━━━━━━━━━━━━━━━━━\u001b[0m\u001b[37m\u001b[0m \u001b[1m0s\u001b[0m 383us/step - loss: 414324.1250 - mae: 301.3525 - val_loss: 357249.0312 - val_mae: 280.8706\n",
      "Epoch 22/100\n",
      "\u001b[1m500/500\u001b[0m \u001b[32m━━━━━━━━━━━━━━━━━━━━\u001b[0m\u001b[37m\u001b[0m \u001b[1m0s\u001b[0m 443us/step - loss: 406596.1875 - mae: 286.2202 - val_loss: 331731.7188 - val_mae: 279.5685\n",
      "Epoch 23/100\n",
      "\u001b[1m500/500\u001b[0m \u001b[32m━━━━━━━━━━━━━━━━━━━━\u001b[0m\u001b[37m\u001b[0m \u001b[1m0s\u001b[0m 383us/step - loss: 360467.5000 - mae: 273.6347 - val_loss: 298440.1250 - val_mae: 261.5284\n",
      "Epoch 24/100\n",
      "\u001b[1m500/500\u001b[0m \u001b[32m━━━━━━━━━━━━━━━━━━━━\u001b[0m\u001b[37m\u001b[0m \u001b[1m0s\u001b[0m 406us/step - loss: 330933.2188 - mae: 263.6865 - val_loss: 268758.3750 - val_mae: 257.8054\n",
      "Epoch 25/100\n",
      "\u001b[1m500/500\u001b[0m \u001b[32m━━━━━━━━━━━━━━━━━━━━\u001b[0m\u001b[37m\u001b[0m \u001b[1m0s\u001b[0m 383us/step - loss: 282816.2500 - mae: 253.3722 - val_loss: 272430.0625 - val_mae: 255.7925\n",
      "Epoch 26/100\n",
      "\u001b[1m500/500\u001b[0m \u001b[32m━━━━━━━━━━━━━━━━━━━━\u001b[0m\u001b[37m\u001b[0m \u001b[1m0s\u001b[0m 421us/step - loss: 239110.9844 - mae: 244.2853 - val_loss: 213261.7969 - val_mae: 237.3267\n",
      "Epoch 27/100\n",
      "\u001b[1m500/500\u001b[0m \u001b[32m━━━━━━━━━━━━━━━━━━━━\u001b[0m\u001b[37m\u001b[0m \u001b[1m0s\u001b[0m 381us/step - loss: 250820.8594 - mae: 242.6041 - val_loss: 206614.9844 - val_mae: 232.3155\n",
      "Epoch 28/100\n",
      "\u001b[1m500/500\u001b[0m \u001b[32m━━━━━━━━━━━━━━━━━━━━\u001b[0m\u001b[37m\u001b[0m \u001b[1m0s\u001b[0m 443us/step - loss: 240793.1875 - mae: 237.0216 - val_loss: 196959.9062 - val_mae: 229.5838\n",
      "Epoch 29/100\n",
      "\u001b[1m500/500\u001b[0m \u001b[32m━━━━━━━━━━━━━━━━━━━━\u001b[0m\u001b[37m\u001b[0m \u001b[1m0s\u001b[0m 377us/step - loss: 190523.5469 - mae: 225.3985 - val_loss: 170258.9844 - val_mae: 229.6215\n",
      "Epoch 30/100\n",
      "\u001b[1m500/500\u001b[0m \u001b[32m━━━━━━━━━━━━━━━━━━━━\u001b[0m\u001b[37m\u001b[0m \u001b[1m0s\u001b[0m 398us/step - loss: 234576.4219 - mae: 233.9191 - val_loss: 148590.0156 - val_mae: 204.2779\n",
      "Epoch 31/100\n",
      "\u001b[1m500/500\u001b[0m \u001b[32m━━━━━━━━━━━━━━━━━━━━\u001b[0m\u001b[37m\u001b[0m \u001b[1m0s\u001b[0m 390us/step - loss: 155606.3125 - mae: 210.9439 - val_loss: 139411.3906 - val_mae: 210.2047\n",
      "Epoch 32/100\n",
      "\u001b[1m500/500\u001b[0m \u001b[32m━━━━━━━━━━━━━━━━━━━━\u001b[0m\u001b[37m\u001b[0m \u001b[1m0s\u001b[0m 444us/step - loss: 172275.4375 - mae: 213.1828 - val_loss: 150071.4688 - val_mae: 205.5173\n",
      "Epoch 33/100\n",
      "\u001b[1m500/500\u001b[0m \u001b[32m━━━━━━━━━━━━━━━━━━━━\u001b[0m\u001b[37m\u001b[0m \u001b[1m0s\u001b[0m 436us/step - loss: 148527.1094 - mae: 207.0246 - val_loss: 143297.1250 - val_mae: 219.1432\n",
      "Epoch 34/100\n",
      "\u001b[1m500/500\u001b[0m \u001b[32m━━━━━━━━━━━━━━━━━━━━\u001b[0m\u001b[37m\u001b[0m \u001b[1m0s\u001b[0m 378us/step - loss: 159058.0938 - mae: 204.6222 - val_loss: 120955.6406 - val_mae: 193.8772\n",
      "Epoch 35/100\n",
      "\u001b[1m500/500\u001b[0m \u001b[32m━━━━━━━━━━━━━━━━━━━━\u001b[0m\u001b[37m\u001b[0m \u001b[1m0s\u001b[0m 441us/step - loss: 122061.4141 - mae: 195.6521 - val_loss: 110840.7422 - val_mae: 195.5812\n",
      "Epoch 36/100\n",
      "\u001b[1m500/500\u001b[0m \u001b[32m━━━━━━━━━━━━━━━━━━━━\u001b[0m\u001b[37m\u001b[0m \u001b[1m0s\u001b[0m 442us/step - loss: 122387.7578 - mae: 195.2943 - val_loss: 107892.4531 - val_mae: 195.0434\n",
      "Epoch 37/100\n",
      "\u001b[1m500/500\u001b[0m \u001b[32m━━━━━━━━━━━━━━━━━━━━\u001b[0m\u001b[37m\u001b[0m \u001b[1m0s\u001b[0m 377us/step - loss: 122978.3516 - mae: 193.5048 - val_loss: 121041.0625 - val_mae: 188.9921\n",
      "Epoch 38/100\n",
      "\u001b[1m500/500\u001b[0m \u001b[32m━━━━━━━━━━━━━━━━━━━━\u001b[0m\u001b[37m\u001b[0m \u001b[1m0s\u001b[0m 436us/step - loss: 134926.0000 - mae: 199.0727 - val_loss: 115700.7422 - val_mae: 190.0958\n",
      "Epoch 39/100\n",
      "\u001b[1m500/500\u001b[0m \u001b[32m━━━━━━━━━━━━━━━━━━━━\u001b[0m\u001b[37m\u001b[0m \u001b[1m0s\u001b[0m 387us/step - loss: 111528.2031 - mae: 186.8483 - val_loss: 103355.9141 - val_mae: 180.4678\n",
      "Epoch 40/100\n",
      "\u001b[1m500/500\u001b[0m \u001b[32m━━━━━━━━━━━━━━━━━━━━\u001b[0m\u001b[37m\u001b[0m \u001b[1m0s\u001b[0m 387us/step - loss: 104627.5156 - mae: 184.3033 - val_loss: 93528.5547 - val_mae: 180.0781\n",
      "Epoch 41/100\n",
      "\u001b[1m500/500\u001b[0m \u001b[32m━━━━━━━━━━━━━━━━━━━━\u001b[0m\u001b[37m\u001b[0m \u001b[1m0s\u001b[0m 375us/step - loss: 99482.5156 - mae: 181.4338 - val_loss: 97118.6094 - val_mae: 178.7413\n",
      "Epoch 42/100\n",
      "\u001b[1m500/500\u001b[0m \u001b[32m━━━━━━━━━━━━━━━━━━━━\u001b[0m\u001b[37m\u001b[0m \u001b[1m0s\u001b[0m 374us/step - loss: 93941.7891 - mae: 179.9034 - val_loss: 97473.7734 - val_mae: 182.3497\n",
      "Epoch 43/100\n",
      "\u001b[1m500/500\u001b[0m \u001b[32m━━━━━━━━━━━━━━━━━━━━\u001b[0m\u001b[37m\u001b[0m \u001b[1m0s\u001b[0m 396us/step - loss: 96861.5938 - mae: 179.8001 - val_loss: 81700.5469 - val_mae: 169.9202\n",
      "Epoch 44/100\n",
      "\u001b[1m500/500\u001b[0m \u001b[32m━━━━━━━━━━━━━━━━━━━━\u001b[0m\u001b[37m\u001b[0m \u001b[1m0s\u001b[0m 438us/step - loss: 93487.5312 - mae: 174.9816 - val_loss: 86728.5156 - val_mae: 173.6092\n",
      "Epoch 45/100\n",
      "\u001b[1m500/500\u001b[0m \u001b[32m━━━━━━━━━━━━━━━━━━━━\u001b[0m\u001b[37m\u001b[0m \u001b[1m0s\u001b[0m 377us/step - loss: 87742.3906 - mae: 173.7547 - val_loss: 103564.0547 - val_mae: 183.5945\n",
      "Epoch 46/100\n",
      "\u001b[1m500/500\u001b[0m \u001b[32m━━━━━━━━━━━━━━━━━━━━\u001b[0m\u001b[37m\u001b[0m \u001b[1m0s\u001b[0m 441us/step - loss: 80300.3906 - mae: 170.8271 - val_loss: 78602.8047 - val_mae: 175.3297\n",
      "Epoch 47/100\n",
      "\u001b[1m500/500\u001b[0m \u001b[32m━━━━━━━━━━━━━━━━━━━━\u001b[0m\u001b[37m\u001b[0m \u001b[1m0s\u001b[0m 389us/step - loss: 78434.3359 - mae: 165.3102 - val_loss: 82784.8516 - val_mae: 167.3690\n",
      "Epoch 48/100\n",
      "\u001b[1m500/500\u001b[0m \u001b[32m━━━━━━━━━━━━━━━━━━━━\u001b[0m\u001b[37m\u001b[0m \u001b[1m0s\u001b[0m 384us/step - loss: 83993.2891 - mae: 166.9594 - val_loss: 76386.7656 - val_mae: 163.6775\n",
      "Epoch 49/100\n",
      "\u001b[1m500/500\u001b[0m \u001b[32m━━━━━━━━━━━━━━━━━━━━\u001b[0m\u001b[37m\u001b[0m \u001b[1m0s\u001b[0m 381us/step - loss: 79702.4844 - mae: 165.9137 - val_loss: 75158.2109 - val_mae: 154.7705\n",
      "Epoch 50/100\n",
      "\u001b[1m500/500\u001b[0m \u001b[32m━━━━━━━━━━━━━━━━━━━━\u001b[0m\u001b[37m\u001b[0m \u001b[1m0s\u001b[0m 376us/step - loss: 72214.9297 - mae: 159.8461 - val_loss: 71394.0703 - val_mae: 157.8302\n",
      "Epoch 51/100\n",
      "\u001b[1m500/500\u001b[0m \u001b[32m━━━━━━━━━━━━━━━━━━━━\u001b[0m\u001b[37m\u001b[0m \u001b[1m0s\u001b[0m 388us/step - loss: 64591.0078 - mae: 157.7422 - val_loss: 80114.7031 - val_mae: 176.5704\n",
      "Epoch 52/100\n",
      "\u001b[1m500/500\u001b[0m \u001b[32m━━━━━━━━━━━━━━━━━━━━\u001b[0m\u001b[37m\u001b[0m \u001b[1m0s\u001b[0m 381us/step - loss: 69877.4922 - mae: 158.8290 - val_loss: 73873.9375 - val_mae: 157.0521\n",
      "Epoch 53/100\n",
      "\u001b[1m500/500\u001b[0m \u001b[32m━━━━━━━━━━━━━━━━━━━━\u001b[0m\u001b[37m\u001b[0m \u001b[1m0s\u001b[0m 426us/step - loss: 68998.7188 - mae: 159.5066 - val_loss: 100691.7031 - val_mae: 191.5808\n",
      "Epoch 54/100\n",
      "\u001b[1m500/500\u001b[0m \u001b[32m━━━━━━━━━━━━━━━━━━━━\u001b[0m\u001b[37m\u001b[0m \u001b[1m0s\u001b[0m 378us/step - loss: 75880.4844 - mae: 163.0491 - val_loss: 69117.3359 - val_mae: 155.6437\n",
      "Epoch 55/100\n",
      "\u001b[1m500/500\u001b[0m \u001b[32m━━━━━━━━━━━━━━━━━━━━\u001b[0m\u001b[37m\u001b[0m \u001b[1m0s\u001b[0m 397us/step - loss: 70522.9531 - mae: 158.2108 - val_loss: 68117.0781 - val_mae: 158.0736\n",
      "Epoch 56/100\n",
      "\u001b[1m500/500\u001b[0m \u001b[32m━━━━━━━━━━━━━━━━━━━━\u001b[0m\u001b[37m\u001b[0m \u001b[1m0s\u001b[0m 431us/step - loss: 65282.9688 - mae: 153.0836 - val_loss: 63487.6641 - val_mae: 151.7746\n",
      "Epoch 57/100\n",
      "\u001b[1m500/500\u001b[0m \u001b[32m━━━━━━━━━━━━━━━━━━━━\u001b[0m\u001b[37m\u001b[0m \u001b[1m0s\u001b[0m 426us/step - loss: 66394.8906 - mae: 153.5568 - val_loss: 58548.9961 - val_mae: 147.1631\n",
      "Epoch 58/100\n",
      "\u001b[1m500/500\u001b[0m \u001b[32m━━━━━━━━━━━━━━━━━━━━\u001b[0m\u001b[37m\u001b[0m \u001b[1m0s\u001b[0m 403us/step - loss: 67109.7656 - mae: 156.0287 - val_loss: 63327.5078 - val_mae: 146.8445\n",
      "Epoch 59/100\n",
      "\u001b[1m500/500\u001b[0m \u001b[32m━━━━━━━━━━━━━━━━━━━━\u001b[0m\u001b[37m\u001b[0m \u001b[1m0s\u001b[0m 368us/step - loss: 58382.1523 - mae: 145.7804 - val_loss: 83450.5078 - val_mae: 162.3400\n",
      "Epoch 60/100\n",
      "\u001b[1m500/500\u001b[0m \u001b[32m━━━━━━━━━━━━━━━━━━━━\u001b[0m\u001b[37m\u001b[0m \u001b[1m0s\u001b[0m 374us/step - loss: 74597.1250 - mae: 153.5833 - val_loss: 64774.7852 - val_mae: 151.7863\n",
      "Epoch 61/100\n",
      "\u001b[1m500/500\u001b[0m \u001b[32m━━━━━━━━━━━━━━━━━━━━\u001b[0m\u001b[37m\u001b[0m \u001b[1m0s\u001b[0m 424us/step - loss: 56004.8203 - mae: 147.7318 - val_loss: 60211.6836 - val_mae: 146.1750\n",
      "Epoch 62/100\n",
      "\u001b[1m500/500\u001b[0m \u001b[32m━━━━━━━━━━━━━━━━━━━━\u001b[0m\u001b[37m\u001b[0m \u001b[1m0s\u001b[0m 376us/step - loss: 59421.1641 - mae: 146.7793 - val_loss: 72144.5547 - val_mae: 155.4144\n",
      "Epoch 63/100\n",
      "\u001b[1m500/500\u001b[0m \u001b[32m━━━━━━━━━━━━━━━━━━━━\u001b[0m\u001b[37m\u001b[0m \u001b[1m0s\u001b[0m 383us/step - loss: 54759.9570 - mae: 146.1001 - val_loss: 59571.9492 - val_mae: 146.5152\n",
      "Epoch 64/100\n",
      "\u001b[1m500/500\u001b[0m \u001b[32m━━━━━━━━━━━━━━━━━━━━\u001b[0m\u001b[37m\u001b[0m \u001b[1m0s\u001b[0m 369us/step - loss: 55890.9766 - mae: 146.1678 - val_loss: 58221.0391 - val_mae: 147.9949\n",
      "Epoch 65/100\n",
      "\u001b[1m500/500\u001b[0m \u001b[32m━━━━━━━━━━━━━━━━━━━━\u001b[0m\u001b[37m\u001b[0m \u001b[1m0s\u001b[0m 426us/step - loss: 53370.5273 - mae: 142.3817 - val_loss: 57115.0781 - val_mae: 145.0788\n",
      "Epoch 66/100\n",
      "\u001b[1m500/500\u001b[0m \u001b[32m━━━━━━━━━━━━━━━━━━━━\u001b[0m\u001b[37m\u001b[0m \u001b[1m0s\u001b[0m 379us/step - loss: 60627.0977 - mae: 144.0710 - val_loss: 55369.9375 - val_mae: 138.1491\n",
      "Epoch 67/100\n",
      "\u001b[1m500/500\u001b[0m \u001b[32m━━━━━━━━━━━━━━━━━━━━\u001b[0m\u001b[37m\u001b[0m \u001b[1m0s\u001b[0m 383us/step - loss: 49239.4805 - mae: 138.9451 - val_loss: 48410.7969 - val_mae: 137.9750\n",
      "Epoch 68/100\n",
      "\u001b[1m500/500\u001b[0m \u001b[32m━━━━━━━━━━━━━━━━━━━━\u001b[0m\u001b[37m\u001b[0m \u001b[1m0s\u001b[0m 379us/step - loss: 52295.2578 - mae: 138.8807 - val_loss: 51971.3086 - val_mae: 137.3158\n",
      "Epoch 69/100\n",
      "\u001b[1m500/500\u001b[0m \u001b[32m━━━━━━━━━━━━━━━━━━━━\u001b[0m\u001b[37m\u001b[0m \u001b[1m0s\u001b[0m 370us/step - loss: 51288.1406 - mae: 138.7173 - val_loss: 90955.1016 - val_mae: 158.6688\n",
      "Epoch 70/100\n",
      "\u001b[1m500/500\u001b[0m \u001b[32m━━━━━━━━━━━━━━━━━━━━\u001b[0m\u001b[37m\u001b[0m \u001b[1m0s\u001b[0m 417us/step - loss: 58193.4414 - mae: 141.8912 - val_loss: 54159.2734 - val_mae: 145.6541\n",
      "Epoch 71/100\n",
      "\u001b[1m500/500\u001b[0m \u001b[32m━━━━━━━━━━━━━━━━━━━━\u001b[0m\u001b[37m\u001b[0m \u001b[1m0s\u001b[0m 374us/step - loss: 52678.6250 - mae: 140.0784 - val_loss: 49798.4219 - val_mae: 136.7729\n",
      "Epoch 72/100\n",
      "\u001b[1m500/500\u001b[0m \u001b[32m━━━━━━━━━━━━━━━━━━━━\u001b[0m\u001b[37m\u001b[0m \u001b[1m0s\u001b[0m 384us/step - loss: 46091.4297 - mae: 135.4870 - val_loss: 50832.3906 - val_mae: 140.3086\n",
      "Epoch 73/100\n",
      "\u001b[1m500/500\u001b[0m \u001b[32m━━━━━━━━━━━━━━━━━━━━\u001b[0m\u001b[37m\u001b[0m \u001b[1m0s\u001b[0m 371us/step - loss: 47185.3789 - mae: 135.4192 - val_loss: 51226.2109 - val_mae: 138.8902\n",
      "Epoch 74/100\n",
      "\u001b[1m500/500\u001b[0m \u001b[32m━━━━━━━━━━━━━━━━━━━━\u001b[0m\u001b[37m\u001b[0m \u001b[1m0s\u001b[0m 425us/step - loss: 46482.2930 - mae: 134.1133 - val_loss: 56834.0156 - val_mae: 145.6198\n",
      "Epoch 75/100\n",
      "\u001b[1m500/500\u001b[0m \u001b[32m━━━━━━━━━━━━━━━━━━━━\u001b[0m\u001b[37m\u001b[0m \u001b[1m0s\u001b[0m 416us/step - loss: 49296.9922 - mae: 135.2880 - val_loss: 43603.9844 - val_mae: 133.5638\n",
      "Epoch 76/100\n",
      "\u001b[1m500/500\u001b[0m \u001b[32m━━━━━━━━━━━━━━━━━━━━\u001b[0m\u001b[37m\u001b[0m \u001b[1m0s\u001b[0m 369us/step - loss: 42850.6758 - mae: 131.0960 - val_loss: 46537.0273 - val_mae: 133.8637\n",
      "Epoch 77/100\n",
      "\u001b[1m500/500\u001b[0m \u001b[32m━━━━━━━━━━━━━━━━━━━━\u001b[0m\u001b[37m\u001b[0m \u001b[1m0s\u001b[0m 413us/step - loss: 51890.5273 - mae: 134.4934 - val_loss: 48846.1836 - val_mae: 136.4975\n",
      "Epoch 78/100\n",
      "\u001b[1m500/500\u001b[0m \u001b[32m━━━━━━━━━━━━━━━━━━━━\u001b[0m\u001b[37m\u001b[0m \u001b[1m0s\u001b[0m 375us/step - loss: 47761.3984 - mae: 133.1148 - val_loss: 53091.4727 - val_mae: 149.3919\n",
      "Epoch 79/100\n",
      "\u001b[1m500/500\u001b[0m \u001b[32m━━━━━━━━━━━━━━━━━━━━\u001b[0m\u001b[37m\u001b[0m \u001b[1m0s\u001b[0m 415us/step - loss: 46723.4922 - mae: 134.3212 - val_loss: 48921.4688 - val_mae: 138.7832\n",
      "Epoch 80/100\n",
      "\u001b[1m500/500\u001b[0m \u001b[32m━━━━━━━━━━━━━━━━━━━━\u001b[0m\u001b[37m\u001b[0m \u001b[1m0s\u001b[0m 383us/step - loss: 48296.3711 - mae: 132.9881 - val_loss: 97783.0547 - val_mae: 196.5926\n",
      "Epoch 81/100\n",
      "\u001b[1m500/500\u001b[0m \u001b[32m━━━━━━━━━━━━━━━━━━━━\u001b[0m\u001b[37m\u001b[0m \u001b[1m0s\u001b[0m 424us/step - loss: 52174.2695 - mae: 140.6322 - val_loss: 48214.0820 - val_mae: 136.4939\n",
      "Epoch 82/100\n",
      "\u001b[1m500/500\u001b[0m \u001b[32m━━━━━━━━━━━━━━━━━━━━\u001b[0m\u001b[37m\u001b[0m \u001b[1m0s\u001b[0m 381us/step - loss: 44869.4766 - mae: 131.1521 - val_loss: 45822.5195 - val_mae: 133.7580\n",
      "Epoch 83/100\n",
      "\u001b[1m500/500\u001b[0m \u001b[32m━━━━━━━━━━━━━━━━━━━━\u001b[0m\u001b[37m\u001b[0m \u001b[1m0s\u001b[0m 430us/step - loss: 43341.1055 - mae: 130.8442 - val_loss: 57471.0117 - val_mae: 132.9995\n",
      "Epoch 84/100\n",
      "\u001b[1m500/500\u001b[0m \u001b[32m━━━━━━━━━━━━━━━━━━━━\u001b[0m\u001b[37m\u001b[0m \u001b[1m0s\u001b[0m 456us/step - loss: 46625.8789 - mae: 130.0109 - val_loss: 39639.7109 - val_mae: 121.1054\n",
      "Epoch 85/100\n",
      "\u001b[1m500/500\u001b[0m \u001b[32m━━━━━━━━━━━━━━━━━━━━\u001b[0m\u001b[37m\u001b[0m \u001b[1m0s\u001b[0m 387us/step - loss: 44556.5820 - mae: 129.9044 - val_loss: 52242.9609 - val_mae: 150.0068\n",
      "Epoch 86/100\n",
      "\u001b[1m500/500\u001b[0m \u001b[32m━━━━━━━━━━━━━━━━━━━━\u001b[0m\u001b[37m\u001b[0m \u001b[1m0s\u001b[0m 437us/step - loss: 40897.4336 - mae: 128.2901 - val_loss: 52192.6602 - val_mae: 136.8700\n",
      "Epoch 87/100\n",
      "\u001b[1m500/500\u001b[0m \u001b[32m━━━━━━━━━━━━━━━━━━━━\u001b[0m\u001b[37m\u001b[0m \u001b[1m0s\u001b[0m 393us/step - loss: 39449.6680 - mae: 125.6896 - val_loss: 45430.6211 - val_mae: 133.5835\n",
      "Epoch 88/100\n",
      "\u001b[1m500/500\u001b[0m \u001b[32m━━━━━━━━━━━━━━━━━━━━\u001b[0m\u001b[37m\u001b[0m \u001b[1m0s\u001b[0m 418us/step - loss: 42826.1992 - mae: 128.2322 - val_loss: 45045.2969 - val_mae: 128.3681\n",
      "Epoch 89/100\n",
      "\u001b[1m500/500\u001b[0m \u001b[32m━━━━━━━━━━━━━━━━━━━━\u001b[0m\u001b[37m\u001b[0m \u001b[1m0s\u001b[0m 383us/step - loss: 39965.6797 - mae: 126.3155 - val_loss: 42820.6758 - val_mae: 132.0703\n",
      "Epoch 90/100\n",
      "\u001b[1m500/500\u001b[0m \u001b[32m━━━━━━━━━━━━━━━━━━━━\u001b[0m\u001b[37m\u001b[0m \u001b[1m0s\u001b[0m 408us/step - loss: 48710.5430 - mae: 129.4953 - val_loss: 44728.6328 - val_mae: 133.2738\n",
      "Epoch 91/100\n",
      "\u001b[1m500/500\u001b[0m \u001b[32m━━━━━━━━━━━━━━━━━━━━\u001b[0m\u001b[37m\u001b[0m \u001b[1m0s\u001b[0m 379us/step - loss: 38776.6875 - mae: 123.1307 - val_loss: 46607.8633 - val_mae: 135.3989\n",
      "Epoch 92/100\n",
      "\u001b[1m500/500\u001b[0m \u001b[32m━━━━━━━━━━━━━━━━━━━━\u001b[0m\u001b[37m\u001b[0m \u001b[1m0s\u001b[0m 364us/step - loss: 35830.9180 - mae: 121.6596 - val_loss: 50500.4414 - val_mae: 136.9010\n",
      "Epoch 93/100\n",
      "\u001b[1m500/500\u001b[0m \u001b[32m━━━━━━━━━━━━━━━━━━━━\u001b[0m\u001b[37m\u001b[0m \u001b[1m0s\u001b[0m 397us/step - loss: 43480.2188 - mae: 128.8275 - val_loss: 39580.9805 - val_mae: 122.4066\n",
      "Epoch 94/100\n",
      "\u001b[1m500/500\u001b[0m \u001b[32m━━━━━━━━━━━━━━━━━━━━\u001b[0m\u001b[37m\u001b[0m \u001b[1m0s\u001b[0m 383us/step - loss: 39022.6250 - mae: 122.9936 - val_loss: 44342.1484 - val_mae: 128.4824\n",
      "Epoch 95/100\n",
      "\u001b[1m500/500\u001b[0m \u001b[32m━━━━━━━━━━━━━━━━━━━━\u001b[0m\u001b[37m\u001b[0m \u001b[1m0s\u001b[0m 396us/step - loss: 39084.3242 - mae: 124.0210 - val_loss: 44125.0312 - val_mae: 130.0683\n",
      "Epoch 96/100\n",
      "\u001b[1m500/500\u001b[0m \u001b[32m━━━━━━━━━━━━━━━━━━━━\u001b[0m\u001b[37m\u001b[0m \u001b[1m0s\u001b[0m 433us/step - loss: 41182.8008 - mae: 124.6281 - val_loss: 38329.6445 - val_mae: 124.2018\n",
      "Epoch 97/100\n",
      "\u001b[1m500/500\u001b[0m \u001b[32m━━━━━━━━━━━━━━━━━━━━\u001b[0m\u001b[37m\u001b[0m \u001b[1m0s\u001b[0m 379us/step - loss: 39088.9844 - mae: 124.3954 - val_loss: 39814.4961 - val_mae: 122.1923\n",
      "Epoch 98/100\n",
      "\u001b[1m500/500\u001b[0m \u001b[32m━━━━━━━━━━━━━━━━━━━━\u001b[0m\u001b[37m\u001b[0m \u001b[1m0s\u001b[0m 411us/step - loss: 42009.3008 - mae: 128.1670 - val_loss: 50412.7461 - val_mae: 140.5603\n",
      "Epoch 99/100\n",
      "\u001b[1m500/500\u001b[0m \u001b[32m━━━━━━━━━━━━━━━━━━━━\u001b[0m\u001b[37m\u001b[0m \u001b[1m0s\u001b[0m 390us/step - loss: 39808.8164 - mae: 124.6510 - val_loss: 39405.9805 - val_mae: 127.0495\n",
      "Epoch 100/100\n",
      "\u001b[1m500/500\u001b[0m \u001b[32m━━━━━━━━━━━━━━━━━━━━\u001b[0m\u001b[37m\u001b[0m \u001b[1m0s\u001b[0m 408us/step - loss: 42822.5117 - mae: 124.3844 - val_loss: 41963.5781 - val_mae: 127.8326\n",
      "Final model training complete!\n"
     ]
    }
   ],
   "source": [
    "\"Training final model with best parameters\"\n",
    "\n",
    "# Scale the full training data\n",
    "scaler = StandardScaler()\n",
    "X_train_scaled = scaler.fit_transform(X_train)\n",
    "X_test_scaled = scaler.transform(X_test)\n",
    "\n",
    "# Create final model with best params\n",
    "def create_final_model(params, input_dim):\n",
    "    model = Sequential([\n",
    "        Dense(params['hidden_size'], activation='relu', input_dim=input_dim),\n",
    "        Dense(params['hidden_size']//2, activation='relu'),\n",
    "        Dense(params['hidden_size']//4, activation='relu'),\n",
    "        Dense(1)  # Output layer for regression\n",
    "    ])\n",
    "    \n",
    "    model.compile(\n",
    "        optimizer=Adam(learning_rate=params['learning_rate']),\n",
    "        loss='mse',\n",
    "        metrics=['mae']\n",
    "    )\n",
    "    return model\n",
    "\n",
    "# Train final model\n",
    "final_model = create_final_model(best_params, X_train_scaled.shape[1])\n",
    "\n",
    "history = final_model.fit(\n",
    "    X_train_scaled, y_train,\n",
    "    epochs=best_params['epochs'],\n",
    "    batch_size=best_params['batch_size'],\n",
    "    validation_split=0.2,  # Use 20% of training data for monitoring\n",
    "    verbose=1,\n",
    "    callbacks=[tf.keras.callbacks.EarlyStopping(patience=15, restore_best_weights=True)]\n",
    ")\n",
    "\n",
    "print(\"Final model training complete!\")"
   ]
  },
  {
   "cell_type": "code",
   "execution_count": 11,
   "id": "d1f8bbc6",
   "metadata": {},
   "outputs": [
    {
     "data": {
      "text/html": [
       "<pre style=\"white-space:pre;overflow-x:auto;line-height:normal;font-family:Menlo,'DejaVu Sans Mono',consolas,'Courier New',monospace\"><span style=\"font-weight: bold\">Model: \"sequential_15\"</span>\n",
       "</pre>\n"
      ],
      "text/plain": [
       "\u001b[1mModel: \"sequential_15\"\u001b[0m\n"
      ]
     },
     "metadata": {},
     "output_type": "display_data"
    },
    {
     "data": {
      "text/html": [
       "<pre style=\"white-space:pre;overflow-x:auto;line-height:normal;font-family:Menlo,'DejaVu Sans Mono',consolas,'Courier New',monospace\">┏━━━━━━━━━━━━━━━━━━━━━━━━━━━━━━━━━┳━━━━━━━━━━━━━━━━━━━━━━━━┳━━━━━━━━━━━━━━━┓\n",
       "┃<span style=\"font-weight: bold\"> Layer (type)                    </span>┃<span style=\"font-weight: bold\"> Output Shape           </span>┃<span style=\"font-weight: bold\">       Param # </span>┃\n",
       "┡━━━━━━━━━━━━━━━━━━━━━━━━━━━━━━━━━╇━━━━━━━━━━━━━━━━━━━━━━━━╇━━━━━━━━━━━━━━━┩\n",
       "│ dense_60 (<span style=\"color: #0087ff; text-decoration-color: #0087ff\">Dense</span>)                │ (<span style=\"color: #00d7ff; text-decoration-color: #00d7ff\">None</span>, <span style=\"color: #00af00; text-decoration-color: #00af00\">64</span>)             │         <span style=\"color: #00af00; text-decoration-color: #00af00\">1,664</span> │\n",
       "├─────────────────────────────────┼────────────────────────┼───────────────┤\n",
       "│ dense_61 (<span style=\"color: #0087ff; text-decoration-color: #0087ff\">Dense</span>)                │ (<span style=\"color: #00d7ff; text-decoration-color: #00d7ff\">None</span>, <span style=\"color: #00af00; text-decoration-color: #00af00\">32</span>)             │         <span style=\"color: #00af00; text-decoration-color: #00af00\">2,080</span> │\n",
       "├─────────────────────────────────┼────────────────────────┼───────────────┤\n",
       "│ dense_62 (<span style=\"color: #0087ff; text-decoration-color: #0087ff\">Dense</span>)                │ (<span style=\"color: #00d7ff; text-decoration-color: #00d7ff\">None</span>, <span style=\"color: #00af00; text-decoration-color: #00af00\">16</span>)             │           <span style=\"color: #00af00; text-decoration-color: #00af00\">528</span> │\n",
       "├─────────────────────────────────┼────────────────────────┼───────────────┤\n",
       "│ dense_63 (<span style=\"color: #0087ff; text-decoration-color: #0087ff\">Dense</span>)                │ (<span style=\"color: #00d7ff; text-decoration-color: #00d7ff\">None</span>, <span style=\"color: #00af00; text-decoration-color: #00af00\">1</span>)              │            <span style=\"color: #00af00; text-decoration-color: #00af00\">17</span> │\n",
       "└─────────────────────────────────┴────────────────────────┴───────────────┘\n",
       "</pre>\n"
      ],
      "text/plain": [
       "┏━━━━━━━━━━━━━━━━━━━━━━━━━━━━━━━━━┳━━━━━━━━━━━━━━━━━━━━━━━━┳━━━━━━━━━━━━━━━┓\n",
       "┃\u001b[1m \u001b[0m\u001b[1mLayer (type)                   \u001b[0m\u001b[1m \u001b[0m┃\u001b[1m \u001b[0m\u001b[1mOutput Shape          \u001b[0m\u001b[1m \u001b[0m┃\u001b[1m \u001b[0m\u001b[1m      Param #\u001b[0m\u001b[1m \u001b[0m┃\n",
       "┡━━━━━━━━━━━━━━━━━━━━━━━━━━━━━━━━━╇━━━━━━━━━━━━━━━━━━━━━━━━╇━━━━━━━━━━━━━━━┩\n",
       "│ dense_60 (\u001b[38;5;33mDense\u001b[0m)                │ (\u001b[38;5;45mNone\u001b[0m, \u001b[38;5;34m64\u001b[0m)             │         \u001b[38;5;34m1,664\u001b[0m │\n",
       "├─────────────────────────────────┼────────────────────────┼───────────────┤\n",
       "│ dense_61 (\u001b[38;5;33mDense\u001b[0m)                │ (\u001b[38;5;45mNone\u001b[0m, \u001b[38;5;34m32\u001b[0m)             │         \u001b[38;5;34m2,080\u001b[0m │\n",
       "├─────────────────────────────────┼────────────────────────┼───────────────┤\n",
       "│ dense_62 (\u001b[38;5;33mDense\u001b[0m)                │ (\u001b[38;5;45mNone\u001b[0m, \u001b[38;5;34m16\u001b[0m)             │           \u001b[38;5;34m528\u001b[0m │\n",
       "├─────────────────────────────────┼────────────────────────┼───────────────┤\n",
       "│ dense_63 (\u001b[38;5;33mDense\u001b[0m)                │ (\u001b[38;5;45mNone\u001b[0m, \u001b[38;5;34m1\u001b[0m)              │            \u001b[38;5;34m17\u001b[0m │\n",
       "└─────────────────────────────────┴────────────────────────┴───────────────┘\n"
      ]
     },
     "metadata": {},
     "output_type": "display_data"
    },
    {
     "data": {
      "text/html": [
       "<pre style=\"white-space:pre;overflow-x:auto;line-height:normal;font-family:Menlo,'DejaVu Sans Mono',consolas,'Courier New',monospace\"><span style=\"font-weight: bold\"> Total params: </span><span style=\"color: #00af00; text-decoration-color: #00af00\">12,869</span> (50.27 KB)\n",
       "</pre>\n"
      ],
      "text/plain": [
       "\u001b[1m Total params: \u001b[0m\u001b[38;5;34m12,869\u001b[0m (50.27 KB)\n"
      ]
     },
     "metadata": {},
     "output_type": "display_data"
    },
    {
     "data": {
      "text/html": [
       "<pre style=\"white-space:pre;overflow-x:auto;line-height:normal;font-family:Menlo,'DejaVu Sans Mono',consolas,'Courier New',monospace\"><span style=\"font-weight: bold\"> Trainable params: </span><span style=\"color: #00af00; text-decoration-color: #00af00\">4,289</span> (16.75 KB)\n",
       "</pre>\n"
      ],
      "text/plain": [
       "\u001b[1m Trainable params: \u001b[0m\u001b[38;5;34m4,289\u001b[0m (16.75 KB)\n"
      ]
     },
     "metadata": {},
     "output_type": "display_data"
    },
    {
     "data": {
      "text/html": [
       "<pre style=\"white-space:pre;overflow-x:auto;line-height:normal;font-family:Menlo,'DejaVu Sans Mono',consolas,'Courier New',monospace\"><span style=\"font-weight: bold\"> Non-trainable params: </span><span style=\"color: #00af00; text-decoration-color: #00af00\">0</span> (0.00 B)\n",
       "</pre>\n"
      ],
      "text/plain": [
       "\u001b[1m Non-trainable params: \u001b[0m\u001b[38;5;34m0\u001b[0m (0.00 B)\n"
      ]
     },
     "metadata": {},
     "output_type": "display_data"
    },
    {
     "data": {
      "text/html": [
       "<pre style=\"white-space:pre;overflow-x:auto;line-height:normal;font-family:Menlo,'DejaVu Sans Mono',consolas,'Courier New',monospace\"><span style=\"font-weight: bold\"> Optimizer params: </span><span style=\"color: #00af00; text-decoration-color: #00af00\">8,580</span> (33.52 KB)\n",
       "</pre>\n"
      ],
      "text/plain": [
       "\u001b[1m Optimizer params: \u001b[0m\u001b[38;5;34m8,580\u001b[0m (33.52 KB)\n"
      ]
     },
     "metadata": {},
     "output_type": "display_data"
    }
   ],
   "source": [
    "\"Newtwork summary and size\"\n",
    "final_model.summary()"
   ]
  },
  {
   "cell_type": "code",
   "execution_count": 12,
   "id": "cc370d28",
   "metadata": {},
   "outputs": [
    {
     "name": "stdout",
     "output_type": "stream",
     "text": [
      "   Final test results:\n",
      "   Mean Squared Error (MSE): 40951.0903\n",
      "   Root Mean Squared Error (RMSE): 202.3638\n",
      "   Mean Absolute Error (MAE): 124.0420\n",
      "   R² Score: 0.9998\n",
      "   Comparison:\n",
      "   Cross-Validation RMSE: 194.6290\n",
      "   Final Test RMSE: 202.3638\n",
      "   Difference: 7.7348\n"
     ]
    },
    {
     "data": {
      "image/png": "[encoded data removed]",
      "text/plain": [
       "<Figure size 1000x600 with 1 Axes>"
      ]
     },
     "metadata": {},
     "output_type": "display_data"
    }
   ],
   "source": [
    "\"Evaluate final model on test set\"\n",
    "\n",
    "# Make predictions on test set\n",
    "test_predictions = final_model.predict(X_test_scaled, verbose=0)\n",
    "\n",
    "# Calculate metrics\n",
    "mse = mean_squared_error(y_test, test_predictions)\n",
    "rmse = np.sqrt(mse)\n",
    "mae = mean_absolute_error(y_test, test_predictions)\n",
    "r2 = r2_score(y_test, test_predictions)\n",
    "\n",
    "# Print results\n",
    "print(f\"   Final test results:\")\n",
    "print(f\"   Mean Squared Error (MSE): {mse:.4f}\")\n",
    "print(f\"   Root Mean Squared Error (RMSE): {rmse:.4f}\")\n",
    "print(f\"   Mean Absolute Error (MAE): {mae:.4f}\")\n",
    "print(f\"   R² Score: {r2:.4f}\")\n",
    "\n",
    "print(f\"   Comparison:\")\n",
    "print(f\"   Cross-Validation RMSE: {np.sqrt(best_score):.4f}\")\n",
    "print(f\"   Final Test RMSE: {rmse:.4f}\")\n",
    "print(f\"   Difference: {abs(rmse - np.sqrt(best_score)):.4f}\")\n",
    "\n",
    "# Plot (predictions vs actual)\n",
    "plt.figure(figsize=(10, 6))\n",
    "plt.scatter(y_test, test_predictions, alpha=0.6, color='blue')\n",
    "plt.plot([y_test.min(), y_test.max()], [y_test.min(), y_test.max()], 'r--', lw=2)\n",
    "plt.xlabel('Actual Price')\n",
    "plt.ylabel('Predicted Price')\n",
    "plt.title('Final Model: Actual vs Predicted Prices')\n",
    "plt.grid(True, alpha=0.3)\n",
    "plt.show()"
   ]
  },
  {
   "cell_type": "code",
   "execution_count": 13,
   "id": "16c451e7",
   "metadata": {},
   "outputs": [],
   "source": [
    "\"Save model\"\n",
    "\n",
    "#Metadata\n",
    "model_info = {\n",
    "    'best_params': best_params,\n",
    "    'best_score': best_score,\n",
    "    'feature_names': list(X_train.columns),\n",
    "    'model_type': 'neural_network'\n",
    "}\n",
    "\n",
    "joblib.dump({\n",
    "    'model': final_model,\n",
    "    'scaler': scaler,\n",
    "    'feature_names': list(X_train.columns),\n",
    "    'metadata': model_info\n",
    "}, 'NN_model.joblib')\n",
    "\n",
    "# Load\n",
    "loaded = joblib.load('NN_model.joblib')\n",
    "model = loaded['model']\n",
    "scaler = loaded['scaler']"
   ]
  },
  {
   "cell_type": "code",
   "execution_count": 14,
   "id": "a85bee94",
   "metadata": {},
   "outputs": [],
   "source": [
    "\"Function to predict on new data\"\n",
    "def predict_price(new_data):    \n",
    "    new_data_scaled = scaler.transform(new_data)\n",
    "    prediction = model.predict(new_data_scaled)\n",
    "    return prediction[0][0]"
   ]
  },
  {
   "cell_type": "code",
   "execution_count": 15,
   "id": "fa828a28",
   "metadata": {},
   "outputs": [],
   "source": [
    "\"Example\"\n",
    "new_car_data = pd.DataFrame({\n",
    "    'Make': ['Toyota'],\n",
    "    'Model': ['Camry'],\n",
    "    'Year': [2023],\n",
    "    'Mileage': [25000],\n",
    "    'Engine_Size': [2.5],\n",
    "})"
   ]
  },
  {
   "cell_type": "code",
   "execution_count": 16,
   "id": "954d4202",
   "metadata": {},
   "outputs": [
    {
     "name": "stdout",
     "output_type": "stream",
     "text": [
      "Sample 1:\n",
      "  Predicted Price: $28,700.17\n",
      "  Actual Price:    $28,636.00\n",
      "  Error:           $64.17\n",
      "\n",
      "Sample 2:\n",
      "  Predicted Price: $59,913.82\n",
      "  Actual Price:    $59,783.00\n",
      "  Error:           $130.82\n",
      "\n",
      "Sample 3:\n",
      "  Predicted Price: $14,931.31\n",
      "  Actual Price:    $14,865.00\n",
      "  Error:           $66.31\n",
      "\n",
      "Sample 4:\n",
      "  Predicted Price: $2,056.83\n",
      "  Actual Price:    $2,219.00\n",
      "  Error:           $162.17\n",
      "\n",
      "Sample 5:\n",
      "  Predicted Price: $1,076.70\n",
      "  Actual Price:    $1,001.00\n",
      "  Error:           $75.70\n",
      "\n"
     ]
    },
    {
     "name": "stderr",
     "output_type": "stream",
     "text": [
      "/opt/anaconda3/lib/python3.12/site-packages/sklearn/base.py:493: UserWarning: X does not have valid feature names, but StandardScaler was fitted with feature names\n",
      "  warnings.warn(\n",
      "/opt/anaconda3/lib/python3.12/site-packages/sklearn/base.py:493: UserWarning: X does not have valid feature names, but StandardScaler was fitted with feature names\n",
      "  warnings.warn(\n",
      "/opt/anaconda3/lib/python3.12/site-packages/sklearn/base.py:493: UserWarning: X does not have valid feature names, but StandardScaler was fitted with feature names\n",
      "  warnings.warn(\n",
      "/opt/anaconda3/lib/python3.12/site-packages/sklearn/base.py:493: UserWarning: X does not have valid feature names, but StandardScaler was fitted with feature names\n",
      "  warnings.warn(\n",
      "/opt/anaconda3/lib/python3.12/site-packages/sklearn/base.py:493: UserWarning: X does not have valid feature names, but StandardScaler was fitted with feature names\n",
      "  warnings.warn(\n"
     ]
    }
   ],
   "source": [
    "\"Test prediction on samples from test set\"\n",
    "sample_new_data = X_test.iloc[:5].copy()  # Test samples\n",
    "actual_prices = y_test.iloc[:5].copy()    # Actual prices (for comparison)\n",
    "\n",
    "for i in range(len(sample_new_data)):\n",
    "    sample_scaled = scaler.transform([sample_new_data.iloc[i]])\n",
    "\n",
    "    # Make prediction\n",
    "    predicted_price = model.predict(sample_scaled, verbose=0)[0][0]\n",
    "    actual_price = actual_prices.iloc[i]\n",
    "    \n",
    "\n",
    "    print(f\"Sample {i+1}:\")\n",
    "    print(f\"  Predicted Price: ${predicted_price:,.2f}\")\n",
    "    print(f\"  Actual Price:    ${actual_price:,.2f}\")\n",
    "    print(f\"  Error:           ${abs(predicted_price - actual_price):,.2f}\\n\")\n",
    "    #print(f\"Sample {i+1}:\")\n",
    "    #print(f\"  Predicted Price: ${predicted_price:.2f}\")\n",
    "    #print(f\"  Actual Price: ${actual_price:.2f}\")\n",
    "    #print(f\"  Error: ${abs(predicted_price - actual_price):.2f}\")\n",
    "    #print()"
   ]
  },
  {
   "cell_type": "code",
   "execution_count": 17,
   "id": "9db780fb",
   "metadata": {},
   "outputs": [
    {
     "name": "stdout",
     "output_type": "stream",
     "text": [
      "  Processed 1/25 features...\n",
      "  Processed 11/25 features...\n",
      "  Processed 21/25 features...\n"
     ]
    },
    {
     "data": {
      "image/png": "[encoded data removed]",
      "text/plain": [
       "<Figure size 1200x800 with 1 Axes>"
      ]
     },
     "metadata": {},
     "output_type": "display_data"
    }
   ],
   "source": [
    "\"Feature importance by permutation\"\n",
    "baseline_predictions = final_model.predict(X_test_scaled, verbose=0).flatten()\n",
    "baseline_mse = mean_squared_error(y_test, baseline_predictions)\n",
    "\n",
    "# Calculate importance for each feature\n",
    "feature_importance_scores = []\n",
    "\n",
    "for i, feature_name in enumerate(X_train.columns):\n",
    "    X_test_permuted = X_test_scaled.copy()\n",
    "    np.random.seed(42)\n",
    "    X_test_permuted[:, i] = np.random.permutation(X_test_permuted[:, i])\n",
    "    permuted_predictions = final_model.predict(X_test_permuted, verbose=0).flatten()\n",
    "    permuted_mse = mean_squared_error(y_test, permuted_predictions)\n",
    "    \n",
    "    # Calculate importance \n",
    "    importance = permuted_mse - baseline_mse\n",
    "    feature_importance_scores.append(importance)\n",
    "    \n",
    "    if i % 10 == 0: \n",
    "        print(f\"  Processed {i+1}/{len(X_train.columns)} features...\")\n",
    "\n",
    "feature_importance_df = pd.DataFrame({\n",
    "    'Feature': X_train.columns,\n",
    "    'Importance': feature_importance_scores\n",
    "})\n",
    "\n",
    "def group_feature_importance(df):\n",
    "    grouped_importance = {}\n",
    "    \n",
    "    for _, row in df.iterrows():\n",
    "        feature_name = row['Feature']\n",
    "        importance = row['Importance']\n",
    "        \n",
    "        if feature_name.startswith('Manufacturer_'):\n",
    "            category = 'Manufacturer'\n",
    "        elif feature_name.startswith('Model_'):\n",
    "            category = 'Model'\n",
    "        elif feature_name.startswith('Fuel type_'):\n",
    "            category = 'Fuel type'\n",
    "        else:\n",
    "            category = feature_name\n",
    "        if category in grouped_importance:\n",
    "            grouped_importance[category] += importance\n",
    "        else:\n",
    "            grouped_importance[category] = importance\n",
    "    \n",
    "    return grouped_importance\n",
    "\n",
    "# Group features\n",
    "grouped_scores = group_feature_importance(feature_importance_df)\n",
    "\n",
    "# Sort\n",
    "sort_descending = True \n",
    "\n",
    "grouped_df = pd.DataFrame(list(grouped_scores.items()), \n",
    "                         columns=['Feature', 'Importance']).sort_values('Importance', ascending=True)\n",
    "\n",
    "# Plot top 10 features\n",
    "plt.figure(figsize=(12, 8))\n",
    "top_features = grouped_df.head(10)  # Top 10 grouped features\n",
    "\n",
    "plt.barh(range(len(top_features)), top_features['Importance'], \n",
    "         color='#FF8C00', alpha=0.8)  # Orange color\n",
    "\n",
    "# Labels\n",
    "plt.yticks(range(len(top_features)), top_features['Feature'])\n",
    "plt.xlabel('Importance')\n",
    "\n",
    "sort_label = \"Descending\" if sort_descending else \"Ascending\"\n",
    "plt.title(f'Top 10 Feature Importance ({sort_label})\\nActual Price')\n",
    "\n",
    "if sort_descending:\n",
    "    plt.gca().invert_yaxis()\n",
    "\n",
    "plt.grid(True, alpha=0.3, axis='x')\n",
    "plt.tight_layout()\n",
    "plt.show()"
   ]
  },
  {
   "cell_type": "code",
   "execution_count": 18,
   "id": "a3385050",
   "metadata": {},
   "outputs": [
    {
     "data": {
      "application/vnd.jupyter.widget-view+json": {
       "model_id": "708c23c911bc48ef896daf1a698c075a",
       "version_major": 2,
       "version_minor": 0
      },
      "text/plain": [
       "  0%|          | 0/10 [00:00<?, ?it/s]"
      ]
     },
     "metadata": {},
     "output_type": "display_data"
    },
    {
     "name": "stdout",
     "output_type": "stream",
     "text": [
      "Top 10 Features by SHAP:\n",
      "                 Feature  SHAP_Importance\n",
      "2                Mileage      6163.466793\n",
      "1    Year of manufacture      5311.753322\n",
      "3                Car_Age      5049.555793\n",
      "14              Model_M5      4795.985282\n",
      "0            Engine size      3034.081270\n",
      "19            Model_RAV4      1333.300089\n",
      "6   Manufacturer_Porsche      1250.453776\n",
      "15          Model_Mondeo      1072.750649\n",
      "23      Fuel type_Hybrid       921.355307\n",
      "12           Model_Focus       753.043620\n"
     ]
    }
   ],
   "source": [
    "\"SHAP\"\n",
    "# Use smaller sample for faster computation\n",
    "n_background = 50  # Background samples\n",
    "n_explain = 10     # Samples to explain\n",
    "\n",
    "# Create wrapper function\n",
    "def model_predict_shap(X):\n",
    "    return final_model.predict(X, verbose=0).flatten()\n",
    "\n",
    "# Use KernelExplainer instead of DeepExplainer\n",
    "explainer = shap.KernelExplainer(model_predict_shap, X_train_scaled[:n_background])\n",
    "shap_values = explainer.shap_values(X_test_scaled[:n_explain])\n",
    "\n",
    "# Simple feature importance from SHAP\n",
    "feature_importance = np.mean(np.abs(shap_values), axis=0)\n",
    "shap_df = pd.DataFrame({\n",
    "    'Feature': X_train.columns,\n",
    "    'SHAP_Importance': feature_importance\n",
    "}).sort_values('SHAP_Importance', ascending=False)\n",
    "\n",
    "print(\"Top 10 Features by SHAP:\")\n",
    "print(shap_df.head(10))"
   ]
  }
 ],
 "metadata": {
  "kernelspec": {
   "display_name": "base",
   "language": "python",
   "name": "python3"
  },
  "language_info": {
   "codemirror_mode": {
    "name": "ipython",
    "version": 3
   },
   "file_extension": ".py",
   "mimetype": "text/x-python",
   "name": "python",
   "nbconvert_exporter": "python",
   "pygments_lexer": "ipython3",
   "version": "3.12.7"
  }
 },
 "nbformat": 4,
 "nbformat_minor": 5
}
