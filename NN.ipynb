{
 "cells": [
  {
   "cell_type": "markdown",
   "id": "71dff673",
   "metadata": {},
   "source": [
    "# Neural Network"
   ]
  },
  {
   "cell_type": "code",
   "execution_count": 5,
   "id": "cef21bc3",
   "metadata": {},
   "outputs": [],
   "source": [
    "import pandas as pd\n",
    "import numpy as np\n",
    "import joblib\n",
    "import shap\n",
    "import matplotlib.pyplot as plt\n",
    "\n",
    "from sklearn.model_selection import train_test_split\n",
    "from sklearn.preprocessing import StandardScaler\n",
    "from sklearn.model_selection import KFold\n",
    "from sklearn.metrics import mean_absolute_error, mean_squared_error, r2_score\n",
    "\n",
    "import tensorflow as tf\n",
    "from tensorflow.keras.models import Sequential\n",
    "from tensorflow.keras.layers import Dense\n",
    "from tensorflow.keras.optimizers import Adam\n",
    "from tensorflow.keras.callbacks import EarlyStopping\n",
    "\n",
    "\n"
   ]
  },
  {
   "cell_type": "code",
   "execution_count": 6,
   "id": "90463348",
   "metadata": {},
   "outputs": [],
   "source": [
    "\"Read in clean-data\"\n",
    "df = pd.read_csv(\"clean_df.csv\")"
   ]
  },
  {
   "cell_type": "code",
   "execution_count": 7,
   "id": "8c063701",
   "metadata": {},
   "outputs": [],
   "source": [
    "\"Configure features and target\"\n",
    "# Define target column\n",
    "target_col = \"Price\"\n",
    "\n",
    "# Split features/target\n",
    "x = df.drop(columns=[target_col])\n",
    "y = df[target_col].astype(float)"
   ]
  },
  {
   "cell_type": "code",
   "execution_count": 8,
   "id": "8051672b",
   "metadata": {},
   "outputs": [],
   "source": [
    "\"Configure features and target\"\n",
    "# Define target column\n",
    "target_col = \"Price\"\n",
    "\n",
    "# Split features/target\n",
    "x = df.drop(columns=[target_col])\n",
    "y = df[target_col].astype(float)"
   ]
  },
  {
   "cell_type": "code",
   "execution_count": 9,
   "id": "c9a2f800",
   "metadata": {},
   "outputs": [],
   "source": [
    "\"Split data into training and test sets\"\n",
    "# Split: 80% train, 20% test\n",
    "X_train, X_test, y_train, y_test = train_test_split(\n",
    "    x, y, test_size=0.2, random_state=42\n",
    ")"
   ]
  },
  {
   "cell_type": "code",
   "execution_count": 10,
   "id": "70699031",
   "metadata": {},
   "outputs": [
    {
     "name": "stdout",
     "output_type": "stream",
     "text": [
      "Original X_train shape: (39990, 7)\n",
      "Data types:\n",
      "Manufacturer            object\n",
      "Model                   object\n",
      "Engine size            float64\n",
      "Fuel type               object\n",
      "Year of manufacture      int64\n",
      "Mileage                  int64\n",
      "Car Age                  int64\n",
      "dtype: object\n"
     ]
    }
   ],
   "source": [
    "\"Preprocess data\"\n",
    "print(f\"Original X_train shape: {X_train.shape}\")\n",
    "print(f\"Data types:\\n{X_train.dtypes}\")\n",
    "\n",
    "\n",
    "# One-hot encoding for categorical variables\n",
    "X_train_processed = pd.get_dummies(X_train, drop_first=True)\n",
    "X_test_processed = pd.get_dummies(X_test, drop_first=True)\n",
    "\n",
    "# Update variables for cross-validation\n",
    "X_train = X_train_processed\n",
    "X_test = X_test_processed"
   ]
  },
  {
   "cell_type": "code",
   "execution_count": 11,
   "id": "532f8362",
   "metadata": {},
   "outputs": [],
   "source": [
    "\"Cross-validation setup\"\n",
    "k_folds = 5 # Number of folds\n",
    "kf = KFold(n_splits=k_folds, shuffle=True, random_state=42)\n",
    "\n",
    "# Define parameter grid to test \n",
    "param_combinations = [\n",
    "    {'learning_rate': 0.001, 'batch_size': 32, 'epochs': 50, 'hidden_size': 64},\n",
    "    {'learning_rate': 0.01, 'batch_size': 32, 'epochs': 50, 'hidden_size': 128},\n",
    "    {'learning_rate': 0.001, 'batch_size': 64, 'epochs': 100, 'hidden_size': 64},\n",
    "]"
   ]
  },
  {
   "cell_type": "code",
   "execution_count": 12,
   "id": "da498ad0",
   "metadata": {},
   "outputs": [],
   "source": [
    "\"Cross-validation function\"\n",
    "def cv_params(X_train, y_train, param_list, k_folds=5):\n",
    "    \"\"\"Cross-validation for neural network hyperparameters\"\"\"\n",
    "    kf = KFold(n_splits=k_folds, shuffle=True, random_state=42)\n",
    "    best_score, best_params = float('inf'), None\n",
    "    \n",
    "    for i, params in enumerate(param_list):\n",
    "        print(f\"\\nTesting {i+1}/{len(param_list)}: {params}\")\n",
    "        scores = []\n",
    "        \n",
    "        # Split and scale data\n",
    "        for fold, (train_idx, val_idx) in enumerate(kf.split(X_train)):\n",
    "            scaler = StandardScaler()\n",
    "            X_tr = scaler.fit_transform(X_train.iloc[train_idx])\n",
    "            X_val = scaler.transform(X_train.iloc[val_idx])\n",
    "            y_tr, y_val = y_train.iloc[train_idx], y_train.iloc[val_idx]\n",
    "            \n",
    "            # Build model\n",
    "            model = Sequential([\n",
    "                Dense(params['hidden_size'], activation='relu', input_dim=X_tr.shape[1]),\n",
    "                Dense(params['hidden_size']//2, activation='relu'),\n",
    "                Dense(params['hidden_size']//4, activation='relu'),\n",
    "                Dense(1)\n",
    "            ])\n",
    "            model.compile(optimizer=Adam(learning_rate=params['learning_rate']), loss='mse')\n",
    "            \n",
    "            # Train\n",
    "            model.fit(X_tr, y_tr, epochs=params['epochs'], batch_size=params['batch_size'],\n",
    "                     validation_data=(X_val, y_val), verbose=0,\n",
    "                     callbacks=[EarlyStopping(patience=10, restore_best_weights=True)])\n",
    "            \n",
    "            # Evaluate\n",
    "            score = mean_squared_error(y_val, model.predict(X_val, verbose=0))\n",
    "            scores.append(score)\n",
    "            print(f\"  Fold {fold+1}: {score:.4f}\")\n",
    "        \n",
    "        # Track best\n",
    "        avg_score = np.mean(scores)\n",
    "        print(f\"  Average: {avg_score:.4f} ± {np.std(scores):.4f}\")\n",
    "        \n",
    "        if avg_score < best_score:\n",
    "            best_score, best_params = avg_score, params\n",
    "    \n",
    "    print(f\"Best: {best_params} (MSE: {best_score:.4f})\")\n",
    "    return best_params, best_score, []"
   ]
  },
  {
   "cell_type": "code",
   "execution_count": 13,
   "id": "6de9cf2e",
   "metadata": {},
   "outputs": [
    {
     "name": "stdout",
     "output_type": "stream",
     "text": [
      "\n",
      "Testing 1/3: {'learning_rate': 0.001, 'batch_size': 32, 'epochs': 50, 'hidden_size': 64}\n"
     ]
    },
    {
     "name": "stderr",
     "output_type": "stream",
     "text": [
      "c:\\Users\\Georg\\AppData\\Local\\Programs\\Python\\Python312\\Lib\\site-packages\\keras\\src\\layers\\core\\dense.py:92: UserWarning: Do not pass an `input_shape`/`input_dim` argument to a layer. When using Sequential models, prefer using an `Input(shape)` object as the first layer in the model instead.\n",
      "  super().__init__(activity_regularizer=activity_regularizer, **kwargs)\n"
     ]
    },
    {
     "name": "stdout",
     "output_type": "stream",
     "text": [
      "  Fold 1: 43775.5730\n"
     ]
    },
    {
     "name": "stderr",
     "output_type": "stream",
     "text": [
      "c:\\Users\\Georg\\AppData\\Local\\Programs\\Python\\Python312\\Lib\\site-packages\\keras\\src\\layers\\core\\dense.py:92: UserWarning: Do not pass an `input_shape`/`input_dim` argument to a layer. When using Sequential models, prefer using an `Input(shape)` object as the first layer in the model instead.\n",
      "  super().__init__(activity_regularizer=activity_regularizer, **kwargs)\n"
     ]
    },
    {
     "name": "stdout",
     "output_type": "stream",
     "text": [
      "  Fold 2: 54282.8195\n"
     ]
    },
    {
     "name": "stderr",
     "output_type": "stream",
     "text": [
      "c:\\Users\\Georg\\AppData\\Local\\Programs\\Python\\Python312\\Lib\\site-packages\\keras\\src\\layers\\core\\dense.py:92: UserWarning: Do not pass an `input_shape`/`input_dim` argument to a layer. When using Sequential models, prefer using an `Input(shape)` object as the first layer in the model instead.\n",
      "  super().__init__(activity_regularizer=activity_regularizer, **kwargs)\n"
     ]
    },
    {
     "name": "stdout",
     "output_type": "stream",
     "text": [
      "  Fold 3: 44828.5188\n"
     ]
    },
    {
     "name": "stderr",
     "output_type": "stream",
     "text": [
      "c:\\Users\\Georg\\AppData\\Local\\Programs\\Python\\Python312\\Lib\\site-packages\\keras\\src\\layers\\core\\dense.py:92: UserWarning: Do not pass an `input_shape`/`input_dim` argument to a layer. When using Sequential models, prefer using an `Input(shape)` object as the first layer in the model instead.\n",
      "  super().__init__(activity_regularizer=activity_regularizer, **kwargs)\n"
     ]
    },
    {
     "name": "stdout",
     "output_type": "stream",
     "text": [
      "  Fold 4: 51814.0049\n"
     ]
    },
    {
     "name": "stderr",
     "output_type": "stream",
     "text": [
      "c:\\Users\\Georg\\AppData\\Local\\Programs\\Python\\Python312\\Lib\\site-packages\\keras\\src\\layers\\core\\dense.py:92: UserWarning: Do not pass an `input_shape`/`input_dim` argument to a layer. When using Sequential models, prefer using an `Input(shape)` object as the first layer in the model instead.\n",
      "  super().__init__(activity_regularizer=activity_regularizer, **kwargs)\n"
     ]
    },
    {
     "name": "stdout",
     "output_type": "stream",
     "text": [
      "  Fold 5: 42706.4917\n",
      "  Average: 47481.4816 ± 4660.5033\n",
      "\n",
      "Testing 2/3: {'learning_rate': 0.01, 'batch_size': 32, 'epochs': 50, 'hidden_size': 128}\n"
     ]
    },
    {
     "name": "stderr",
     "output_type": "stream",
     "text": [
      "c:\\Users\\Georg\\AppData\\Local\\Programs\\Python\\Python312\\Lib\\site-packages\\keras\\src\\layers\\core\\dense.py:92: UserWarning: Do not pass an `input_shape`/`input_dim` argument to a layer. When using Sequential models, prefer using an `Input(shape)` object as the first layer in the model instead.\n",
      "  super().__init__(activity_regularizer=activity_regularizer, **kwargs)\n"
     ]
    },
    {
     "name": "stdout",
     "output_type": "stream",
     "text": [
      "  Fold 1: 103556.6909\n"
     ]
    },
    {
     "name": "stderr",
     "output_type": "stream",
     "text": [
      "c:\\Users\\Georg\\AppData\\Local\\Programs\\Python\\Python312\\Lib\\site-packages\\keras\\src\\layers\\core\\dense.py:92: UserWarning: Do not pass an `input_shape`/`input_dim` argument to a layer. When using Sequential models, prefer using an `Input(shape)` object as the first layer in the model instead.\n",
      "  super().__init__(activity_regularizer=activity_regularizer, **kwargs)\n"
     ]
    },
    {
     "name": "stdout",
     "output_type": "stream",
     "text": [
      "  Fold 2: 166188.9858\n"
     ]
    },
    {
     "name": "stderr",
     "output_type": "stream",
     "text": [
      "c:\\Users\\Georg\\AppData\\Local\\Programs\\Python\\Python312\\Lib\\site-packages\\keras\\src\\layers\\core\\dense.py:92: UserWarning: Do not pass an `input_shape`/`input_dim` argument to a layer. When using Sequential models, prefer using an `Input(shape)` object as the first layer in the model instead.\n",
      "  super().__init__(activity_regularizer=activity_regularizer, **kwargs)\n"
     ]
    },
    {
     "name": "stdout",
     "output_type": "stream",
     "text": [
      "  Fold 3: 42793.0948\n"
     ]
    },
    {
     "name": "stderr",
     "output_type": "stream",
     "text": [
      "c:\\Users\\Georg\\AppData\\Local\\Programs\\Python\\Python312\\Lib\\site-packages\\keras\\src\\layers\\core\\dense.py:92: UserWarning: Do not pass an `input_shape`/`input_dim` argument to a layer. When using Sequential models, prefer using an `Input(shape)` object as the first layer in the model instead.\n",
      "  super().__init__(activity_regularizer=activity_regularizer, **kwargs)\n"
     ]
    },
    {
     "name": "stdout",
     "output_type": "stream",
     "text": [
      "  Fold 4: 28553.9231\n"
     ]
    },
    {
     "name": "stderr",
     "output_type": "stream",
     "text": [
      "c:\\Users\\Georg\\AppData\\Local\\Programs\\Python\\Python312\\Lib\\site-packages\\keras\\src\\layers\\core\\dense.py:92: UserWarning: Do not pass an `input_shape`/`input_dim` argument to a layer. When using Sequential models, prefer using an `Input(shape)` object as the first layer in the model instead.\n",
      "  super().__init__(activity_regularizer=activity_regularizer, **kwargs)\n"
     ]
    },
    {
     "name": "stdout",
     "output_type": "stream",
     "text": [
      "  Fold 5: 87438.8240\n",
      "  Average: 85706.3037 ± 48799.6684\n",
      "\n",
      "Testing 3/3: {'learning_rate': 0.001, 'batch_size': 64, 'epochs': 100, 'hidden_size': 64}\n"
     ]
    },
    {
     "name": "stderr",
     "output_type": "stream",
     "text": [
      "c:\\Users\\Georg\\AppData\\Local\\Programs\\Python\\Python312\\Lib\\site-packages\\keras\\src\\layers\\core\\dense.py:92: UserWarning: Do not pass an `input_shape`/`input_dim` argument to a layer. When using Sequential models, prefer using an `Input(shape)` object as the first layer in the model instead.\n",
      "  super().__init__(activity_regularizer=activity_regularizer, **kwargs)\n"
     ]
    },
    {
     "name": "stdout",
     "output_type": "stream",
     "text": [
      "  Fold 1: 20152.6656\n"
     ]
    },
    {
     "name": "stderr",
     "output_type": "stream",
     "text": [
      "c:\\Users\\Georg\\AppData\\Local\\Programs\\Python\\Python312\\Lib\\site-packages\\keras\\src\\layers\\core\\dense.py:92: UserWarning: Do not pass an `input_shape`/`input_dim` argument to a layer. When using Sequential models, prefer using an `Input(shape)` object as the first layer in the model instead.\n",
      "  super().__init__(activity_regularizer=activity_regularizer, **kwargs)\n"
     ]
    },
    {
     "name": "stdout",
     "output_type": "stream",
     "text": [
      "  Fold 2: 44412.5257\n"
     ]
    },
    {
     "name": "stderr",
     "output_type": "stream",
     "text": [
      "c:\\Users\\Georg\\AppData\\Local\\Programs\\Python\\Python312\\Lib\\site-packages\\keras\\src\\layers\\core\\dense.py:92: UserWarning: Do not pass an `input_shape`/`input_dim` argument to a layer. When using Sequential models, prefer using an `Input(shape)` object as the first layer in the model instead.\n",
      "  super().__init__(activity_regularizer=activity_regularizer, **kwargs)\n"
     ]
    },
    {
     "name": "stdout",
     "output_type": "stream",
     "text": [
      "  Fold 3: 57941.9504\n"
     ]
    },
    {
     "name": "stderr",
     "output_type": "stream",
     "text": [
      "c:\\Users\\Georg\\AppData\\Local\\Programs\\Python\\Python312\\Lib\\site-packages\\keras\\src\\layers\\core\\dense.py:92: UserWarning: Do not pass an `input_shape`/`input_dim` argument to a layer. When using Sequential models, prefer using an `Input(shape)` object as the first layer in the model instead.\n",
      "  super().__init__(activity_regularizer=activity_regularizer, **kwargs)\n"
     ]
    },
    {
     "name": "stdout",
     "output_type": "stream",
     "text": [
      "  Fold 4: 46608.3456\n"
     ]
    },
    {
     "name": "stderr",
     "output_type": "stream",
     "text": [
      "c:\\Users\\Georg\\AppData\\Local\\Programs\\Python\\Python312\\Lib\\site-packages\\keras\\src\\layers\\core\\dense.py:92: UserWarning: Do not pass an `input_shape`/`input_dim` argument to a layer. When using Sequential models, prefer using an `Input(shape)` object as the first layer in the model instead.\n",
      "  super().__init__(activity_regularizer=activity_regularizer, **kwargs)\n"
     ]
    },
    {
     "name": "stdout",
     "output_type": "stream",
     "text": [
      "  Fold 5: 29874.8356\n",
      "  Average: 39798.0646 ± 13276.1888\n",
      "Best: {'learning_rate': 0.001, 'batch_size': 64, 'epochs': 100, 'hidden_size': 64} (MSE: 39798.0646)\n",
      "\n",
      "All parameter combinations tested:\n",
      "   BEST PARAMETERS FOUND:\n",
      "   Parameters: {'learning_rate': 0.001, 'batch_size': 64, 'epochs': 100, 'hidden_size': 64}\n",
      "   Best CV Score (MSE): 39798.0646\n",
      "   Best CV Score (RMSE): 199.4945\n"
     ]
    }
   ],
   "source": [
    "\"Run cross-validation to find best parameters\"\n",
    "best_params, best_score, all_results = cv_params(\n",
    "    X_train, y_train, \n",
    "    param_combinations, \n",
    "    k_folds=5\n",
    ")\n",
    "\n",
    "print(\"\\nAll parameter combinations tested:\")\n",
    "for i, result in enumerate(all_results):\n",
    "    print(f\"\\n{i+1}. {result['params']}\")\n",
    "    print(f\"   Average MSE: {result['avg_score']:.4f} ± {result['std_score']:.4f}\")\n",
    "    print(f\"   Fold scores: {[f'{score:.4f}' for score in result['fold_scores']]}\")\n",
    "\n",
    "# Print best parameters\n",
    "print(f\"   BEST PARAMETERS FOUND:\")\n",
    "print(f\"   Parameters: {best_params}\")\n",
    "print(f\"   Best CV Score (MSE): {best_score:.4f}\")\n",
    "print(f\"   Best CV Score (RMSE): {np.sqrt(best_score):.4f}\")"
   ]
  },
  {
   "cell_type": "code",
   "execution_count": 14,
   "id": "a55139da",
   "metadata": {},
   "outputs": [
    {
     "name": "stdout",
     "output_type": "stream",
     "text": [
      "Epoch 1/100\n"
     ]
    },
    {
     "name": "stderr",
     "output_type": "stream",
     "text": [
      "c:\\Users\\Georg\\AppData\\Local\\Programs\\Python\\Python312\\Lib\\site-packages\\keras\\src\\layers\\core\\dense.py:92: UserWarning: Do not pass an `input_shape`/`input_dim` argument to a layer. When using Sequential models, prefer using an `Input(shape)` object as the first layer in the model instead.\n",
      "  super().__init__(activity_regularizer=activity_regularizer, **kwargs)\n"
     ]
    },
    {
     "name": "stdout",
     "output_type": "stream",
     "text": [
      "\u001b[1m500/500\u001b[0m \u001b[32m━━━━━━━━━━━━━━━━━━━━\u001b[0m\u001b[37m\u001b[0m \u001b[1m2s\u001b[0m 2ms/step - loss: 301660896.0000 - mae: 9902.3770 - val_loss: 52768520.0000 - val_mae: 3775.5010\n",
      "Epoch 2/100\n",
      "\u001b[1m500/500\u001b[0m \u001b[32m━━━━━━━━━━━━━━━━━━━━\u001b[0m\u001b[37m\u001b[0m \u001b[1m1s\u001b[0m 1ms/step - loss: 40025116.0000 - mae: 3249.9529 - val_loss: 29971496.0000 - val_mae: 2675.9714\n",
      "Epoch 3/100\n",
      "\u001b[1m500/500\u001b[0m \u001b[32m━━━━━━━━━━━━━━━━━━━━\u001b[0m\u001b[37m\u001b[0m \u001b[1m1s\u001b[0m 1ms/step - loss: 27539218.0000 - mae: 2655.3196 - val_loss: 23035512.0000 - val_mae: 2311.0408\n",
      "Epoch 4/100\n",
      "\u001b[1m500/500\u001b[0m \u001b[32m━━━━━━━━━━━━━━━━━━━━\u001b[0m\u001b[37m\u001b[0m \u001b[1m1s\u001b[0m 1ms/step - loss: 22205138.0000 - mae: 2256.0710 - val_loss: 19168542.0000 - val_mae: 1863.3207\n",
      "Epoch 5/100\n",
      "\u001b[1m500/500\u001b[0m \u001b[32m━━━━━━━━━━━━━━━━━━━━\u001b[0m\u001b[37m\u001b[0m \u001b[1m1s\u001b[0m 1ms/step - loss: 18430918.0000 - mae: 1874.3699 - val_loss: 15395164.0000 - val_mae: 1686.0492\n",
      "Epoch 6/100\n",
      "\u001b[1m500/500\u001b[0m \u001b[32m━━━━━━━━━━━━━━━━━━━━\u001b[0m\u001b[37m\u001b[0m \u001b[1m1s\u001b[0m 1ms/step - loss: 15185707.0000 - mae: 1569.0646 - val_loss: 12723777.0000 - val_mae: 1322.7354\n",
      "Epoch 7/100\n",
      "\u001b[1m500/500\u001b[0m \u001b[32m━━━━━━━━━━━━━━━━━━━━\u001b[0m\u001b[37m\u001b[0m \u001b[1m1s\u001b[0m 1ms/step - loss: 12237122.0000 - mae: 1308.9359 - val_loss: 10017689.0000 - val_mae: 1194.7823\n",
      "Epoch 8/100\n",
      "\u001b[1m500/500\u001b[0m \u001b[32m━━━━━━━━━━━━━━━━━━━━\u001b[0m\u001b[37m\u001b[0m \u001b[1m1s\u001b[0m 1ms/step - loss: 9197923.0000 - mae: 1071.0820 - val_loss: 7358270.5000 - val_mae: 989.7626\n",
      "Epoch 9/100\n",
      "\u001b[1m500/500\u001b[0m \u001b[32m━━━━━━━━━━━━━━━━━━━━\u001b[0m\u001b[37m\u001b[0m \u001b[1m1s\u001b[0m 1ms/step - loss: 6463067.5000 - mae: 867.5219 - val_loss: 5259838.5000 - val_mae: 816.8788\n",
      "Epoch 10/100\n",
      "\u001b[1m500/500\u001b[0m \u001b[32m━━━━━━━━━━━━━━━━━━━━\u001b[0m\u001b[37m\u001b[0m \u001b[1m1s\u001b[0m 1ms/step - loss: 4466705.0000 - mae: 723.5006 - val_loss: 3654445.2500 - val_mae: 639.9979\n",
      "Epoch 11/100\n",
      "\u001b[1m500/500\u001b[0m \u001b[32m━━━━━━━━━━━━━━━━━━━━\u001b[0m\u001b[37m\u001b[0m \u001b[1m1s\u001b[0m 1ms/step - loss: 3240905.5000 - mae: 626.2391 - val_loss: 2657610.5000 - val_mae: 602.8143\n",
      "Epoch 12/100\n",
      "\u001b[1m500/500\u001b[0m \u001b[32m━━━━━━━━━━━━━━━━━━━━\u001b[0m\u001b[37m\u001b[0m \u001b[1m1s\u001b[0m 1ms/step - loss: 2372545.2500 - mae: 556.8155 - val_loss: 1933303.3750 - val_mae: 529.3863\n",
      "Epoch 13/100\n",
      "\u001b[1m500/500\u001b[0m \u001b[32m━━━━━━━━━━━━━━━━━━━━\u001b[0m\u001b[37m\u001b[0m \u001b[1m1s\u001b[0m 1ms/step - loss: 1811464.7500 - mae: 508.0044 - val_loss: 1531355.7500 - val_mae: 487.2557\n",
      "Epoch 14/100\n",
      "\u001b[1m500/500\u001b[0m \u001b[32m━━━━━━━━━━━━━━━━━━━━\u001b[0m\u001b[37m\u001b[0m \u001b[1m1s\u001b[0m 1ms/step - loss: 1415565.0000 - mae: 466.2508 - val_loss: 1155600.1250 - val_mae: 440.8955\n",
      "Epoch 15/100\n",
      "\u001b[1m500/500\u001b[0m \u001b[32m━━━━━━━━━━━━━━━━━━━━\u001b[0m\u001b[37m\u001b[0m \u001b[1m1s\u001b[0m 1ms/step - loss: 1133480.0000 - mae: 430.0237 - val_loss: 945038.3125 - val_mae: 424.4524\n",
      "Epoch 16/100\n",
      "\u001b[1m500/500\u001b[0m \u001b[32m━━━━━━━━━━━━━━━━━━━━\u001b[0m\u001b[37m\u001b[0m \u001b[1m1s\u001b[0m 1ms/step - loss: 946300.5000 - mae: 410.3760 - val_loss: 798527.7500 - val_mae: 411.6088\n",
      "Epoch 17/100\n",
      "\u001b[1m500/500\u001b[0m \u001b[32m━━━━━━━━━━━━━━━━━━━━\u001b[0m\u001b[37m\u001b[0m \u001b[1m1s\u001b[0m 1ms/step - loss: 789870.5000 - mae: 387.3578 - val_loss: 667168.8125 - val_mae: 382.5716\n",
      "Epoch 18/100\n",
      "\u001b[1m500/500\u001b[0m \u001b[32m━━━━━━━━━━━━━━━━━━━━\u001b[0m\u001b[37m\u001b[0m \u001b[1m1s\u001b[0m 1ms/step - loss: 658754.8125 - mae: 363.5347 - val_loss: 583749.8750 - val_mae: 357.1367\n",
      "Epoch 19/100\n",
      "\u001b[1m500/500\u001b[0m \u001b[32m━━━━━━━━━━━━━━━━━━━━\u001b[0m\u001b[37m\u001b[0m \u001b[1m1s\u001b[0m 1ms/step - loss: 570748.4375 - mae: 343.0795 - val_loss: 485283.8125 - val_mae: 359.2614\n",
      "Epoch 20/100\n",
      "\u001b[1m500/500\u001b[0m \u001b[32m━━━━━━━━━━━━━━━━━━━━\u001b[0m\u001b[37m\u001b[0m \u001b[1m1s\u001b[0m 1ms/step - loss: 486293.0000 - mae: 327.7946 - val_loss: 422181.9375 - val_mae: 337.1654\n",
      "Epoch 21/100\n",
      "\u001b[1m500/500\u001b[0m \u001b[32m━━━━━━━━━━━━━━━━━━━━\u001b[0m\u001b[37m\u001b[0m \u001b[1m1s\u001b[0m 1ms/step - loss: 421995.8438 - mae: 313.1340 - val_loss: 354297.9688 - val_mae: 300.5815\n",
      "Epoch 22/100\n",
      "\u001b[1m500/500\u001b[0m \u001b[32m━━━━━━━━━━━━━━━━━━━━\u001b[0m\u001b[37m\u001b[0m \u001b[1m1s\u001b[0m 1ms/step - loss: 379953.0000 - mae: 302.9534 - val_loss: 322101.2188 - val_mae: 297.5146\n",
      "Epoch 23/100\n",
      "\u001b[1m500/500\u001b[0m \u001b[32m━━━━━━━━━━━━━━━━━━━━\u001b[0m\u001b[37m\u001b[0m \u001b[1m1s\u001b[0m 1ms/step - loss: 330283.9375 - mae: 287.1270 - val_loss: 325809.1250 - val_mae: 331.0783\n",
      "Epoch 24/100\n",
      "\u001b[1m500/500\u001b[0m \u001b[32m━━━━━━━━━━━━━━━━━━━━\u001b[0m\u001b[37m\u001b[0m \u001b[1m1s\u001b[0m 1ms/step - loss: 297831.4375 - mae: 277.8957 - val_loss: 248543.3125 - val_mae: 271.1346\n",
      "Epoch 25/100\n",
      "\u001b[1m500/500\u001b[0m \u001b[32m━━━━━━━━━━━━━━━━━━━━\u001b[0m\u001b[37m\u001b[0m \u001b[1m1s\u001b[0m 1ms/step - loss: 267126.7812 - mae: 266.2570 - val_loss: 235642.8750 - val_mae: 264.3786\n",
      "Epoch 26/100\n",
      "\u001b[1m500/500\u001b[0m \u001b[32m━━━━━━━━━━━━━━━━━━━━\u001b[0m\u001b[37m\u001b[0m \u001b[1m1s\u001b[0m 2ms/step - loss: 236737.5938 - mae: 257.2185 - val_loss: 252511.0156 - val_mae: 262.4661\n",
      "Epoch 27/100\n",
      "\u001b[1m500/500\u001b[0m \u001b[32m━━━━━━━━━━━━━━━━━━━━\u001b[0m\u001b[37m\u001b[0m \u001b[1m1s\u001b[0m 2ms/step - loss: 217120.1250 - mae: 249.9311 - val_loss: 193314.9531 - val_mae: 240.8170\n",
      "Epoch 28/100\n",
      "\u001b[1m500/500\u001b[0m \u001b[32m━━━━━━━━━━━━━━━━━━━━\u001b[0m\u001b[37m\u001b[0m \u001b[1m1s\u001b[0m 2ms/step - loss: 198851.1094 - mae: 244.2132 - val_loss: 230425.7969 - val_mae: 276.1217\n",
      "Epoch 29/100\n",
      "\u001b[1m500/500\u001b[0m \u001b[32m━━━━━━━━━━━━━━━━━━━━\u001b[0m\u001b[37m\u001b[0m \u001b[1m1s\u001b[0m 1ms/step - loss: 183291.8125 - mae: 236.1637 - val_loss: 161974.8906 - val_mae: 234.2892\n",
      "Epoch 30/100\n",
      "\u001b[1m500/500\u001b[0m \u001b[32m━━━━━━━━━━━━━━━━━━━━\u001b[0m\u001b[37m\u001b[0m \u001b[1m1s\u001b[0m 1ms/step - loss: 167195.3125 - mae: 227.7452 - val_loss: 152108.8750 - val_mae: 223.9112\n",
      "Epoch 31/100\n",
      "\u001b[1m500/500\u001b[0m \u001b[32m━━━━━━━━━━━━━━━━━━━━\u001b[0m\u001b[37m\u001b[0m \u001b[1m1s\u001b[0m 2ms/step - loss: 153478.7344 - mae: 224.1196 - val_loss: 143097.3906 - val_mae: 220.9504\n",
      "Epoch 32/100\n",
      "\u001b[1m500/500\u001b[0m \u001b[32m━━━━━━━━━━━━━━━━━━━━\u001b[0m\u001b[37m\u001b[0m \u001b[1m1s\u001b[0m 1ms/step - loss: 148569.0938 - mae: 220.9546 - val_loss: 150794.5781 - val_mae: 218.8850\n",
      "Epoch 33/100\n",
      "\u001b[1m500/500\u001b[0m \u001b[32m━━━━━━━━━━━━━━━━━━━━\u001b[0m\u001b[37m\u001b[0m \u001b[1m1s\u001b[0m 1ms/step - loss: 136151.5469 - mae: 213.9997 - val_loss: 175520.7969 - val_mae: 229.1022\n",
      "Epoch 34/100\n",
      "\u001b[1m500/500\u001b[0m \u001b[32m━━━━━━━━━━━━━━━━━━━━\u001b[0m\u001b[37m\u001b[0m \u001b[1m1s\u001b[0m 1ms/step - loss: 131096.3750 - mae: 210.1852 - val_loss: 138089.4531 - val_mae: 220.4676\n",
      "Epoch 35/100\n",
      "\u001b[1m500/500\u001b[0m \u001b[32m━━━━━━━━━━━━━━━━━━━━\u001b[0m\u001b[37m\u001b[0m \u001b[1m1s\u001b[0m 1ms/step - loss: 126603.9844 - mae: 205.9009 - val_loss: 117100.2188 - val_mae: 202.2630\n",
      "Epoch 36/100\n",
      "\u001b[1m500/500\u001b[0m \u001b[32m━━━━━━━━━━━━━━━━━━━━\u001b[0m\u001b[37m\u001b[0m \u001b[1m1s\u001b[0m 1ms/step - loss: 117094.0625 - mae: 200.7236 - val_loss: 115488.5859 - val_mae: 194.3810\n",
      "Epoch 37/100\n",
      "\u001b[1m500/500\u001b[0m \u001b[32m━━━━━━━━━━━━━━━━━━━━\u001b[0m\u001b[37m\u001b[0m \u001b[1m1s\u001b[0m 1ms/step - loss: 111599.6953 - mae: 197.3589 - val_loss: 111251.6797 - val_mae: 199.6613\n",
      "Epoch 38/100\n",
      "\u001b[1m500/500\u001b[0m \u001b[32m━━━━━━━━━━━━━━━━━━━━\u001b[0m\u001b[37m\u001b[0m \u001b[1m1s\u001b[0m 1ms/step - loss: 103909.4531 - mae: 192.8706 - val_loss: 101410.5703 - val_mae: 192.1490\n",
      "Epoch 39/100\n",
      "\u001b[1m500/500\u001b[0m \u001b[32m━━━━━━━━━━━━━━━━━━━━\u001b[0m\u001b[37m\u001b[0m \u001b[1m1s\u001b[0m 1ms/step - loss: 102002.1172 - mae: 190.8900 - val_loss: 92731.5859 - val_mae: 183.0572\n",
      "Epoch 40/100\n",
      "\u001b[1m500/500\u001b[0m \u001b[32m━━━━━━━━━━━━━━━━━━━━\u001b[0m\u001b[37m\u001b[0m \u001b[1m1s\u001b[0m 1ms/step - loss: 99386.6484 - mae: 188.4851 - val_loss: 104247.1562 - val_mae: 201.1206\n",
      "Epoch 41/100\n",
      "\u001b[1m500/500\u001b[0m \u001b[32m━━━━━━━━━━━━━━━━━━━━\u001b[0m\u001b[37m\u001b[0m \u001b[1m1s\u001b[0m 1ms/step - loss: 92641.9688 - mae: 184.8055 - val_loss: 110509.7422 - val_mae: 196.4549\n",
      "Epoch 42/100\n",
      "\u001b[1m500/500\u001b[0m \u001b[32m━━━━━━━━━━━━━━━━━━━━\u001b[0m\u001b[37m\u001b[0m \u001b[1m1s\u001b[0m 1ms/step - loss: 91036.5469 - mae: 181.7465 - val_loss: 95039.0156 - val_mae: 181.2518\n",
      "Epoch 43/100\n",
      "\u001b[1m500/500\u001b[0m \u001b[32m━━━━━━━━━━━━━━━━━━━━\u001b[0m\u001b[37m\u001b[0m \u001b[1m1s\u001b[0m 1ms/step - loss: 88234.4922 - mae: 180.3576 - val_loss: 82680.4844 - val_mae: 170.8319\n",
      "Epoch 44/100\n",
      "\u001b[1m500/500\u001b[0m \u001b[32m━━━━━━━━━━━━━━━━━━━━\u001b[0m\u001b[37m\u001b[0m \u001b[1m1s\u001b[0m 1ms/step - loss: 87530.3125 - mae: 177.6135 - val_loss: 90366.9531 - val_mae: 184.5965\n",
      "Epoch 45/100\n",
      "\u001b[1m500/500\u001b[0m \u001b[32m━━━━━━━━━━━━━━━━━━━━\u001b[0m\u001b[37m\u001b[0m \u001b[1m1s\u001b[0m 1ms/step - loss: 81435.2578 - mae: 176.6496 - val_loss: 80392.2344 - val_mae: 172.5952\n",
      "Epoch 46/100\n",
      "\u001b[1m500/500\u001b[0m \u001b[32m━━━━━━━━━━━━━━━━━━━━\u001b[0m\u001b[37m\u001b[0m \u001b[1m1s\u001b[0m 2ms/step - loss: 78280.8359 - mae: 170.1949 - val_loss: 85049.0312 - val_mae: 173.5885\n",
      "Epoch 47/100\n",
      "\u001b[1m500/500\u001b[0m \u001b[32m━━━━━━━━━━━━━━━━━━━━\u001b[0m\u001b[37m\u001b[0m \u001b[1m1s\u001b[0m 2ms/step - loss: 76590.6016 - mae: 170.8601 - val_loss: 80204.0625 - val_mae: 168.9762\n",
      "Epoch 48/100\n",
      "\u001b[1m500/500\u001b[0m \u001b[32m━━━━━━━━━━━━━━━━━━━━\u001b[0m\u001b[37m\u001b[0m \u001b[1m1s\u001b[0m 1ms/step - loss: 71906.6016 - mae: 166.8830 - val_loss: 68969.6406 - val_mae: 159.6905\n",
      "Epoch 49/100\n",
      "\u001b[1m500/500\u001b[0m \u001b[32m━━━━━━━━━━━━━━━━━━━━\u001b[0m\u001b[37m\u001b[0m \u001b[1m1s\u001b[0m 1ms/step - loss: 69909.1016 - mae: 164.9722 - val_loss: 73778.1094 - val_mae: 167.5809\n",
      "Epoch 50/100\n",
      "\u001b[1m500/500\u001b[0m \u001b[32m━━━━━━━━━━━━━━━━━━━━\u001b[0m\u001b[37m\u001b[0m \u001b[1m1s\u001b[0m 1ms/step - loss: 70359.2812 - mae: 165.1544 - val_loss: 73243.1406 - val_mae: 163.8444\n",
      "Epoch 51/100\n",
      "\u001b[1m500/500\u001b[0m \u001b[32m━━━━━━━━━━━━━━━━━━━━\u001b[0m\u001b[37m\u001b[0m \u001b[1m1s\u001b[0m 1ms/step - loss: 69612.0703 - mae: 164.3475 - val_loss: 64994.1914 - val_mae: 157.5367\n",
      "Epoch 52/100\n",
      "\u001b[1m500/500\u001b[0m \u001b[32m━━━━━━━━━━━━━━━━━━━━\u001b[0m\u001b[37m\u001b[0m \u001b[1m1s\u001b[0m 1ms/step - loss: 68533.7031 - mae: 163.0334 - val_loss: 66303.2422 - val_mae: 160.5156\n",
      "Epoch 53/100\n",
      "\u001b[1m500/500\u001b[0m \u001b[32m━━━━━━━━━━━━━━━━━━━━\u001b[0m\u001b[37m\u001b[0m \u001b[1m1s\u001b[0m 1ms/step - loss: 66008.6484 - mae: 160.5044 - val_loss: 66759.9688 - val_mae: 162.9175\n",
      "Epoch 54/100\n",
      "\u001b[1m500/500\u001b[0m \u001b[32m━━━━━━━━━━━━━━━━━━━━\u001b[0m\u001b[37m\u001b[0m \u001b[1m1s\u001b[0m 1ms/step - loss: 65643.4219 - mae: 161.4221 - val_loss: 68019.7812 - val_mae: 164.2545\n",
      "Epoch 55/100\n",
      "\u001b[1m500/500\u001b[0m \u001b[32m━━━━━━━━━━━━━━━━━━━━\u001b[0m\u001b[37m\u001b[0m \u001b[1m1s\u001b[0m 1ms/step - loss: 63937.3281 - mae: 159.7741 - val_loss: 60183.4961 - val_mae: 149.0348\n",
      "Epoch 56/100\n",
      "\u001b[1m500/500\u001b[0m \u001b[32m━━━━━━━━━━━━━━━━━━━━\u001b[0m\u001b[37m\u001b[0m \u001b[1m1s\u001b[0m 1ms/step - loss: 59064.2617 - mae: 153.7309 - val_loss: 59616.7461 - val_mae: 148.3202\n",
      "Epoch 57/100\n",
      "\u001b[1m500/500\u001b[0m \u001b[32m━━━━━━━━━━━━━━━━━━━━\u001b[0m\u001b[37m\u001b[0m \u001b[1m1s\u001b[0m 1ms/step - loss: 61823.2773 - mae: 156.5305 - val_loss: 64436.3242 - val_mae: 151.6320\n",
      "Epoch 58/100\n",
      "\u001b[1m500/500\u001b[0m \u001b[32m━━━━━━━━━━━━━━━━━━━━\u001b[0m\u001b[37m\u001b[0m \u001b[1m1s\u001b[0m 1ms/step - loss: 56126.1602 - mae: 150.9397 - val_loss: 60107.3281 - val_mae: 152.8715\n",
      "Epoch 59/100\n",
      "\u001b[1m500/500\u001b[0m \u001b[32m━━━━━━━━━━━━━━━━━━━━\u001b[0m\u001b[37m\u001b[0m \u001b[1m1s\u001b[0m 1ms/step - loss: 60596.5781 - mae: 155.0596 - val_loss: 55217.2188 - val_mae: 147.1505\n",
      "Epoch 60/100\n",
      "\u001b[1m500/500\u001b[0m \u001b[32m━━━━━━━━━━━━━━━━━━━━\u001b[0m\u001b[37m\u001b[0m \u001b[1m1s\u001b[0m 1ms/step - loss: 56492.3242 - mae: 150.6074 - val_loss: 96355.0859 - val_mae: 163.1808\n",
      "Epoch 61/100\n",
      "\u001b[1m500/500\u001b[0m \u001b[32m━━━━━━━━━━━━━━━━━━━━\u001b[0m\u001b[37m\u001b[0m \u001b[1m1s\u001b[0m 1ms/step - loss: 55928.0820 - mae: 150.6740 - val_loss: 82256.2812 - val_mae: 188.4791\n",
      "Epoch 62/100\n",
      "\u001b[1m500/500\u001b[0m \u001b[32m━━━━━━━━━━━━━━━━━━━━\u001b[0m\u001b[37m\u001b[0m \u001b[1m1s\u001b[0m 1ms/step - loss: 57872.4609 - mae: 151.8070 - val_loss: 54288.4336 - val_mae: 153.9825\n",
      "Epoch 63/100\n",
      "\u001b[1m500/500\u001b[0m \u001b[32m━━━━━━━━━━━━━━━━━━━━\u001b[0m\u001b[37m\u001b[0m \u001b[1m1s\u001b[0m 1ms/step - loss: 54326.8984 - mae: 148.0508 - val_loss: 59227.1055 - val_mae: 147.9319\n",
      "Epoch 64/100\n",
      "\u001b[1m500/500\u001b[0m \u001b[32m━━━━━━━━━━━━━━━━━━━━\u001b[0m\u001b[37m\u001b[0m \u001b[1m1s\u001b[0m 1ms/step - loss: 55562.1055 - mae: 147.5583 - val_loss: 49867.3086 - val_mae: 142.6548\n",
      "Epoch 65/100\n",
      "\u001b[1m500/500\u001b[0m \u001b[32m━━━━━━━━━━━━━━━━━━━━\u001b[0m\u001b[37m\u001b[0m \u001b[1m1s\u001b[0m 1ms/step - loss: 55207.8398 - mae: 148.3762 - val_loss: 49445.5430 - val_mae: 138.9018\n",
      "Epoch 66/100\n",
      "\u001b[1m500/500\u001b[0m \u001b[32m━━━━━━━━━━━━━━━━━━━━\u001b[0m\u001b[37m\u001b[0m \u001b[1m1s\u001b[0m 1ms/step - loss: 52876.3945 - mae: 146.2669 - val_loss: 60280.0469 - val_mae: 155.9417\n",
      "Epoch 67/100\n",
      "\u001b[1m500/500\u001b[0m \u001b[32m━━━━━━━━━━━━━━━━━━━━\u001b[0m\u001b[37m\u001b[0m \u001b[1m1s\u001b[0m 1ms/step - loss: 53167.2227 - mae: 144.4226 - val_loss: 55613.9570 - val_mae: 147.6239\n",
      "Epoch 68/100\n",
      "\u001b[1m500/500\u001b[0m \u001b[32m━━━━━━━━━━━━━━━━━━━━\u001b[0m\u001b[37m\u001b[0m \u001b[1m1s\u001b[0m 1ms/step - loss: 50554.2148 - mae: 142.7477 - val_loss: 48548.9570 - val_mae: 144.0719\n",
      "Epoch 69/100\n",
      "\u001b[1m500/500\u001b[0m \u001b[32m━━━━━━━━━━━━━━━━━━━━\u001b[0m\u001b[37m\u001b[0m \u001b[1m1s\u001b[0m 1ms/step - loss: 50928.7188 - mae: 143.6200 - val_loss: 49912.4336 - val_mae: 141.0017\n",
      "Epoch 70/100\n",
      "\u001b[1m500/500\u001b[0m \u001b[32m━━━━━━━━━━━━━━━━━━━━\u001b[0m\u001b[37m\u001b[0m \u001b[1m1s\u001b[0m 1ms/step - loss: 52044.2852 - mae: 143.2597 - val_loss: 79175.1875 - val_mae: 161.4458\n",
      "Epoch 71/100\n",
      "\u001b[1m500/500\u001b[0m \u001b[32m━━━━━━━━━━━━━━━━━━━━\u001b[0m\u001b[37m\u001b[0m \u001b[1m1s\u001b[0m 1ms/step - loss: 55034.5703 - mae: 144.7661 - val_loss: 44151.9336 - val_mae: 136.9244\n",
      "Epoch 72/100\n",
      "\u001b[1m500/500\u001b[0m \u001b[32m━━━━━━━━━━━━━━━━━━━━\u001b[0m\u001b[37m\u001b[0m \u001b[1m1s\u001b[0m 1ms/step - loss: 49888.9609 - mae: 140.6308 - val_loss: 58810.9141 - val_mae: 151.0423\n",
      "Epoch 73/100\n",
      "\u001b[1m500/500\u001b[0m \u001b[32m━━━━━━━━━━━━━━━━━━━━\u001b[0m\u001b[37m\u001b[0m \u001b[1m1s\u001b[0m 1ms/step - loss: 49995.8477 - mae: 142.1540 - val_loss: 46260.5430 - val_mae: 135.9219\n",
      "Epoch 74/100\n",
      "\u001b[1m500/500\u001b[0m \u001b[32m━━━━━━━━━━━━━━━━━━━━\u001b[0m\u001b[37m\u001b[0m \u001b[1m1s\u001b[0m 1ms/step - loss: 47895.3789 - mae: 137.8017 - val_loss: 46204.6602 - val_mae: 140.6977\n",
      "Epoch 75/100\n",
      "\u001b[1m500/500\u001b[0m \u001b[32m━━━━━━━━━━━━━━━━━━━━\u001b[0m\u001b[37m\u001b[0m \u001b[1m1s\u001b[0m 1ms/step - loss: 47717.5117 - mae: 139.4589 - val_loss: 50488.3008 - val_mae: 142.0770\n",
      "Epoch 76/100\n",
      "\u001b[1m500/500\u001b[0m \u001b[32m━━━━━━━━━━━━━━━━━━━━\u001b[0m\u001b[37m\u001b[0m \u001b[1m1s\u001b[0m 1ms/step - loss: 47350.0352 - mae: 138.8843 - val_loss: 45335.3906 - val_mae: 134.5471\n",
      "Epoch 77/100\n",
      "\u001b[1m500/500\u001b[0m \u001b[32m━━━━━━━━━━━━━━━━━━━━\u001b[0m\u001b[37m\u001b[0m \u001b[1m1s\u001b[0m 1ms/step - loss: 47920.9297 - mae: 138.9647 - val_loss: 45801.0039 - val_mae: 136.0884\n",
      "Epoch 78/100\n",
      "\u001b[1m500/500\u001b[0m \u001b[32m━━━━━━━━━━━━━━━━━━━━\u001b[0m\u001b[37m\u001b[0m \u001b[1m1s\u001b[0m 1ms/step - loss: 47088.6680 - mae: 139.5515 - val_loss: 48969.2461 - val_mae: 139.3570\n",
      "Epoch 79/100\n",
      "\u001b[1m500/500\u001b[0m \u001b[32m━━━━━━━━━━━━━━━━━━━━\u001b[0m\u001b[37m\u001b[0m \u001b[1m1s\u001b[0m 1ms/step - loss: 45648.7891 - mae: 136.7880 - val_loss: 52568.8281 - val_mae: 139.5817\n",
      "Epoch 80/100\n",
      "\u001b[1m500/500\u001b[0m \u001b[32m━━━━━━━━━━━━━━━━━━━━\u001b[0m\u001b[37m\u001b[0m \u001b[1m1s\u001b[0m 1ms/step - loss: 45897.1250 - mae: 136.4787 - val_loss: 54016.4727 - val_mae: 145.1974\n",
      "Epoch 81/100\n",
      "\u001b[1m500/500\u001b[0m \u001b[32m━━━━━━━━━━━━━━━━━━━━\u001b[0m\u001b[37m\u001b[0m \u001b[1m1s\u001b[0m 1ms/step - loss: 46682.9102 - mae: 136.5926 - val_loss: 49097.4102 - val_mae: 137.6794\n",
      "Epoch 82/100\n",
      "\u001b[1m500/500\u001b[0m \u001b[32m━━━━━━━━━━━━━━━━━━━━\u001b[0m\u001b[37m\u001b[0m \u001b[1m1s\u001b[0m 1ms/step - loss: 47002.8398 - mae: 136.2931 - val_loss: 48909.5117 - val_mae: 139.5181\n",
      "Epoch 83/100\n",
      "\u001b[1m500/500\u001b[0m \u001b[32m━━━━━━━━━━━━━━━━━━━━\u001b[0m\u001b[37m\u001b[0m \u001b[1m1s\u001b[0m 1ms/step - loss: 44515.1172 - mae: 134.4178 - val_loss: 49638.2422 - val_mae: 150.1433\n",
      "Epoch 84/100\n",
      "\u001b[1m500/500\u001b[0m \u001b[32m━━━━━━━━━━━━━━━━━━━━\u001b[0m\u001b[37m\u001b[0m \u001b[1m1s\u001b[0m 1ms/step - loss: 44311.1133 - mae: 134.3218 - val_loss: 44052.9883 - val_mae: 139.0065\n",
      "Epoch 85/100\n",
      "\u001b[1m500/500\u001b[0m \u001b[32m━━━━━━━━━━━━━━━━━━━━\u001b[0m\u001b[37m\u001b[0m \u001b[1m1s\u001b[0m 1ms/step - loss: 43512.0586 - mae: 133.9270 - val_loss: 45163.9258 - val_mae: 137.1732\n",
      "Epoch 86/100\n",
      "\u001b[1m500/500\u001b[0m \u001b[32m━━━━━━━━━━━━━━━━━━━━\u001b[0m\u001b[37m\u001b[0m \u001b[1m1s\u001b[0m 1ms/step - loss: 43834.5039 - mae: 135.4531 - val_loss: 49236.8750 - val_mae: 141.9578\n",
      "Epoch 87/100\n",
      "\u001b[1m500/500\u001b[0m \u001b[32m━━━━━━━━━━━━━━━━━━━━\u001b[0m\u001b[37m\u001b[0m \u001b[1m1s\u001b[0m 1ms/step - loss: 44158.3789 - mae: 133.8851 - val_loss: 71048.6250 - val_mae: 147.8239\n",
      "Epoch 88/100\n",
      "\u001b[1m500/500\u001b[0m \u001b[32m━━━━━━━━━━━━━━━━━━━━\u001b[0m\u001b[37m\u001b[0m \u001b[1m1s\u001b[0m 1ms/step - loss: 47816.5703 - mae: 138.4171 - val_loss: 46304.2500 - val_mae: 134.0885\n",
      "Epoch 89/100\n",
      "\u001b[1m500/500\u001b[0m \u001b[32m━━━━━━━━━━━━━━━━━━━━\u001b[0m\u001b[37m\u001b[0m \u001b[1m1s\u001b[0m 1ms/step - loss: 43707.0391 - mae: 132.7255 - val_loss: 44644.8398 - val_mae: 132.3341\n",
      "Epoch 90/100\n",
      "\u001b[1m500/500\u001b[0m \u001b[32m━━━━━━━━━━━━━━━━━━━━\u001b[0m\u001b[37m\u001b[0m \u001b[1m1s\u001b[0m 1ms/step - loss: 45473.2539 - mae: 134.0584 - val_loss: 49997.9961 - val_mae: 147.0496\n",
      "Epoch 91/100\n",
      "\u001b[1m500/500\u001b[0m \u001b[32m━━━━━━━━━━━━━━━━━━━━\u001b[0m\u001b[37m\u001b[0m \u001b[1m1s\u001b[0m 1ms/step - loss: 44988.1523 - mae: 133.0496 - val_loss: 70853.9922 - val_mae: 168.6442\n",
      "Epoch 92/100\n",
      "\u001b[1m500/500\u001b[0m \u001b[32m━━━━━━━━━━━━━━━━━━━━\u001b[0m\u001b[37m\u001b[0m \u001b[1m1s\u001b[0m 1ms/step - loss: 45319.8242 - mae: 134.5954 - val_loss: 50527.2539 - val_mae: 146.9952\n",
      "Epoch 93/100\n",
      "\u001b[1m500/500\u001b[0m \u001b[32m━━━━━━━━━━━━━━━━━━━━\u001b[0m\u001b[37m\u001b[0m \u001b[1m1s\u001b[0m 1ms/step - loss: 41868.3398 - mae: 131.1078 - val_loss: 45780.1172 - val_mae: 142.3960\n",
      "Epoch 94/100\n",
      "\u001b[1m500/500\u001b[0m \u001b[32m━━━━━━━━━━━━━━━━━━━━\u001b[0m\u001b[37m\u001b[0m \u001b[1m1s\u001b[0m 1ms/step - loss: 41025.4180 - mae: 129.7483 - val_loss: 44922.1758 - val_mae: 132.5239\n",
      "Epoch 95/100\n",
      "\u001b[1m500/500\u001b[0m \u001b[32m━━━━━━━━━━━━━━━━━━━━\u001b[0m\u001b[37m\u001b[0m \u001b[1m1s\u001b[0m 1ms/step - loss: 42862.8164 - mae: 131.1241 - val_loss: 48721.4258 - val_mae: 137.7042\n",
      "Epoch 96/100\n",
      "\u001b[1m500/500\u001b[0m \u001b[32m━━━━━━━━━━━━━━━━━━━━\u001b[0m\u001b[37m\u001b[0m \u001b[1m1s\u001b[0m 1ms/step - loss: 44587.0508 - mae: 133.6311 - val_loss: 41981.4180 - val_mae: 131.5362\n",
      "Epoch 97/100\n",
      "\u001b[1m500/500\u001b[0m \u001b[32m━━━━━━━━━━━━━━━━━━━━\u001b[0m\u001b[37m\u001b[0m \u001b[1m1s\u001b[0m 1ms/step - loss: 41880.1055 - mae: 130.7571 - val_loss: 54882.7891 - val_mae: 137.2266\n",
      "Epoch 98/100\n",
      "\u001b[1m500/500\u001b[0m \u001b[32m━━━━━━━━━━━━━━━━━━━━\u001b[0m\u001b[37m\u001b[0m \u001b[1m1s\u001b[0m 2ms/step - loss: 42759.0234 - mae: 130.7269 - val_loss: 57422.2031 - val_mae: 147.8006\n",
      "Epoch 99/100\n",
      "\u001b[1m500/500\u001b[0m \u001b[32m━━━━━━━━━━━━━━━━━━━━\u001b[0m\u001b[37m\u001b[0m \u001b[1m1s\u001b[0m 1ms/step - loss: 43655.7031 - mae: 132.4891 - val_loss: 53092.5586 - val_mae: 151.8195\n",
      "Epoch 100/100\n",
      "\u001b[1m500/500\u001b[0m \u001b[32m━━━━━━━━━━━━━━━━━━━━\u001b[0m\u001b[37m\u001b[0m \u001b[1m1s\u001b[0m 1ms/step - loss: 42414.2109 - mae: 130.7049 - val_loss: 42503.9102 - val_mae: 134.7452\n",
      "Final model training complete!\n"
     ]
    }
   ],
   "source": [
    "\"Training final model with best parameters\"\n",
    "\n",
    "# Scale the full training data\n",
    "scaler = StandardScaler()\n",
    "X_train_scaled = scaler.fit_transform(X_train)\n",
    "X_test_scaled = scaler.transform(X_test)\n",
    "\n",
    "# Create final model with best params\n",
    "def create_final_model(params, input_dim):\n",
    "    model = Sequential([\n",
    "        Dense(params['hidden_size'], activation='relu', input_dim=input_dim),\n",
    "        Dense(params['hidden_size']//2, activation='relu'),\n",
    "        Dense(params['hidden_size']//4, activation='relu'),\n",
    "        Dense(1)  # Output layer for regression\n",
    "    ])\n",
    "    \n",
    "    model.compile(\n",
    "        optimizer=Adam(learning_rate=params['learning_rate']),\n",
    "        loss='mse',\n",
    "        metrics=['mae']\n",
    "    )\n",
    "    return model\n",
    "\n",
    "# Train final model\n",
    "final_model = create_final_model(best_params, X_train_scaled.shape[1])\n",
    "\n",
    "history = final_model.fit(\n",
    "    X_train_scaled, y_train,\n",
    "    epochs=best_params['epochs'],\n",
    "    batch_size=best_params['batch_size'],\n",
    "    validation_split=0.2,  # Use 20% of training data for monitoring\n",
    "    verbose=1,\n",
    "    callbacks=[tf.keras.callbacks.EarlyStopping(patience=15, restore_best_weights=True)]\n",
    ")\n",
    "\n",
    "print(\"Final model training complete!\")"
   ]
  },
  {
   "cell_type": "code",
   "execution_count": 15,
   "id": "d1f8bbc6",
   "metadata": {},
   "outputs": [
    {
     "data": {
      "text/html": [
       "<pre style=\"white-space:pre;overflow-x:auto;line-height:normal;font-family:Menlo,'DejaVu Sans Mono',consolas,'Courier New',monospace\"><span style=\"font-weight: bold\">Model: \"sequential_15\"</span>\n",
       "</pre>\n"
      ],
      "text/plain": [
       "\u001b[1mModel: \"sequential_15\"\u001b[0m\n"
      ]
     },
     "metadata": {},
     "output_type": "display_data"
    },
    {
     "data": {
      "text/html": [
       "<pre style=\"white-space:pre;overflow-x:auto;line-height:normal;font-family:Menlo,'DejaVu Sans Mono',consolas,'Courier New',monospace\">┏━━━━━━━━━━━━━━━━━━━━━━━━━━━━━━━━━┳━━━━━━━━━━━━━━━━━━━━━━━━┳━━━━━━━━━━━━━━━┓\n",
       "┃<span style=\"font-weight: bold\"> Layer (type)                    </span>┃<span style=\"font-weight: bold\"> Output Shape           </span>┃<span style=\"font-weight: bold\">       Param # </span>┃\n",
       "┡━━━━━━━━━━━━━━━━━━━━━━━━━━━━━━━━━╇━━━━━━━━━━━━━━━━━━━━━━━━╇━━━━━━━━━━━━━━━┩\n",
       "│ dense_60 (<span style=\"color: #0087ff; text-decoration-color: #0087ff\">Dense</span>)                │ (<span style=\"color: #00d7ff; text-decoration-color: #00d7ff\">None</span>, <span style=\"color: #00af00; text-decoration-color: #00af00\">64</span>)             │         <span style=\"color: #00af00; text-decoration-color: #00af00\">1,600</span> │\n",
       "├─────────────────────────────────┼────────────────────────┼───────────────┤\n",
       "│ dense_61 (<span style=\"color: #0087ff; text-decoration-color: #0087ff\">Dense</span>)                │ (<span style=\"color: #00d7ff; text-decoration-color: #00d7ff\">None</span>, <span style=\"color: #00af00; text-decoration-color: #00af00\">32</span>)             │         <span style=\"color: #00af00; text-decoration-color: #00af00\">2,080</span> │\n",
       "├─────────────────────────────────┼────────────────────────┼───────────────┤\n",
       "│ dense_62 (<span style=\"color: #0087ff; text-decoration-color: #0087ff\">Dense</span>)                │ (<span style=\"color: #00d7ff; text-decoration-color: #00d7ff\">None</span>, <span style=\"color: #00af00; text-decoration-color: #00af00\">16</span>)             │           <span style=\"color: #00af00; text-decoration-color: #00af00\">528</span> │\n",
       "├─────────────────────────────────┼────────────────────────┼───────────────┤\n",
       "│ dense_63 (<span style=\"color: #0087ff; text-decoration-color: #0087ff\">Dense</span>)                │ (<span style=\"color: #00d7ff; text-decoration-color: #00d7ff\">None</span>, <span style=\"color: #00af00; text-decoration-color: #00af00\">1</span>)              │            <span style=\"color: #00af00; text-decoration-color: #00af00\">17</span> │\n",
       "└─────────────────────────────────┴────────────────────────┴───────────────┘\n",
       "</pre>\n"
      ],
      "text/plain": [
       "┏━━━━━━━━━━━━━━━━━━━━━━━━━━━━━━━━━┳━━━━━━━━━━━━━━━━━━━━━━━━┳━━━━━━━━━━━━━━━┓\n",
       "┃\u001b[1m \u001b[0m\u001b[1mLayer (type)                   \u001b[0m\u001b[1m \u001b[0m┃\u001b[1m \u001b[0m\u001b[1mOutput Shape          \u001b[0m\u001b[1m \u001b[0m┃\u001b[1m \u001b[0m\u001b[1m      Param #\u001b[0m\u001b[1m \u001b[0m┃\n",
       "┡━━━━━━━━━━━━━━━━━━━━━━━━━━━━━━━━━╇━━━━━━━━━━━━━━━━━━━━━━━━╇━━━━━━━━━━━━━━━┩\n",
       "│ dense_60 (\u001b[38;5;33mDense\u001b[0m)                │ (\u001b[38;5;45mNone\u001b[0m, \u001b[38;5;34m64\u001b[0m)             │         \u001b[38;5;34m1,600\u001b[0m │\n",
       "├─────────────────────────────────┼────────────────────────┼───────────────┤\n",
       "│ dense_61 (\u001b[38;5;33mDense\u001b[0m)                │ (\u001b[38;5;45mNone\u001b[0m, \u001b[38;5;34m32\u001b[0m)             │         \u001b[38;5;34m2,080\u001b[0m │\n",
       "├─────────────────────────────────┼────────────────────────┼───────────────┤\n",
       "│ dense_62 (\u001b[38;5;33mDense\u001b[0m)                │ (\u001b[38;5;45mNone\u001b[0m, \u001b[38;5;34m16\u001b[0m)             │           \u001b[38;5;34m528\u001b[0m │\n",
       "├─────────────────────────────────┼────────────────────────┼───────────────┤\n",
       "│ dense_63 (\u001b[38;5;33mDense\u001b[0m)                │ (\u001b[38;5;45mNone\u001b[0m, \u001b[38;5;34m1\u001b[0m)              │            \u001b[38;5;34m17\u001b[0m │\n",
       "└─────────────────────────────────┴────────────────────────┴───────────────┘\n"
      ]
     },
     "metadata": {},
     "output_type": "display_data"
    },
    {
     "data": {
      "text/html": [
       "<pre style=\"white-space:pre;overflow-x:auto;line-height:normal;font-family:Menlo,'DejaVu Sans Mono',consolas,'Courier New',monospace\"><span style=\"font-weight: bold\"> Total params: </span><span style=\"color: #00af00; text-decoration-color: #00af00\">12,677</span> (49.52 KB)\n",
       "</pre>\n"
      ],
      "text/plain": [
       "\u001b[1m Total params: \u001b[0m\u001b[38;5;34m12,677\u001b[0m (49.52 KB)\n"
      ]
     },
     "metadata": {},
     "output_type": "display_data"
    },
    {
     "data": {
      "text/html": [
       "<pre style=\"white-space:pre;overflow-x:auto;line-height:normal;font-family:Menlo,'DejaVu Sans Mono',consolas,'Courier New',monospace\"><span style=\"font-weight: bold\"> Trainable params: </span><span style=\"color: #00af00; text-decoration-color: #00af00\">4,225</span> (16.50 KB)\n",
       "</pre>\n"
      ],
      "text/plain": [
       "\u001b[1m Trainable params: \u001b[0m\u001b[38;5;34m4,225\u001b[0m (16.50 KB)\n"
      ]
     },
     "metadata": {},
     "output_type": "display_data"
    },
    {
     "data": {
      "text/html": [
       "<pre style=\"white-space:pre;overflow-x:auto;line-height:normal;font-family:Menlo,'DejaVu Sans Mono',consolas,'Courier New',monospace\"><span style=\"font-weight: bold\"> Non-trainable params: </span><span style=\"color: #00af00; text-decoration-color: #00af00\">0</span> (0.00 B)\n",
       "</pre>\n"
      ],
      "text/plain": [
       "\u001b[1m Non-trainable params: \u001b[0m\u001b[38;5;34m0\u001b[0m (0.00 B)\n"
      ]
     },
     "metadata": {},
     "output_type": "display_data"
    },
    {
     "data": {
      "text/html": [
       "<pre style=\"white-space:pre;overflow-x:auto;line-height:normal;font-family:Menlo,'DejaVu Sans Mono',consolas,'Courier New',monospace\"><span style=\"font-weight: bold\"> Optimizer params: </span><span style=\"color: #00af00; text-decoration-color: #00af00\">8,452</span> (33.02 KB)\n",
       "</pre>\n"
      ],
      "text/plain": [
       "\u001b[1m Optimizer params: \u001b[0m\u001b[38;5;34m8,452\u001b[0m (33.02 KB)\n"
      ]
     },
     "metadata": {},
     "output_type": "display_data"
    }
   ],
   "source": [
    "\"Newtwork summary and size\"\n",
    "final_model.summary()"
   ]
  },
  {
   "cell_type": "code",
   "execution_count": 16,
   "id": "cc370d28",
   "metadata": {},
   "outputs": [
    {
     "name": "stdout",
     "output_type": "stream",
     "text": [
      "   Final test results:\n",
      "   Mean Squared Error (MSE): 41423.4602\n",
      "   Root Mean Squared Error (RMSE): 203.5275\n",
      "   Mean Absolute Error (MAE): 132.1809\n",
      "   R² Score: 0.9998\n",
      "   Comparison:\n",
      "   Cross-Validation RMSE: 199.4945\n",
      "   Final Test RMSE: 203.5275\n",
      "   Difference: 4.0330\n"
     ]
    },
    {
     "data": {
      "image/png": "[encoded data removed]",
      "text/plain": [
       "<Figure size 1000x600 with 1 Axes>"
      ]
     },
     "metadata": {},
     "output_type": "display_data"
    }
   ],
   "source": [
    "\"Evaluate final model on test set\"\n",
    "\n",
    "# Make predictions on test set\n",
    "test_predictions = final_model.predict(X_test_scaled, verbose=0)\n",
    "\n",
    "# Calculate metrics\n",
    "mse = mean_squared_error(y_test, test_predictions)\n",
    "rmse = np.sqrt(mse)\n",
    "mae = mean_absolute_error(y_test, test_predictions)\n",
    "r2 = r2_score(y_test, test_predictions)\n",
    "\n",
    "# Print results\n",
    "print(f\"   Final test results:\")\n",
    "print(f\"   Mean Squared Error (MSE): {mse:.4f}\")\n",
    "print(f\"   Root Mean Squared Error (RMSE): {rmse:.4f}\")\n",
    "print(f\"   Mean Absolute Error (MAE): {mae:.4f}\")\n",
    "print(f\"   R² Score: {r2:.4f}\")\n",
    "\n",
    "print(f\"   Comparison:\")\n",
    "print(f\"   Cross-Validation RMSE: {np.sqrt(best_score):.4f}\")\n",
    "print(f\"   Final Test RMSE: {rmse:.4f}\")\n",
    "print(f\"   Difference: {abs(rmse - np.sqrt(best_score)):.4f}\")\n",
    "\n",
    "# Plot (predictions vs actual)\n",
    "plt.figure(figsize=(10, 6))\n",
    "plt.scatter(y_test, test_predictions, alpha=0.6, color='blue')\n",
    "plt.plot([y_test.min(), y_test.max()], [y_test.min(), y_test.max()], 'r--', lw=2)\n",
    "plt.xlabel('Actual Price')\n",
    "plt.ylabel('Predicted Price')\n",
    "plt.title('Final Model: Actual vs Predicted Prices')\n",
    "plt.grid(True, alpha=0.3)\n",
    "plt.show()"
   ]
  },
  {
   "cell_type": "code",
   "execution_count": 17,
   "id": "16c451e7",
   "metadata": {},
   "outputs": [],
   "source": [
    "\"Save model\"\n",
    "\n",
    "#Metadata\n",
    "model_info = {\n",
    "    'best_params': best_params,\n",
    "    'best_score': best_score,\n",
    "    'feature_names': list(X_train.columns),\n",
    "    'model_type': 'neural_network'\n",
    "}\n",
    "\n",
    "joblib.dump({\n",
    "    'model': final_model,\n",
    "    'scaler': scaler,\n",
    "    'feature_names': list(X_train.columns),\n",
    "    'metadata': model_info\n",
    "}, 'NN_model.joblib')\n",
    "\n",
    "# Load\n",
    "loaded = joblib.load('NN_model.joblib')\n",
    "model = loaded['model']\n",
    "scaler = loaded['scaler']"
   ]
  },
  {
   "cell_type": "code",
   "execution_count": 18,
   "id": "a85bee94",
   "metadata": {},
   "outputs": [],
   "source": [
    "\"Function to predict on new data\"\n",
    "def predict_price(new_data):    \n",
    "    new_data_scaled = scaler.transform(new_data)\n",
    "    prediction = model.predict(new_data_scaled)\n",
    "    return prediction[0][0]"
   ]
  },
  {
   "cell_type": "code",
   "execution_count": 19,
   "id": "fa828a28",
   "metadata": {},
   "outputs": [],
   "source": [
    "\"Example\"\n",
    "new_car_data = pd.DataFrame({\n",
    "    'Make': ['Toyota'],\n",
    "    'Model': ['Camry'],\n",
    "    'Year': [2023],\n",
    "    'Mileage': [25000],\n",
    "    'Engine_Size': [2.5],\n",
    "})"
   ]
  },
  {
   "cell_type": "code",
   "execution_count": 33,
   "id": "954d4202",
   "metadata": {},
   "outputs": [
    {
     "name": "stderr",
     "output_type": "stream",
     "text": [
      "c:\\Users\\Georg\\AppData\\Local\\Programs\\Python\\Python312\\Lib\\site-packages\\sklearn\\utils\\validation.py:2739: UserWarning: X does not have valid feature names, but StandardScaler was fitted with feature names\n",
      "  warnings.warn(\n",
      "c:\\Users\\Georg\\AppData\\Local\\Programs\\Python\\Python312\\Lib\\site-packages\\sklearn\\utils\\validation.py:2739: UserWarning: X does not have valid feature names, but StandardScaler was fitted with feature names\n",
      "  warnings.warn(\n",
      "c:\\Users\\Georg\\AppData\\Local\\Programs\\Python\\Python312\\Lib\\site-packages\\sklearn\\utils\\validation.py:2739: UserWarning: X does not have valid feature names, but StandardScaler was fitted with feature names\n",
      "  warnings.warn(\n"
     ]
    },
    {
     "name": "stdout",
     "output_type": "stream",
     "text": [
      "Sample 1:\n",
      "  Predicted Price: £28,908.2480\n",
      "  Actual Price:    £28,636.0000\n",
      "  Error:           £272.2480\n",
      "\n",
      "Sample 2:\n",
      "  Predicted Price: £59,868.3867\n",
      "  Actual Price:    £59,783.0000\n",
      "  Error:           £85.3867\n",
      "\n",
      "Sample 3:\n",
      "  Predicted Price: £14,754.5684\n",
      "  Actual Price:    £14,865.0000\n",
      "  Error:           £110.4316\n",
      "\n"
     ]
    },
    {
     "name": "stderr",
     "output_type": "stream",
     "text": [
      "c:\\Users\\Georg\\AppData\\Local\\Programs\\Python\\Python312\\Lib\\site-packages\\sklearn\\utils\\validation.py:2739: UserWarning: X does not have valid feature names, but StandardScaler was fitted with feature names\n",
      "  warnings.warn(\n",
      "c:\\Users\\Georg\\AppData\\Local\\Programs\\Python\\Python312\\Lib\\site-packages\\sklearn\\utils\\validation.py:2739: UserWarning: X does not have valid feature names, but StandardScaler was fitted with feature names\n",
      "  warnings.warn(\n",
      "c:\\Users\\Georg\\AppData\\Local\\Programs\\Python\\Python312\\Lib\\site-packages\\sklearn\\utils\\validation.py:2739: UserWarning: X does not have valid feature names, but StandardScaler was fitted with feature names\n",
      "  warnings.warn(\n",
      "c:\\Users\\Georg\\AppData\\Local\\Programs\\Python\\Python312\\Lib\\site-packages\\sklearn\\utils\\validation.py:2739: UserWarning: X does not have valid feature names, but StandardScaler was fitted with feature names\n",
      "  warnings.warn(\n"
     ]
    },
    {
     "name": "stdout",
     "output_type": "stream",
     "text": [
      "Sample 4:\n",
      "  Predicted Price: £2,342.6877\n",
      "  Actual Price:    £2,219.0000\n",
      "  Error:           £123.6877\n",
      "\n",
      "Sample 5:\n",
      "  Predicted Price: £1,097.0349\n",
      "  Actual Price:    £1,001.0000\n",
      "  Error:           £96.0349\n",
      "\n",
      "Sample 6:\n",
      "  Predicted Price: £1,387.9613\n",
      "  Actual Price:    £1,415.0000\n",
      "  Error:           £27.0387\n",
      "\n",
      "Sample 7:\n",
      "  Predicted Price: £105,547.2266\n",
      "  Actual Price:    £106,073.0000\n",
      "  Error:           £525.7734\n",
      "\n"
     ]
    },
    {
     "name": "stderr",
     "output_type": "stream",
     "text": [
      "c:\\Users\\Georg\\AppData\\Local\\Programs\\Python\\Python312\\Lib\\site-packages\\sklearn\\utils\\validation.py:2739: UserWarning: X does not have valid feature names, but StandardScaler was fitted with feature names\n",
      "  warnings.warn(\n",
      "c:\\Users\\Georg\\AppData\\Local\\Programs\\Python\\Python312\\Lib\\site-packages\\sklearn\\utils\\validation.py:2739: UserWarning: X does not have valid feature names, but StandardScaler was fitted with feature names\n",
      "  warnings.warn(\n",
      "c:\\Users\\Georg\\AppData\\Local\\Programs\\Python\\Python312\\Lib\\site-packages\\sklearn\\utils\\validation.py:2739: UserWarning: X does not have valid feature names, but StandardScaler was fitted with feature names\n",
      "  warnings.warn(\n"
     ]
    },
    {
     "name": "stdout",
     "output_type": "stream",
     "text": [
      "Sample 8:\n",
      "  Predicted Price: £1,990.8967\n",
      "  Actual Price:    £2,023.0000\n",
      "  Error:           £32.1033\n",
      "\n",
      "Sample 9:\n",
      "  Predicted Price: £15,455.7637\n",
      "  Actual Price:    £15,492.0000\n",
      "  Error:           £36.2363\n",
      "\n",
      "Sample 10:\n",
      "  Predicted Price: £3,392.9536\n",
      "  Actual Price:    £3,465.0000\n",
      "  Error:           £72.0464\n",
      "\n"
     ]
    }
   ],
   "source": [
    "\"Test prediction on samples from test set\"\n",
    "sample_new_data = X_test.iloc[:10].copy()  # Test samples\n",
    "actual_prices = y_test.iloc[:10].copy()    # Actual prices (for comparison)\n",
    "\n",
    "for i in range(len(sample_new_data)):\n",
    "    sample_scaled = scaler.transform([sample_new_data.iloc[i]])\n",
    "\n",
    "    # Make prediction\n",
    "    predicted_price = model.predict(sample_scaled, verbose=0)[0][0]\n",
    "    actual_price = actual_prices.iloc[i]\n",
    "    \n",
    "\n",
    "    print(f\"Sample {i+1}:\")\n",
    "    print(f\"  Predicted Price: £{predicted_price:,.4f}\")\n",
    "    print(f\"  Actual Price:    £{actual_price:,.4f}\")\n",
    "    print(f\"  Error:           £{abs(predicted_price - actual_price):,.4f}\\n\")\n",
    "    #print(f\"Sample {i+1}:\")\n",
    "    #print(f\"  Predicted Price: ${predicted_price:.2f}\")\n",
    "    #print(f\"  Actual Price: ${actual_price:.2f}\")\n",
    "    #print(f\"  Error: ${abs(predicted_price - actual_price):.2f}\")\n",
    "    #print()"
   ]
  },
  {
   "cell_type": "code",
   "execution_count": 21,
   "id": "9db780fb",
   "metadata": {},
   "outputs": [
    {
     "name": "stdout",
     "output_type": "stream",
     "text": [
      "  Processed 1/24 features...\n",
      "  Processed 11/24 features...\n",
      "  Processed 21/24 features...\n"
     ]
    },
    {
     "data": {
      "image/png": "[encoded data removed]",
      "text/plain": [
       "<Figure size 1200x800 with 1 Axes>"
      ]
     },
     "metadata": {},
     "output_type": "display_data"
    }
   ],
   "source": [
    "\"Feature importance by permutation\"\n",
    "baseline_predictions = final_model.predict(X_test_scaled, verbose=0).flatten()\n",
    "baseline_mse = mean_squared_error(y_test, baseline_predictions)\n",
    "\n",
    "# Calculate importance for each feature\n",
    "feature_importance_scores = []\n",
    "\n",
    "for i, feature_name in enumerate(X_train.columns):\n",
    "    X_test_permuted = X_test_scaled.copy()\n",
    "    np.random.seed(42)\n",
    "    X_test_permuted[:, i] = np.random.permutation(X_test_permuted[:, i])\n",
    "    permuted_predictions = final_model.predict(X_test_permuted, verbose=0).flatten()\n",
    "    permuted_mse = mean_squared_error(y_test, permuted_predictions)\n",
    "    \n",
    "    # Calculate importance \n",
    "    importance = permuted_mse - baseline_mse\n",
    "    feature_importance_scores.append(importance)\n",
    "    \n",
    "    if i % 10 == 0: \n",
    "        print(f\"  Processed {i+1}/{len(X_train.columns)} features...\")\n",
    "\n",
    "feature_importance_df = pd.DataFrame({\n",
    "    'Feature': X_train.columns,\n",
    "    'Importance': feature_importance_scores\n",
    "})\n",
    "\n",
    "def group_feature_importance(df):\n",
    "    grouped_importance = {}\n",
    "    \n",
    "    for _, row in df.iterrows():\n",
    "        feature_name = row['Feature']\n",
    "        importance = row['Importance']\n",
    "        \n",
    "        if feature_name.startswith('Manufacturer_'):\n",
    "            category = 'Manufacturer'\n",
    "        elif feature_name.startswith('Model_'):\n",
    "            category = 'Model'\n",
    "        elif feature_name.startswith('Fuel type_'):\n",
    "            category = 'Fuel type'\n",
    "        else:\n",
    "            category = feature_name\n",
    "        if category in grouped_importance:\n",
    "            grouped_importance[category] += importance\n",
    "        else:\n",
    "            grouped_importance[category] = importance\n",
    "    \n",
    "    return grouped_importance\n",
    "\n",
    "# Group features\n",
    "grouped_scores = group_feature_importance(feature_importance_df)\n",
    "\n",
    "# Sort\n",
    "sort_descending = True \n",
    "\n",
    "grouped_df = pd.DataFrame(list(grouped_scores.items()), \n",
    "                         columns=['Feature', 'Importance']).sort_values('Importance', ascending=True)\n",
    "\n",
    "# Plot top 10 features\n",
    "plt.figure(figsize=(12, 8))\n",
    "top_features = grouped_df.head(10)  # Top 10 grouped features\n",
    "\n",
    "plt.barh(range(len(top_features)), top_features['Importance'], \n",
    "         color='#FF8C00', alpha=0.8)  # Orange color\n",
    "\n",
    "# Labels\n",
    "plt.yticks(range(len(top_features)), top_features['Feature'])\n",
    "plt.xlabel('Importance')\n",
    "\n",
    "sort_label = \"Descending\" if sort_descending else \"Ascending\"\n",
    "plt.title(f'Top 10 Feature Importance ({sort_label})\\nActual Price')\n",
    "\n",
    "if sort_descending:\n",
    "    plt.gca().invert_yaxis()\n",
    "\n",
    "plt.grid(True, alpha=0.3, axis='x')\n",
    "plt.tight_layout()\n",
    "plt.show()"
   ]
  },
  {
   "cell_type": "code",
   "execution_count": null,
   "id": "1ef8f0be",
   "metadata": {},
   "outputs": [
    {
     "data": {
      "application/vnd.jupyter.widget-view+json": {
       "model_id": "9fe8fa162f7e4aa1aa3c90046b84a97b",
       "version_major": 2,
       "version_minor": 0
      },
      "text/plain": [
       "  0%|          | 0/10 [00:00<?, ?it/s]"
      ]
     },
     "metadata": {},
     "output_type": "display_data"
    }
   ],
   "source": [
    "\"SHAP analysis\"\n",
    "# Use smaller sample for faster computation\n",
    "n_background = 50  # Background samples\n",
    "n_explain = 10     # Samples to explain\n",
    "\n",
    "# Create wrapper function\n",
    "def model_predict_shap(X):\n",
    "    return final_model.predict(X, verbose=0).flatten()\n",
    "\n",
    "# Use KernelExplainer\n",
    "explainer = shap.KernelExplainer(model_predict_shap, X_train_scaled[:n_background])\n",
    "shap_values = explainer.shap_values(X_test_scaled[:n_explain])\n",
    "\n",
    "# Calculate feature importance\n",
    "feature_importance = np.mean(np.abs(shap_values), axis=0)\n",
    "\n",
    "# Create mapping of features to their parent categories\n",
    "def get_parent_feature(feature_name):\n",
    "    if feature_name.startswith('Manufacturer_'):\n",
    "        return 'Manufacturer'\n",
    "    elif feature_name.startswith('Model_'):\n",
    "        return 'Model'\n",
    "    elif feature_name.startswith('Fuel type_'):\n",
    "        return 'Fuel type'\n",
    "    else:\n",
    "        return feature_name\n",
    "\n",
    "# Group SHAP values by parent feature and calculate mean\n",
    "grouped_shap = {}\n",
    "feature_counts = {}\n",
    "\n",
    "for i, feature_name in enumerate(X_train.columns):\n",
    "    parent_feature = get_parent_feature(feature_name)\n",
    "    if parent_feature in grouped_shap:\n",
    "        grouped_shap[parent_feature] += feature_importance[i]\n",
    "        feature_counts[parent_feature] += 1\n",
    "    else:\n",
    "        grouped_shap[parent_feature] = feature_importance[i]\n",
    "        feature_counts[parent_feature] = 1\n",
    "\n",
    "# Calculate mean by dividing by count\n",
    "for feature in grouped_shap:\n",
    "    grouped_shap[feature] /= feature_counts[feature]\n",
    "\n",
    "# Create DataFrame with grouped results\n",
    "shap_df = pd.DataFrame({\n",
    "    'Feature': list(grouped_shap.keys()),\n",
    "    'SHAP_Importance': list(grouped_shap.values())\n",
    "}).sort_values('SHAP_Importance', ascending=False)\n",
    "\n",
    "\n"
   ]
  },
  {
   "cell_type": "code",
   "execution_count": 38,
   "id": "4a52f760",
   "metadata": {},
   "outputs": [
    {
     "data": {
      "image/png": "[encoded data removed]",
      "text/plain": [
       "<Figure size 1000x600 with 1 Axes>"
      ]
     },
     "metadata": {},
     "output_type": "display_data"
    }
   ],
   "source": [
    "\"Plot SHAP Feature Importance\"\n",
    "# Sort by importance (ascending for horizontal bar plot)\n",
    "shap_df_sorted = shap_df.sort_values('SHAP_Importance', ascending=False)\n",
    "\n",
    "# Create horizontal bar plot\n",
    "plt.figure(figsize=(10, 6))\n",
    "plt.barh(shap_df_sorted['Feature'], shap_df_sorted['SHAP_Importance'], color='#1f77b4')\n",
    "\n",
    "plt.xlabel('SHAP Value', fontsize=12)\n",
    "plt.title('SHAP Feature Importance', fontsize=14)\n",
    "plt.tight_layout()\n",
    "plt.show()"
   ]
  }
 ],
 "metadata": {
  "kernelspec": {
   "display_name": "Python 3",
   "language": "python",
   "name": "python3"
  },
  "language_info": {
   "codemirror_mode": {
    "name": "ipython",
    "version": 3
   },
   "file_extension": ".py",
   "mimetype": "text/x-python",
   "name": "python",
   "nbconvert_exporter": "python",
   "pygments_lexer": "ipython3",
   "version": "3.12.2"
  }
 },
 "nbformat": 4,
 "nbformat_minor": 5
}
