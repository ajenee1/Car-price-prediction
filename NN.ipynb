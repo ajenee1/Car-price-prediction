{
 "cells": [
  {
   "cell_type": "markdown",
   "id": "71dff673",
   "metadata": {},
   "source": [
    "# Neural Network"
   ]
  },
  {
   "cell_type": "code",
   "execution_count": 1,
   "id": "cef21bc3",
   "metadata": {},
   "outputs": [],
   "source": [
    "import pandas as pd\n",
    "import numpy as np\n",
    "import joblib\n",
    "import shap\n",
    "import matplotlib.pyplot as plt\n",
    "\n",
    "from sklearn.model_selection import train_test_split\n",
    "from sklearn.preprocessing import StandardScaler\n",
    "from sklearn.model_selection import KFold\n",
    "from sklearn.metrics import mean_absolute_error, mean_squared_error, r2_score\n",
    "\n",
    "import tensorflow as tf\n",
    "from tensorflow.keras.models import Sequential\n",
    "from tensorflow.keras.layers import Dense\n",
    "from tensorflow.keras.optimizers import Adam\n",
    "from tensorflow.keras.callbacks import EarlyStopping\n",
    "\n",
    "\n"
   ]
  },
  {
   "cell_type": "code",
   "execution_count": 2,
   "id": "90463348",
   "metadata": {},
   "outputs": [],
   "source": [
    "\"Read in clean-data\"\n",
    "df = pd.read_csv(\"clean_df.csv\")"
   ]
  },
  {
   "cell_type": "code",
   "execution_count": null,
   "id": "8c063701",
   "metadata": {},
   "outputs": [],
   "source": [
    "\"Configure features and target\"\n",
    "# Define target column\n",
    "target_col = \"Price\"\n",
    "\n",
    "# Split features/target\n",
    "x = df.drop(columns=[target_col])\n",
    "y = df[target_col].astype(float)"
   ]
  },
  {
   "cell_type": "code",
   "execution_count": 3,
   "id": "8051672b",
   "metadata": {},
   "outputs": [],
   "source": [
    "\"Configure features and target\"\n",
    "# Define target column\n",
    "target_col = \"Price\"\n",
    "\n",
    "# Split features/target\n",
    "x = df.drop(columns=[target_col])\n",
    "y = df[target_col].astype(float)"
   ]
  },
  {
   "cell_type": "code",
   "execution_count": 4,
   "id": "c9a2f800",
   "metadata": {},
   "outputs": [],
   "source": [
    "\"Split data into training and test sets\"\n",
    "# Split: 80% train, 20% test\n",
    "X_train, X_test, y_train, y_test = train_test_split(\n",
    "    x, y, test_size=0.2, random_state=42\n",
    ")"
   ]
  },
  {
   "cell_type": "code",
   "execution_count": 5,
   "id": "70699031",
   "metadata": {},
   "outputs": [
    {
     "name": "stdout",
     "output_type": "stream",
     "text": [
      "Original X_train shape: (39990, 8)\n",
      "Data types:\n",
      "Manufacturer            object\n",
      "Model                   object\n",
      "Engine size            float64\n",
      "Fuel type               object\n",
      "Year of manufacture      int64\n",
      "Mileage                  int64\n",
      "Car_Age                  int64\n",
      "Mileage_per_Year       float64\n",
      "dtype: object\n"
     ]
    }
   ],
   "source": [
    "\"Preprocess data\"\n",
    "print(f\"Original X_train shape: {X_train.shape}\")\n",
    "print(f\"Data types:\\n{X_train.dtypes}\")\n",
    "\n",
    "\n",
    "# One-hot encoding for categorical variables\n",
    "X_train_processed = pd.get_dummies(X_train, drop_first=True)\n",
    "X_test_processed = pd.get_dummies(X_test, drop_first=True)\n",
    "\n",
    "# Update variables for cross-validation\n",
    "X_train = X_train_processed\n",
    "X_test = X_test_processed"
   ]
  },
  {
   "cell_type": "code",
   "execution_count": 6,
   "id": "532f8362",
   "metadata": {},
   "outputs": [],
   "source": [
    "\"Cross-validation setup\"\n",
    "k_folds = 5 # Number of folds\n",
    "kf = KFold(n_splits=k_folds, shuffle=True, random_state=42)\n",
    "\n",
    "# Define parameter grid to test \n",
    "param_combinations = [\n",
    "    {'learning_rate': 0.001, 'batch_size': 32, 'epochs': 50, 'hidden_size': 64},\n",
    "    {'learning_rate': 0.01, 'batch_size': 32, 'epochs': 50, 'hidden_size': 128},\n",
    "    {'learning_rate': 0.001, 'batch_size': 64, 'epochs': 100, 'hidden_size': 64},\n",
    "]"
   ]
  },
  {
   "cell_type": "code",
   "execution_count": 7,
   "id": "da498ad0",
   "metadata": {},
   "outputs": [],
   "source": [
    "\"Cross-validation function\"\n",
    "def cv_params(X_train, y_train, param_list, k_folds=5):\n",
    "    \"\"\"Cross-validation for neural network hyperparameters\"\"\"\n",
    "    kf = KFold(n_splits=k_folds, shuffle=True, random_state=42)\n",
    "    best_score, best_params = float('inf'), None\n",
    "    \n",
    "    for i, params in enumerate(param_list):\n",
    "        print(f\"\\nTesting {i+1}/{len(param_list)}: {params}\")\n",
    "        scores = []\n",
    "        \n",
    "        # Split and scale data\n",
    "        for fold, (train_idx, val_idx) in enumerate(kf.split(X_train)):\n",
    "            scaler = StandardScaler()\n",
    "            X_tr = scaler.fit_transform(X_train.iloc[train_idx])\n",
    "            X_val = scaler.transform(X_train.iloc[val_idx])\n",
    "            y_tr, y_val = y_train.iloc[train_idx], y_train.iloc[val_idx]\n",
    "            \n",
    "            # Build model\n",
    "            model = Sequential([\n",
    "                Dense(params['hidden_size'], activation='relu', input_dim=X_tr.shape[1]),\n",
    "                Dense(params['hidden_size']//2, activation='relu'),\n",
    "                Dense(params['hidden_size']//4, activation='relu'),\n",
    "                Dense(1)\n",
    "            ])\n",
    "            model.compile(optimizer=Adam(learning_rate=params['learning_rate']), loss='mse')\n",
    "            \n",
    "            # Train\n",
    "            model.fit(X_tr, y_tr, epochs=params['epochs'], batch_size=params['batch_size'],\n",
    "                     validation_data=(X_val, y_val), verbose=0,\n",
    "                     callbacks=[EarlyStopping(patience=10, restore_best_weights=True)])\n",
    "            \n",
    "            # Evaluate\n",
    "            score = mean_squared_error(y_val, model.predict(X_val, verbose=0))\n",
    "            scores.append(score)\n",
    "            print(f\"  Fold {fold+1}: {score:.4f}\")\n",
    "        \n",
    "        # Track best\n",
    "        avg_score = np.mean(scores)\n",
    "        print(f\"  Average: {avg_score:.4f} ± {np.std(scores):.4f}\")\n",
    "        \n",
    "        if avg_score < best_score:\n",
    "            best_score, best_params = avg_score, params\n",
    "    \n",
    "    print(f\"Best: {best_params} (MSE: {best_score:.4f})\")\n",
    "    return best_params, best_score, []"
   ]
  },
  {
   "cell_type": "code",
   "execution_count": 8,
   "id": "6de9cf2e",
   "metadata": {},
   "outputs": [
    {
     "name": "stdout",
     "output_type": "stream",
     "text": [
      "\n",
      "Testing 1/3: {'learning_rate': 0.001, 'batch_size': 32, 'epochs': 50, 'hidden_size': 64}\n"
     ]
    },
    {
     "name": "stderr",
     "output_type": "stream",
     "text": [
      "/opt/anaconda3/lib/python3.12/site-packages/keras/src/layers/core/dense.py:93: UserWarning: Do not pass an `input_shape`/`input_dim` argument to a layer. When using Sequential models, prefer using an `Input(shape)` object as the first layer in the model instead.\n",
      "  super().__init__(activity_regularizer=activity_regularizer, **kwargs)\n"
     ]
    },
    {
     "name": "stdout",
     "output_type": "stream",
     "text": [
      "  Fold 1: 51114.0626\n"
     ]
    },
    {
     "name": "stderr",
     "output_type": "stream",
     "text": [
      "/opt/anaconda3/lib/python3.12/site-packages/keras/src/layers/core/dense.py:93: UserWarning: Do not pass an `input_shape`/`input_dim` argument to a layer. When using Sequential models, prefer using an `Input(shape)` object as the first layer in the model instead.\n",
      "  super().__init__(activity_regularizer=activity_regularizer, **kwargs)\n"
     ]
    },
    {
     "name": "stdout",
     "output_type": "stream",
     "text": [
      "  Fold 2: 47145.7142\n"
     ]
    },
    {
     "name": "stderr",
     "output_type": "stream",
     "text": [
      "/opt/anaconda3/lib/python3.12/site-packages/keras/src/layers/core/dense.py:93: UserWarning: Do not pass an `input_shape`/`input_dim` argument to a layer. When using Sequential models, prefer using an `Input(shape)` object as the first layer in the model instead.\n",
      "  super().__init__(activity_regularizer=activity_regularizer, **kwargs)\n"
     ]
    },
    {
     "name": "stdout",
     "output_type": "stream",
     "text": [
      "  Fold 3: 62224.3883\n"
     ]
    },
    {
     "name": "stderr",
     "output_type": "stream",
     "text": [
      "/opt/anaconda3/lib/python3.12/site-packages/keras/src/layers/core/dense.py:93: UserWarning: Do not pass an `input_shape`/`input_dim` argument to a layer. When using Sequential models, prefer using an `Input(shape)` object as the first layer in the model instead.\n",
      "  super().__init__(activity_regularizer=activity_regularizer, **kwargs)\n"
     ]
    },
    {
     "name": "stdout",
     "output_type": "stream",
     "text": [
      "  Fold 4: 51844.8980\n"
     ]
    },
    {
     "name": "stderr",
     "output_type": "stream",
     "text": [
      "/opt/anaconda3/lib/python3.12/site-packages/keras/src/layers/core/dense.py:93: UserWarning: Do not pass an `input_shape`/`input_dim` argument to a layer. When using Sequential models, prefer using an `Input(shape)` object as the first layer in the model instead.\n",
      "  super().__init__(activity_regularizer=activity_regularizer, **kwargs)\n"
     ]
    },
    {
     "name": "stdout",
     "output_type": "stream",
     "text": [
      "  Fold 5: 41917.1845\n",
      "  Average: 50849.2495 ± 6692.5807\n",
      "\n",
      "Testing 2/3: {'learning_rate': 0.01, 'batch_size': 32, 'epochs': 50, 'hidden_size': 128}\n"
     ]
    },
    {
     "name": "stderr",
     "output_type": "stream",
     "text": [
      "/opt/anaconda3/lib/python3.12/site-packages/keras/src/layers/core/dense.py:93: UserWarning: Do not pass an `input_shape`/`input_dim` argument to a layer. When using Sequential models, prefer using an `Input(shape)` object as the first layer in the model instead.\n",
      "  super().__init__(activity_regularizer=activity_regularizer, **kwargs)\n"
     ]
    },
    {
     "name": "stdout",
     "output_type": "stream",
     "text": [
      "  Fold 1: 39841.8875\n"
     ]
    },
    {
     "name": "stderr",
     "output_type": "stream",
     "text": [
      "/opt/anaconda3/lib/python3.12/site-packages/keras/src/layers/core/dense.py:93: UserWarning: Do not pass an `input_shape`/`input_dim` argument to a layer. When using Sequential models, prefer using an `Input(shape)` object as the first layer in the model instead.\n",
      "  super().__init__(activity_regularizer=activity_regularizer, **kwargs)\n"
     ]
    },
    {
     "name": "stdout",
     "output_type": "stream",
     "text": [
      "  Fold 2: 42903.7923\n"
     ]
    },
    {
     "name": "stderr",
     "output_type": "stream",
     "text": [
      "/opt/anaconda3/lib/python3.12/site-packages/keras/src/layers/core/dense.py:93: UserWarning: Do not pass an `input_shape`/`input_dim` argument to a layer. When using Sequential models, prefer using an `Input(shape)` object as the first layer in the model instead.\n",
      "  super().__init__(activity_regularizer=activity_regularizer, **kwargs)\n"
     ]
    },
    {
     "name": "stdout",
     "output_type": "stream",
     "text": [
      "  Fold 3: 46116.4623\n"
     ]
    },
    {
     "name": "stderr",
     "output_type": "stream",
     "text": [
      "/opt/anaconda3/lib/python3.12/site-packages/keras/src/layers/core/dense.py:93: UserWarning: Do not pass an `input_shape`/`input_dim` argument to a layer. When using Sequential models, prefer using an `Input(shape)` object as the first layer in the model instead.\n",
      "  super().__init__(activity_regularizer=activity_regularizer, **kwargs)\n"
     ]
    },
    {
     "name": "stdout",
     "output_type": "stream",
     "text": [
      "  Fold 4: 46838.4001\n"
     ]
    },
    {
     "name": "stderr",
     "output_type": "stream",
     "text": [
      "/opt/anaconda3/lib/python3.12/site-packages/keras/src/layers/core/dense.py:93: UserWarning: Do not pass an `input_shape`/`input_dim` argument to a layer. When using Sequential models, prefer using an `Input(shape)` object as the first layer in the model instead.\n",
      "  super().__init__(activity_regularizer=activity_regularizer, **kwargs)\n"
     ]
    },
    {
     "name": "stdout",
     "output_type": "stream",
     "text": [
      "  Fold 5: 190111.8508\n",
      "  Average: 73162.4786 ± 58527.6852\n",
      "\n",
      "Testing 3/3: {'learning_rate': 0.001, 'batch_size': 64, 'epochs': 100, 'hidden_size': 64}\n"
     ]
    },
    {
     "name": "stderr",
     "output_type": "stream",
     "text": [
      "/opt/anaconda3/lib/python3.12/site-packages/keras/src/layers/core/dense.py:93: UserWarning: Do not pass an `input_shape`/`input_dim` argument to a layer. When using Sequential models, prefer using an `Input(shape)` object as the first layer in the model instead.\n",
      "  super().__init__(activity_regularizer=activity_regularizer, **kwargs)\n"
     ]
    },
    {
     "name": "stdout",
     "output_type": "stream",
     "text": [
      "  Fold 1: 43458.1744\n"
     ]
    },
    {
     "name": "stderr",
     "output_type": "stream",
     "text": [
      "/opt/anaconda3/lib/python3.12/site-packages/keras/src/layers/core/dense.py:93: UserWarning: Do not pass an `input_shape`/`input_dim` argument to a layer. When using Sequential models, prefer using an `Input(shape)` object as the first layer in the model instead.\n",
      "  super().__init__(activity_regularizer=activity_regularizer, **kwargs)\n"
     ]
    },
    {
     "name": "stdout",
     "output_type": "stream",
     "text": [
      "  Fold 2: 34829.6904\n"
     ]
    },
    {
     "name": "stderr",
     "output_type": "stream",
     "text": [
      "/opt/anaconda3/lib/python3.12/site-packages/keras/src/layers/core/dense.py:93: UserWarning: Do not pass an `input_shape`/`input_dim` argument to a layer. When using Sequential models, prefer using an `Input(shape)` object as the first layer in the model instead.\n",
      "  super().__init__(activity_regularizer=activity_regularizer, **kwargs)\n"
     ]
    },
    {
     "name": "stdout",
     "output_type": "stream",
     "text": [
      "  Fold 3: 45163.5656\n"
     ]
    },
    {
     "name": "stderr",
     "output_type": "stream",
     "text": [
      "/opt/anaconda3/lib/python3.12/site-packages/keras/src/layers/core/dense.py:93: UserWarning: Do not pass an `input_shape`/`input_dim` argument to a layer. When using Sequential models, prefer using an `Input(shape)` object as the first layer in the model instead.\n",
      "  super().__init__(activity_regularizer=activity_regularizer, **kwargs)\n"
     ]
    },
    {
     "name": "stdout",
     "output_type": "stream",
     "text": [
      "  Fold 4: 22787.0203\n"
     ]
    },
    {
     "name": "stderr",
     "output_type": "stream",
     "text": [
      "/opt/anaconda3/lib/python3.12/site-packages/keras/src/layers/core/dense.py:93: UserWarning: Do not pass an `input_shape`/`input_dim` argument to a layer. When using Sequential models, prefer using an `Input(shape)` object as the first layer in the model instead.\n",
      "  super().__init__(activity_regularizer=activity_regularizer, **kwargs)\n"
     ]
    },
    {
     "name": "stdout",
     "output_type": "stream",
     "text": [
      "  Fold 5: 49559.8412\n",
      "  Average: 39159.6584 ± 9481.5594\n",
      "Best: {'learning_rate': 0.001, 'batch_size': 64, 'epochs': 100, 'hidden_size': 64} (MSE: 39159.6584)\n",
      "\n",
      "All parameter combinations tested:\n",
      "   BEST PARAMETERS FOUND:\n",
      "   Parameters: {'learning_rate': 0.001, 'batch_size': 64, 'epochs': 100, 'hidden_size': 64}\n",
      "   Best CV Score (MSE): 39159.6584\n",
      "   Best CV Score (RMSE): 197.8880\n"
     ]
    }
   ],
   "source": [
    "\"Run cross-validation to find best parameters\"\n",
    "best_params, best_score, all_results = cv_params(\n",
    "    X_train, y_train, \n",
    "    param_combinations, \n",
    "    k_folds=5\n",
    ")\n",
    "\n",
    "print(\"\\nAll parameter combinations tested:\")\n",
    "for i, result in enumerate(all_results):\n",
    "    print(f\"\\n{i+1}. {result['params']}\")\n",
    "    print(f\"   Average MSE: {result['avg_score']:.4f} ± {result['std_score']:.4f}\")\n",
    "    print(f\"   Fold scores: {[f'{score:.4f}' for score in result['fold_scores']]}\")\n",
    "\n",
    "# Print best parameters\n",
    "print(f\"   BEST PARAMETERS FOUND:\")\n",
    "print(f\"   Parameters: {best_params}\")\n",
    "print(f\"   Best CV Score (MSE): {best_score:.4f}\")\n",
    "print(f\"   Best CV Score (RMSE): {np.sqrt(best_score):.4f}\")"
   ]
  },
  {
   "cell_type": "code",
   "execution_count": 9,
   "id": "a55139da",
   "metadata": {},
   "outputs": [
    {
     "name": "stdout",
     "output_type": "stream",
     "text": [
      "Epoch 1/100\n"
     ]
    },
    {
     "name": "stderr",
     "output_type": "stream",
     "text": [
      "/opt/anaconda3/lib/python3.12/site-packages/keras/src/layers/core/dense.py:93: UserWarning: Do not pass an `input_shape`/`input_dim` argument to a layer. When using Sequential models, prefer using an `Input(shape)` object as the first layer in the model instead.\n",
      "  super().__init__(activity_regularizer=activity_regularizer, **kwargs)\n"
     ]
    },
    {
     "name": "stdout",
     "output_type": "stream",
     "text": [
      "\u001b[1m500/500\u001b[0m \u001b[32m━━━━━━━━━━━━━━━━━━━━\u001b[0m\u001b[37m\u001b[0m \u001b[1m1s\u001b[0m 490us/step - loss: 425906272.0000 - mae: 12927.5771 - val_loss: 53741932.0000 - val_mae: 3809.9602\n",
      "Epoch 2/100\n",
      "\u001b[1m500/500\u001b[0m \u001b[32m━━━━━━━━━━━━━━━━━━━━\u001b[0m\u001b[37m\u001b[0m \u001b[1m0s\u001b[0m 375us/step - loss: 46626116.0000 - mae: 3545.4968 - val_loss: 30980696.0000 - val_mae: 2691.1221\n",
      "Epoch 3/100\n",
      "\u001b[1m500/500\u001b[0m \u001b[32m━━━━━━━━━━━━━━━━━━━━\u001b[0m\u001b[37m\u001b[0m \u001b[1m0s\u001b[0m 373us/step - loss: 31765714.0000 - mae: 2741.3433 - val_loss: 23854280.0000 - val_mae: 2173.9014\n",
      "Epoch 4/100\n",
      "\u001b[1m500/500\u001b[0m \u001b[32m━━━━━━━━━━━━━━━━━━━━\u001b[0m\u001b[37m\u001b[0m \u001b[1m0s\u001b[0m 379us/step - loss: 24149350.0000 - mae: 2264.1736 - val_loss: 18852774.0000 - val_mae: 1819.1096\n",
      "Epoch 5/100\n",
      "\u001b[1m500/500\u001b[0m \u001b[32m━━━━━━━━━━━━━━━━━━━━\u001b[0m\u001b[37m\u001b[0m \u001b[1m0s\u001b[0m 382us/step - loss: 19721272.0000 - mae: 1798.3658 - val_loss: 15870964.0000 - val_mae: 1508.6024\n",
      "Epoch 6/100\n",
      "\u001b[1m500/500\u001b[0m \u001b[32m━━━━━━━━━━━━━━━━━━━━\u001b[0m\u001b[37m\u001b[0m \u001b[1m0s\u001b[0m 376us/step - loss: 16037695.0000 - mae: 1494.2035 - val_loss: 13419224.0000 - val_mae: 1311.2880\n",
      "Epoch 7/100\n",
      "\u001b[1m500/500\u001b[0m \u001b[32m━━━━━━━━━━━━━━━━━━━━\u001b[0m\u001b[37m\u001b[0m \u001b[1m0s\u001b[0m 374us/step - loss: 13402386.0000 - mae: 1317.4392 - val_loss: 11299549.0000 - val_mae: 1168.3246\n",
      "Epoch 8/100\n",
      "\u001b[1m500/500\u001b[0m \u001b[32m━━━━━━━━━━━━━━━━━━━━\u001b[0m\u001b[37m\u001b[0m \u001b[1m0s\u001b[0m 376us/step - loss: 11623036.0000 - mae: 1165.5757 - val_loss: 9256606.0000 - val_mae: 1014.6098\n",
      "Epoch 9/100\n",
      "\u001b[1m500/500\u001b[0m \u001b[32m━━━━━━━━━━━━━━━━━━━━\u001b[0m\u001b[37m\u001b[0m \u001b[1m0s\u001b[0m 370us/step - loss: 8876388.0000 - mae: 1003.8259 - val_loss: 7356900.0000 - val_mae: 886.9396\n",
      "Epoch 10/100\n",
      "\u001b[1m500/500\u001b[0m \u001b[32m━━━━━━━━━━━━━━━━━━━━\u001b[0m\u001b[37m\u001b[0m \u001b[1m0s\u001b[0m 371us/step - loss: 7321490.5000 - mae: 896.1678 - val_loss: 5765397.0000 - val_mae: 758.9397\n",
      "Epoch 11/100\n",
      "\u001b[1m500/500\u001b[0m \u001b[32m━━━━━━━━━━━━━━━━━━━━\u001b[0m\u001b[37m\u001b[0m \u001b[1m0s\u001b[0m 373us/step - loss: 5063054.0000 - mae: 761.1334 - val_loss: 4176169.0000 - val_mae: 713.3835\n",
      "Epoch 12/100\n",
      "\u001b[1m500/500\u001b[0m \u001b[32m━━━━━━━━━━━━━━━━━━━━\u001b[0m\u001b[37m\u001b[0m \u001b[1m0s\u001b[0m 427us/step - loss: 3872315.5000 - mae: 688.7814 - val_loss: 3144876.7500 - val_mae: 662.2139\n",
      "Epoch 13/100\n",
      "\u001b[1m500/500\u001b[0m \u001b[32m━━━━━━━━━━━━━━━━━━━━\u001b[0m\u001b[37m\u001b[0m \u001b[1m0s\u001b[0m 371us/step - loss: 2562907.0000 - mae: 599.7924 - val_loss: 2395313.5000 - val_mae: 607.9594\n",
      "Epoch 14/100\n",
      "\u001b[1m500/500\u001b[0m \u001b[32m━━━━━━━━━━━━━━━━━━━━\u001b[0m\u001b[37m\u001b[0m \u001b[1m0s\u001b[0m 375us/step - loss: 2357141.7500 - mae: 559.2466 - val_loss: 1705349.7500 - val_mae: 516.2907\n",
      "Epoch 15/100\n",
      "\u001b[1m500/500\u001b[0m \u001b[32m━━━━━━━━━━━━━━━━━━━━\u001b[0m\u001b[37m\u001b[0m \u001b[1m0s\u001b[0m 380us/step - loss: 1627081.2500 - mae: 501.1789 - val_loss: 1334315.7500 - val_mae: 463.1165\n",
      "Epoch 16/100\n",
      "\u001b[1m500/500\u001b[0m \u001b[32m━━━━━━━━━━━━━━━━━━━━\u001b[0m\u001b[37m\u001b[0m \u001b[1m0s\u001b[0m 378us/step - loss: 1207071.1250 - mae: 446.8196 - val_loss: 1066133.3750 - val_mae: 435.5341\n",
      "Epoch 17/100\n",
      "\u001b[1m500/500\u001b[0m \u001b[32m━━━━━━━━━━━━━━━━━━━━\u001b[0m\u001b[37m\u001b[0m \u001b[1m0s\u001b[0m 391us/step - loss: 1067494.1250 - mae: 408.4549 - val_loss: 764289.8750 - val_mae: 379.2212\n",
      "Epoch 18/100\n",
      "\u001b[1m500/500\u001b[0m \u001b[32m━━━━━━━━━━━━━━━━━━━━\u001b[0m\u001b[37m\u001b[0m \u001b[1m0s\u001b[0m 377us/step - loss: 883405.1250 - mae: 363.2749 - val_loss: 636420.0000 - val_mae: 335.3427\n",
      "Epoch 19/100\n",
      "\u001b[1m500/500\u001b[0m \u001b[32m━━━━━━━━━━━━━━━━━━━━\u001b[0m\u001b[37m\u001b[0m \u001b[1m0s\u001b[0m 377us/step - loss: 578659.1250 - mae: 324.5334 - val_loss: 471476.5625 - val_mae: 313.7742\n",
      "Epoch 20/100\n",
      "\u001b[1m500/500\u001b[0m \u001b[32m━━━━━━━━━━━━━━━━━━━━\u001b[0m\u001b[37m\u001b[0m \u001b[1m0s\u001b[0m 385us/step - loss: 554164.6875 - mae: 302.8021 - val_loss: 433557.6875 - val_mae: 314.6587\n",
      "Epoch 21/100\n",
      "\u001b[1m500/500\u001b[0m \u001b[32m━━━━━━━━━━━━━━━━━━━━\u001b[0m\u001b[37m\u001b[0m \u001b[1m0s\u001b[0m 376us/step - loss: 419142.2812 - mae: 286.7509 - val_loss: 351450.2812 - val_mae: 293.6721\n",
      "Epoch 22/100\n",
      "\u001b[1m500/500\u001b[0m \u001b[32m━━━━━━━━━━━━━━━━━━━━\u001b[0m\u001b[37m\u001b[0m \u001b[1m0s\u001b[0m 381us/step - loss: 372286.1250 - mae: 280.3203 - val_loss: 284814.0312 - val_mae: 258.8953\n",
      "Epoch 23/100\n",
      "\u001b[1m500/500\u001b[0m \u001b[32m━━━━━━━━━━━━━━━━━━━━\u001b[0m\u001b[37m\u001b[0m \u001b[1m0s\u001b[0m 378us/step - loss: 334322.0625 - mae: 265.9458 - val_loss: 262913.2812 - val_mae: 260.6085\n",
      "Epoch 24/100\n",
      "\u001b[1m500/500\u001b[0m \u001b[32m━━━━━━━━━━━━━━━━━━━━\u001b[0m\u001b[37m\u001b[0m \u001b[1m0s\u001b[0m 378us/step - loss: 311813.9375 - mae: 262.1917 - val_loss: 258722.5000 - val_mae: 261.1821\n",
      "Epoch 25/100\n",
      "\u001b[1m500/500\u001b[0m \u001b[32m━━━━━━━━━━━━━━━━━━━━\u001b[0m\u001b[37m\u001b[0m \u001b[1m0s\u001b[0m 376us/step - loss: 274546.8750 - mae: 252.3695 - val_loss: 234921.5781 - val_mae: 247.8262\n",
      "Epoch 26/100\n",
      "\u001b[1m500/500\u001b[0m \u001b[32m━━━━━━━━━━━━━━━━━━━━\u001b[0m\u001b[37m\u001b[0m \u001b[1m0s\u001b[0m 374us/step - loss: 253773.0312 - mae: 245.5261 - val_loss: 199786.6562 - val_mae: 235.8297\n",
      "Epoch 27/100\n",
      "\u001b[1m500/500\u001b[0m \u001b[32m━━━━━━━━━━━━━━━━━━━━\u001b[0m\u001b[37m\u001b[0m \u001b[1m0s\u001b[0m 372us/step - loss: 234240.2188 - mae: 238.6705 - val_loss: 159659.7344 - val_mae: 222.6522\n",
      "Epoch 28/100\n",
      "\u001b[1m500/500\u001b[0m \u001b[32m━━━━━━━━━━━━━━━━━━━━\u001b[0m\u001b[37m\u001b[0m \u001b[1m0s\u001b[0m 381us/step - loss: 202032.8594 - mae: 227.5230 - val_loss: 157978.3281 - val_mae: 218.0991\n",
      "Epoch 29/100\n",
      "\u001b[1m500/500\u001b[0m \u001b[32m━━━━━━━━━━━━━━━━━━━━\u001b[0m\u001b[37m\u001b[0m \u001b[1m0s\u001b[0m 669us/step - loss: 167071.1094 - mae: 219.6318 - val_loss: 154466.4688 - val_mae: 234.2759\n",
      "Epoch 30/100\n",
      "\u001b[1m500/500\u001b[0m \u001b[32m━━━━━━━━━━━━━━━━━━━━\u001b[0m\u001b[37m\u001b[0m \u001b[1m0s\u001b[0m 628us/step - loss: 163196.6719 - mae: 212.3855 - val_loss: 138186.7969 - val_mae: 225.6462\n",
      "Epoch 31/100\n",
      "\u001b[1m500/500\u001b[0m \u001b[32m━━━━━━━━━━━━━━━━━━━━\u001b[0m\u001b[37m\u001b[0m \u001b[1m0s\u001b[0m 578us/step - loss: 141690.9219 - mae: 205.7409 - val_loss: 120672.7578 - val_mae: 209.2027\n",
      "Epoch 32/100\n",
      "\u001b[1m500/500\u001b[0m \u001b[32m━━━━━━━━━━━━━━━━━━━━\u001b[0m\u001b[37m\u001b[0m \u001b[1m0s\u001b[0m 409us/step - loss: 127333.4531 - mae: 196.6362 - val_loss: 113046.0312 - val_mae: 192.9759\n",
      "Epoch 33/100\n",
      "\u001b[1m500/500\u001b[0m \u001b[32m━━━━━━━━━━━━━━━━━━━━\u001b[0m\u001b[37m\u001b[0m \u001b[1m0s\u001b[0m 385us/step - loss: 118671.1719 - mae: 192.7290 - val_loss: 108954.4219 - val_mae: 192.2489\n",
      "Epoch 34/100\n",
      "\u001b[1m500/500\u001b[0m \u001b[32m━━━━━━━━━━━━━━━━━━━━\u001b[0m\u001b[37m\u001b[0m \u001b[1m0s\u001b[0m 597us/step - loss: 112534.2344 - mae: 192.2174 - val_loss: 132545.6875 - val_mae: 199.0782\n",
      "Epoch 35/100\n",
      "\u001b[1m500/500\u001b[0m \u001b[32m━━━━━━━━━━━━━━━━━━━━\u001b[0m\u001b[37m\u001b[0m \u001b[1m0s\u001b[0m 582us/step - loss: 110665.0156 - mae: 188.4002 - val_loss: 94827.5781 - val_mae: 183.0214\n",
      "Epoch 36/100\n",
      "\u001b[1m500/500\u001b[0m \u001b[32m━━━━━━━━━━━━━━━━━━━━\u001b[0m\u001b[37m\u001b[0m \u001b[1m0s\u001b[0m 399us/step - loss: 109559.6797 - mae: 187.3497 - val_loss: 93968.0703 - val_mae: 188.2070\n",
      "Epoch 37/100\n",
      "\u001b[1m500/500\u001b[0m \u001b[32m━━━━━━━━━━━━━━━━━━━━\u001b[0m\u001b[37m\u001b[0m \u001b[1m0s\u001b[0m 461us/step - loss: 95606.3047 - mae: 182.4147 - val_loss: 84685.2812 - val_mae: 176.5010\n",
      "Epoch 38/100\n",
      "\u001b[1m500/500\u001b[0m \u001b[32m━━━━━━━━━━━━━━━━━━━━\u001b[0m\u001b[37m\u001b[0m \u001b[1m0s\u001b[0m 392us/step - loss: 79584.2969 - mae: 172.0627 - val_loss: 97707.0781 - val_mae: 187.0059\n",
      "Epoch 39/100\n",
      "\u001b[1m500/500\u001b[0m \u001b[32m━━━━━━━━━━━━━━━━━━━━\u001b[0m\u001b[37m\u001b[0m \u001b[1m0s\u001b[0m 389us/step - loss: 80883.6953 - mae: 168.7380 - val_loss: 77338.6719 - val_mae: 173.3981\n",
      "Epoch 40/100\n",
      "\u001b[1m500/500\u001b[0m \u001b[32m━━━━━━━━━━━━━━━━━━━━\u001b[0m\u001b[37m\u001b[0m \u001b[1m0s\u001b[0m 369us/step - loss: 81677.4609 - mae: 167.8416 - val_loss: 111366.5078 - val_mae: 192.1624\n",
      "Epoch 41/100\n",
      "\u001b[1m500/500\u001b[0m \u001b[32m━━━━━━━━━━━━━━━━━━━━\u001b[0m\u001b[37m\u001b[0m \u001b[1m0s\u001b[0m 413us/step - loss: 78966.4531 - mae: 169.3593 - val_loss: 78386.6250 - val_mae: 171.6998\n",
      "Epoch 42/100\n",
      "\u001b[1m500/500\u001b[0m \u001b[32m━━━━━━━━━━━━━━━━━━━━\u001b[0m\u001b[37m\u001b[0m \u001b[1m0s\u001b[0m 517us/step - loss: 77242.8438 - mae: 163.0804 - val_loss: 65330.4688 - val_mae: 159.6940\n",
      "Epoch 43/100\n",
      "\u001b[1m500/500\u001b[0m \u001b[32m━━━━━━━━━━━━━━━━━━━━\u001b[0m\u001b[37m\u001b[0m \u001b[1m0s\u001b[0m 718us/step - loss: 75084.8125 - mae: 162.1955 - val_loss: 103955.1719 - val_mae: 195.8216\n",
      "Epoch 44/100\n",
      "\u001b[1m500/500\u001b[0m \u001b[32m━━━━━━━━━━━━━━━━━━━━\u001b[0m\u001b[37m\u001b[0m \u001b[1m0s\u001b[0m 428us/step - loss: 65980.2344 - mae: 157.7253 - val_loss: 75651.1016 - val_mae: 168.2583\n",
      "Epoch 45/100\n",
      "\u001b[1m500/500\u001b[0m \u001b[32m━━━━━━━━━━━━━━━━━━━━\u001b[0m\u001b[37m\u001b[0m \u001b[1m0s\u001b[0m 421us/step - loss: 72855.2578 - mae: 158.5920 - val_loss: 67293.4141 - val_mae: 159.4841\n",
      "Epoch 46/100\n",
      "\u001b[1m500/500\u001b[0m \u001b[32m━━━━━━━━━━━━━━━━━━━━\u001b[0m\u001b[37m\u001b[0m \u001b[1m0s\u001b[0m 377us/step - loss: 66547.8125 - mae: 156.5262 - val_loss: 61827.6719 - val_mae: 156.0908\n",
      "Epoch 47/100\n",
      "\u001b[1m500/500\u001b[0m \u001b[32m━━━━━━━━━━━━━━━━━━━━\u001b[0m\u001b[37m\u001b[0m \u001b[1m0s\u001b[0m 376us/step - loss: 64187.6172 - mae: 151.4109 - val_loss: 69765.9922 - val_mae: 167.1218\n",
      "Epoch 48/100\n",
      "\u001b[1m500/500\u001b[0m \u001b[32m━━━━━━━━━━━━━━━━━━━━\u001b[0m\u001b[37m\u001b[0m \u001b[1m0s\u001b[0m 810us/step - loss: 66845.1016 - mae: 154.6509 - val_loss: 70406.3047 - val_mae: 162.3923\n",
      "Epoch 49/100\n",
      "\u001b[1m500/500\u001b[0m \u001b[32m━━━━━━━━━━━━━━━━━━━━\u001b[0m\u001b[37m\u001b[0m \u001b[1m0s\u001b[0m 526us/step - loss: 60582.3711 - mae: 151.8233 - val_loss: 55069.9531 - val_mae: 147.6283\n",
      "Epoch 50/100\n",
      "\u001b[1m500/500\u001b[0m \u001b[32m━━━━━━━━━━━━━━━━━━━━\u001b[0m\u001b[37m\u001b[0m \u001b[1m0s\u001b[0m 377us/step - loss: 57699.6289 - mae: 146.7592 - val_loss: 60644.7930 - val_mae: 151.0146\n",
      "Epoch 51/100\n",
      "\u001b[1m500/500\u001b[0m \u001b[32m━━━━━━━━━━━━━━━━━━━━\u001b[0m\u001b[37m\u001b[0m \u001b[1m0s\u001b[0m 373us/step - loss: 55455.6406 - mae: 147.5437 - val_loss: 61265.0977 - val_mae: 155.0019\n",
      "Epoch 52/100\n",
      "\u001b[1m500/500\u001b[0m \u001b[32m━━━━━━━━━━━━━━━━━━━━\u001b[0m\u001b[37m\u001b[0m \u001b[1m0s\u001b[0m 369us/step - loss: 55837.9766 - mae: 146.2507 - val_loss: 62231.1289 - val_mae: 150.2331\n",
      "Epoch 53/100\n",
      "\u001b[1m500/500\u001b[0m \u001b[32m━━━━━━━━━━━━━━━━━━━━\u001b[0m\u001b[37m\u001b[0m \u001b[1m0s\u001b[0m 370us/step - loss: 56947.6523 - mae: 150.0153 - val_loss: 57359.7070 - val_mae: 154.9361\n",
      "Epoch 54/100\n",
      "\u001b[1m500/500\u001b[0m \u001b[32m━━━━━━━━━━━━━━━━━━━━\u001b[0m\u001b[37m\u001b[0m \u001b[1m0s\u001b[0m 369us/step - loss: 59179.7656 - mae: 148.5667 - val_loss: 49191.0000 - val_mae: 139.7035\n",
      "Epoch 55/100\n",
      "\u001b[1m500/500\u001b[0m \u001b[32m━━━━━━━━━━━━━━━━━━━━\u001b[0m\u001b[37m\u001b[0m \u001b[1m0s\u001b[0m 369us/step - loss: 49388.9375 - mae: 140.0752 - val_loss: 64676.2930 - val_mae: 156.7328\n",
      "Epoch 56/100\n",
      "\u001b[1m500/500\u001b[0m \u001b[32m━━━━━━━━━━━━━━━━━━━━\u001b[0m\u001b[37m\u001b[0m \u001b[1m0s\u001b[0m 368us/step - loss: 50990.9922 - mae: 143.3806 - val_loss: 61960.8828 - val_mae: 153.6288\n",
      "Epoch 57/100\n",
      "\u001b[1m500/500\u001b[0m \u001b[32m━━━━━━━━━━━━━━━━━━━━\u001b[0m\u001b[37m\u001b[0m \u001b[1m0s\u001b[0m 422us/step - loss: 52444.0039 - mae: 140.6296 - val_loss: 61614.7695 - val_mae: 144.9936\n",
      "Epoch 58/100\n",
      "\u001b[1m500/500\u001b[0m \u001b[32m━━━━━━━━━━━━━━━━━━━━\u001b[0m\u001b[37m\u001b[0m \u001b[1m0s\u001b[0m 369us/step - loss: 52726.8516 - mae: 140.0904 - val_loss: 62109.7539 - val_mae: 149.8333\n",
      "Epoch 59/100\n",
      "\u001b[1m500/500\u001b[0m \u001b[32m━━━━━━━━━━━━━━━━━━━━\u001b[0m\u001b[37m\u001b[0m \u001b[1m0s\u001b[0m 367us/step - loss: 53098.6445 - mae: 142.1714 - val_loss: 46886.0820 - val_mae: 137.5326\n",
      "Epoch 60/100\n",
      "\u001b[1m500/500\u001b[0m \u001b[32m━━━━━━━━━━━━━━━━━━━━\u001b[0m\u001b[37m\u001b[0m \u001b[1m0s\u001b[0m 364us/step - loss: 47774.7383 - mae: 137.3567 - val_loss: 68415.2656 - val_mae: 166.4180\n",
      "Epoch 61/100\n",
      "\u001b[1m500/500\u001b[0m \u001b[32m━━━━━━━━━━━━━━━━━━━━\u001b[0m\u001b[37m\u001b[0m \u001b[1m0s\u001b[0m 377us/step - loss: 47631.5430 - mae: 138.0432 - val_loss: 47338.5312 - val_mae: 134.8147\n",
      "Epoch 62/100\n",
      "\u001b[1m500/500\u001b[0m \u001b[32m━━━━━━━━━━━━━━━━━━━━\u001b[0m\u001b[37m\u001b[0m \u001b[1m0s\u001b[0m 369us/step - loss: 48918.2891 - mae: 136.1184 - val_loss: 44871.0469 - val_mae: 131.5530\n",
      "Epoch 63/100\n",
      "\u001b[1m500/500\u001b[0m \u001b[32m━━━━━━━━━━━━━━━━━━━━\u001b[0m\u001b[37m\u001b[0m \u001b[1m0s\u001b[0m 370us/step - loss: 44449.9805 - mae: 132.4910 - val_loss: 51465.3359 - val_mae: 132.3176\n",
      "Epoch 64/100\n",
      "\u001b[1m500/500\u001b[0m \u001b[32m━━━━━━━━━━━━━━━━━━━━\u001b[0m\u001b[37m\u001b[0m \u001b[1m0s\u001b[0m 368us/step - loss: 45829.7734 - mae: 133.1482 - val_loss: 48617.9297 - val_mae: 136.9486\n",
      "Epoch 65/100\n",
      "\u001b[1m500/500\u001b[0m \u001b[32m━━━━━━━━━━━━━━━━━━━━\u001b[0m\u001b[37m\u001b[0m \u001b[1m0s\u001b[0m 366us/step - loss: 47043.3789 - mae: 133.7810 - val_loss: 45954.1172 - val_mae: 135.4193\n",
      "Epoch 66/100\n",
      "\u001b[1m500/500\u001b[0m \u001b[32m━━━━━━━━━━━━━━━━━━━━\u001b[0m\u001b[37m\u001b[0m \u001b[1m0s\u001b[0m 369us/step - loss: 41907.0000 - mae: 131.3212 - val_loss: 77615.1484 - val_mae: 159.2968\n",
      "Epoch 67/100\n",
      "\u001b[1m500/500\u001b[0m \u001b[32m━━━━━━━━━━━━━━━━━━━━\u001b[0m\u001b[37m\u001b[0m \u001b[1m0s\u001b[0m 367us/step - loss: 54042.0781 - mae: 141.8011 - val_loss: 42031.5234 - val_mae: 131.1927\n",
      "Epoch 68/100\n",
      "\u001b[1m500/500\u001b[0m \u001b[32m━━━━━━━━━━━━━━━━━━━━\u001b[0m\u001b[37m\u001b[0m \u001b[1m0s\u001b[0m 367us/step - loss: 52564.7930 - mae: 133.2987 - val_loss: 43926.9648 - val_mae: 130.1713\n",
      "Epoch 69/100\n",
      "\u001b[1m500/500\u001b[0m \u001b[32m━━━━━━━━━━━━━━━━━━━━\u001b[0m\u001b[37m\u001b[0m \u001b[1m0s\u001b[0m 366us/step - loss: 45593.1719 - mae: 131.4096 - val_loss: 47790.4258 - val_mae: 140.6335\n",
      "Epoch 70/100\n",
      "\u001b[1m500/500\u001b[0m \u001b[32m━━━━━━━━━━━━━━━━━━━━\u001b[0m\u001b[37m\u001b[0m \u001b[1m0s\u001b[0m 368us/step - loss: 45555.6836 - mae: 132.1173 - val_loss: 41650.5352 - val_mae: 127.7972\n",
      "Epoch 71/100\n",
      "\u001b[1m500/500\u001b[0m \u001b[32m━━━━━━━━━━━━━━━━━━━━\u001b[0m\u001b[37m\u001b[0m \u001b[1m0s\u001b[0m 369us/step - loss: 41951.3984 - mae: 130.2583 - val_loss: 53918.9062 - val_mae: 143.8417\n",
      "Epoch 72/100\n",
      "\u001b[1m500/500\u001b[0m \u001b[32m━━━━━━━━━━━━━━━━━━━━\u001b[0m\u001b[37m\u001b[0m \u001b[1m0s\u001b[0m 368us/step - loss: 50563.7695 - mae: 135.3412 - val_loss: 41025.2812 - val_mae: 127.2978\n",
      "Epoch 73/100\n",
      "\u001b[1m500/500\u001b[0m \u001b[32m━━━━━━━━━━━━━━━━━━━━\u001b[0m\u001b[37m\u001b[0m \u001b[1m0s\u001b[0m 371us/step - loss: 45950.2734 - mae: 130.5883 - val_loss: 45953.6992 - val_mae: 131.9646\n",
      "Epoch 74/100\n",
      "\u001b[1m500/500\u001b[0m \u001b[32m━━━━━━━━━━━━━━━━━━━━\u001b[0m\u001b[37m\u001b[0m \u001b[1m0s\u001b[0m 369us/step - loss: 40819.0234 - mae: 126.8594 - val_loss: 41024.0430 - val_mae: 127.1436\n",
      "Epoch 75/100\n",
      "\u001b[1m500/500\u001b[0m \u001b[32m━━━━━━━━━━━━━━━━━━━━\u001b[0m\u001b[37m\u001b[0m \u001b[1m0s\u001b[0m 406us/step - loss: 39704.3008 - mae: 125.0442 - val_loss: 43379.1055 - val_mae: 129.5693\n",
      "Epoch 76/100\n",
      "\u001b[1m500/500\u001b[0m \u001b[32m━━━━━━━━━━━━━━━━━━━━\u001b[0m\u001b[37m\u001b[0m \u001b[1m0s\u001b[0m 366us/step - loss: 40324.1211 - mae: 127.1310 - val_loss: 42580.2852 - val_mae: 128.6172\n",
      "Epoch 77/100\n",
      "\u001b[1m500/500\u001b[0m \u001b[32m━━━━━━━━━━━━━━━━━━━━\u001b[0m\u001b[37m\u001b[0m \u001b[1m0s\u001b[0m 368us/step - loss: 39013.5234 - mae: 123.6613 - val_loss: 41211.2852 - val_mae: 123.5254\n",
      "Epoch 78/100\n",
      "\u001b[1m500/500\u001b[0m \u001b[32m━━━━━━━━━━━━━━━━━━━━\u001b[0m\u001b[37m\u001b[0m \u001b[1m0s\u001b[0m 367us/step - loss: 41387.7578 - mae: 125.9554 - val_loss: 37377.9062 - val_mae: 125.7970\n",
      "Epoch 79/100\n",
      "\u001b[1m500/500\u001b[0m \u001b[32m━━━━━━━━━━━━━━━━━━━━\u001b[0m\u001b[37m\u001b[0m \u001b[1m0s\u001b[0m 366us/step - loss: 38495.3359 - mae: 123.8641 - val_loss: 45214.2305 - val_mae: 130.6250\n",
      "Epoch 80/100\n",
      "\u001b[1m500/500\u001b[0m \u001b[32m━━━━━━━━━━━━━━━━━━━━\u001b[0m\u001b[37m\u001b[0m \u001b[1m0s\u001b[0m 369us/step - loss: 49180.4375 - mae: 131.5219 - val_loss: 49187.6211 - val_mae: 138.4571\n",
      "Epoch 81/100\n",
      "\u001b[1m500/500\u001b[0m \u001b[32m━━━━━━━━━━━━━━━━━━━━\u001b[0m\u001b[37m\u001b[0m \u001b[1m0s\u001b[0m 373us/step - loss: 39644.3281 - mae: 125.2134 - val_loss: 39964.3633 - val_mae: 127.4554\n",
      "Epoch 82/100\n",
      "\u001b[1m500/500\u001b[0m \u001b[32m━━━━━━━━━━━━━━━━━━━━\u001b[0m\u001b[37m\u001b[0m \u001b[1m0s\u001b[0m 377us/step - loss: 38485.4141 - mae: 123.6495 - val_loss: 46638.4570 - val_mae: 121.9822\n",
      "Epoch 83/100\n",
      "\u001b[1m500/500\u001b[0m \u001b[32m━━━━━━━━━━━━━━━━━━━━\u001b[0m\u001b[37m\u001b[0m \u001b[1m0s\u001b[0m 376us/step - loss: 38606.7344 - mae: 123.0595 - val_loss: 40620.6992 - val_mae: 124.9912\n",
      "Epoch 84/100\n",
      "\u001b[1m500/500\u001b[0m \u001b[32m━━━━━━━━━━━━━━━━━━━━\u001b[0m\u001b[37m\u001b[0m \u001b[1m0s\u001b[0m 374us/step - loss: 37563.1953 - mae: 121.5926 - val_loss: 44258.6719 - val_mae: 129.4274\n",
      "Epoch 85/100\n",
      "\u001b[1m500/500\u001b[0m \u001b[32m━━━━━━━━━━━━━━━━━━━━\u001b[0m\u001b[37m\u001b[0m \u001b[1m0s\u001b[0m 374us/step - loss: 36965.9492 - mae: 121.2405 - val_loss: 49576.6523 - val_mae: 136.6540\n",
      "Epoch 86/100\n",
      "\u001b[1m500/500\u001b[0m \u001b[32m━━━━━━━━━━━━━━━━━━━━\u001b[0m\u001b[37m\u001b[0m \u001b[1m0s\u001b[0m 368us/step - loss: 36211.7461 - mae: 120.3916 - val_loss: 42457.4180 - val_mae: 125.9176\n",
      "Epoch 87/100\n",
      "\u001b[1m500/500\u001b[0m \u001b[32m━━━━━━━━━━━━━━━━━━━━\u001b[0m\u001b[37m\u001b[0m \u001b[1m0s\u001b[0m 371us/step - loss: 37080.4648 - mae: 120.9433 - val_loss: 44238.6641 - val_mae: 129.3353\n",
      "Epoch 88/100\n",
      "\u001b[1m500/500\u001b[0m \u001b[32m━━━━━━━━━━━━━━━━━━━━\u001b[0m\u001b[37m\u001b[0m \u001b[1m0s\u001b[0m 372us/step - loss: 41445.0430 - mae: 124.2316 - val_loss: 36806.1172 - val_mae: 120.4825\n",
      "Epoch 89/100\n",
      "\u001b[1m500/500\u001b[0m \u001b[32m━━━━━━━━━━━━━━━━━━━━\u001b[0m\u001b[37m\u001b[0m \u001b[1m0s\u001b[0m 369us/step - loss: 35717.4453 - mae: 119.5457 - val_loss: 59580.0664 - val_mae: 144.0675\n",
      "Epoch 90/100\n",
      "\u001b[1m500/500\u001b[0m \u001b[32m━━━━━━━━━━━━━━━━━━━━\u001b[0m\u001b[37m\u001b[0m \u001b[1m0s\u001b[0m 368us/step - loss: 38965.6719 - mae: 123.6720 - val_loss: 40055.8320 - val_mae: 118.2076\n",
      "Epoch 91/100\n",
      "\u001b[1m500/500\u001b[0m \u001b[32m━━━━━━━━━━━━━━━━━━━━\u001b[0m\u001b[37m\u001b[0m \u001b[1m0s\u001b[0m 368us/step - loss: 43650.0312 - mae: 123.7286 - val_loss: 42565.8203 - val_mae: 126.7380\n",
      "Epoch 92/100\n",
      "\u001b[1m500/500\u001b[0m \u001b[32m━━━━━━━━━━━━━━━━━━━━\u001b[0m\u001b[37m\u001b[0m \u001b[1m0s\u001b[0m 427us/step - loss: 36424.5820 - mae: 119.6841 - val_loss: 35648.3398 - val_mae: 116.0441\n",
      "Epoch 93/100\n",
      "\u001b[1m500/500\u001b[0m \u001b[32m━━━━━━━━━━━━━━━━━━━━\u001b[0m\u001b[37m\u001b[0m \u001b[1m0s\u001b[0m 372us/step - loss: 36900.5234 - mae: 119.2305 - val_loss: 43422.5859 - val_mae: 128.2255\n",
      "Epoch 94/100\n",
      "\u001b[1m500/500\u001b[0m \u001b[32m━━━━━━━━━━━━━━━━━━━━\u001b[0m\u001b[37m\u001b[0m \u001b[1m0s\u001b[0m 373us/step - loss: 37947.0859 - mae: 120.2542 - val_loss: 42287.2227 - val_mae: 121.1098\n",
      "Epoch 95/100\n",
      "\u001b[1m500/500\u001b[0m \u001b[32m━━━━━━━━━━━━━━━━━━━━\u001b[0m\u001b[37m\u001b[0m \u001b[1m0s\u001b[0m 373us/step - loss: 36153.5039 - mae: 117.9628 - val_loss: 38313.1797 - val_mae: 121.0341\n",
      "Epoch 96/100\n",
      "\u001b[1m500/500\u001b[0m \u001b[32m━━━━━━━━━━━━━━━━━━━━\u001b[0m\u001b[37m\u001b[0m \u001b[1m0s\u001b[0m 369us/step - loss: 36609.5195 - mae: 118.9082 - val_loss: 44954.7773 - val_mae: 130.6861\n",
      "Epoch 97/100\n",
      "\u001b[1m500/500\u001b[0m \u001b[32m━━━━━━━━━━━━━━━━━━━━\u001b[0m\u001b[37m\u001b[0m \u001b[1m0s\u001b[0m 377us/step - loss: 33762.3320 - mae: 116.5409 - val_loss: 38586.6172 - val_mae: 121.5817\n",
      "Epoch 98/100\n",
      "\u001b[1m500/500\u001b[0m \u001b[32m━━━━━━━━━━━━━━━━━━━━\u001b[0m\u001b[37m\u001b[0m \u001b[1m0s\u001b[0m 372us/step - loss: 34346.7070 - mae: 117.7377 - val_loss: 37405.3906 - val_mae: 116.6767\n",
      "Epoch 99/100\n",
      "\u001b[1m500/500\u001b[0m \u001b[32m━━━━━━━━━━━━━━━━━━━━\u001b[0m\u001b[37m\u001b[0m \u001b[1m0s\u001b[0m 368us/step - loss: 36937.0781 - mae: 119.8135 - val_loss: 34476.7227 - val_mae: 119.1710\n",
      "Epoch 100/100\n",
      "\u001b[1m500/500\u001b[0m \u001b[32m━━━━━━━━━━━━━━━━━━━━\u001b[0m\u001b[37m\u001b[0m \u001b[1m0s\u001b[0m 377us/step - loss: 32143.9570 - mae: 114.2708 - val_loss: 50516.2188 - val_mae: 134.2947\n",
      "Final model training complete!\n"
     ]
    }
   ],
   "source": [
    "\"Training final model with best parameters\"\n",
    "\n",
    "# Scale the full training data\n",
    "scaler = StandardScaler()\n",
    "X_train_scaled = scaler.fit_transform(X_train)\n",
    "X_test_scaled = scaler.transform(X_test)\n",
    "\n",
    "# Create final model with best params\n",
    "def create_final_model(params, input_dim):\n",
    "    model = Sequential([\n",
    "        Dense(params['hidden_size'], activation='relu', input_dim=input_dim),\n",
    "        Dense(params['hidden_size']//2, activation='relu'),\n",
    "        Dense(params['hidden_size']//4, activation='relu'),\n",
    "        Dense(1)  # Output layer for regression\n",
    "    ])\n",
    "    \n",
    "    model.compile(\n",
    "        optimizer=Adam(learning_rate=params['learning_rate']),\n",
    "        loss='mse',\n",
    "        metrics=['mae']\n",
    "    )\n",
    "    return model\n",
    "\n",
    "# Train final model\n",
    "final_model = create_final_model(best_params, X_train_scaled.shape[1])\n",
    "\n",
    "history = final_model.fit(\n",
    "    X_train_scaled, y_train,\n",
    "    epochs=best_params['epochs'],\n",
    "    batch_size=best_params['batch_size'],\n",
    "    validation_split=0.2,  # Use 20% of training data for monitoring\n",
    "    verbose=1,\n",
    "    callbacks=[tf.keras.callbacks.EarlyStopping(patience=15, restore_best_weights=True)]\n",
    ")\n",
    "\n",
    "print(\"Final model training complete!\")"
   ]
  },
  {
   "cell_type": "code",
   "execution_count": 44,
   "id": "cc370d28",
   "metadata": {},
   "outputs": [
    {
     "name": "stdout",
     "output_type": "stream",
     "text": [
      "   Final test results:\n",
      "   Mean Squared Error (MSE): 34561.5862\n",
      "   Root Mean Squared Error (RMSE): 185.9075\n",
      "   Mean Absolute Error (MAE): 116.1551\n",
      "   R² Score: 0.9999\n",
      "   Comparison:\n",
      "   Cross-Validation RMSE: 197.8880\n",
      "   Final Test RMSE: 185.9075\n",
      "   Difference: 11.9805\n"
     ]
    },
    {
     "data": {
      "image/png": "[encoded data removed]",
      "text/plain": [
       "<Figure size 1000x600 with 1 Axes>"
      ]
     },
     "metadata": {},
     "output_type": "display_data"
    }
   ],
   "source": [
    "\"Evaluate final model on test set\"\n",
    "\n",
    "# Make predictions on test set\n",
    "test_predictions = final_model.predict(X_test_scaled, verbose=0)\n",
    "\n",
    "# Calculate metrics\n",
    "mse = mean_squared_error(y_test, test_predictions)\n",
    "rmse = np.sqrt(mse)\n",
    "mae = mean_absolute_error(y_test, test_predictions)\n",
    "r2 = r2_score(y_test, test_predictions)\n",
    "\n",
    "# Print results\n",
    "print(f\"   Final test results:\")\n",
    "print(f\"   Mean Squared Error (MSE): {mse:.4f}\")\n",
    "print(f\"   Root Mean Squared Error (RMSE): {rmse:.4f}\")\n",
    "print(f\"   Mean Absolute Error (MAE): {mae:.4f}\")\n",
    "print(f\"   R² Score: {r2:.4f}\")\n",
    "\n",
    "print(f\"   Comparison:\")\n",
    "print(f\"   Cross-Validation RMSE: {np.sqrt(best_score):.4f}\")\n",
    "print(f\"   Final Test RMSE: {rmse:.4f}\")\n",
    "print(f\"   Difference: {abs(rmse - np.sqrt(best_score)):.4f}\")\n",
    "\n",
    "# Plot (predictions vs actual)\n",
    "plt.figure(figsize=(10, 6))\n",
    "plt.scatter(y_test, test_predictions, alpha=0.6, color='blue')\n",
    "plt.plot([y_test.min(), y_test.max()], [y_test.min(), y_test.max()], 'r--', lw=2)\n",
    "plt.xlabel('Actual Price')\n",
    "plt.ylabel('Predicted Price')\n",
    "plt.title('Final Model: Actual vs Predicted Prices')\n",
    "plt.grid(True, alpha=0.3)\n",
    "plt.show()"
   ]
  },
  {
   "cell_type": "code",
   "execution_count": 12,
   "id": "16c451e7",
   "metadata": {},
   "outputs": [],
   "source": [
    "\"Save model\"\n",
    "\n",
    "#Metadata\n",
    "model_info = {\n",
    "    'best_params': best_params,\n",
    "    'best_score': best_score,\n",
    "    'feature_names': list(X_train.columns),\n",
    "    'model_type': 'neural_network'\n",
    "}\n",
    "\n",
    "joblib.dump({\n",
    "    'model': final_model,\n",
    "    'scaler': scaler,\n",
    "    'feature_names': list(X_train.columns),\n",
    "    'metadata': model_info\n",
    "}, 'NN_model.joblib')\n",
    "\n",
    "# Load\n",
    "loaded = joblib.load('NN_model.joblib')\n",
    "model = loaded['model']\n",
    "scaler = loaded['scaler']"
   ]
  },
  {
   "cell_type": "code",
   "execution_count": 13,
   "id": "a85bee94",
   "metadata": {},
   "outputs": [],
   "source": [
    "\"Function to predict on new data\"\n",
    "def predict_price(new_data):    \n",
    "    new_data_scaled = scaler.transform(new_data)\n",
    "    prediction = model.predict(new_data_scaled)\n",
    "    return prediction[0][0]"
   ]
  },
  {
   "cell_type": "code",
   "execution_count": 14,
   "id": "fa828a28",
   "metadata": {},
   "outputs": [],
   "source": [
    "\"Example\"\n",
    "new_car_data = pd.DataFrame({\n",
    "    'Make': ['Toyota'],\n",
    "    'Model': ['Camry'],\n",
    "    'Year': [2023],\n",
    "    'Mileage': [25000],\n",
    "    'Engine_Size': [2.5],\n",
    "})"
   ]
  },
  {
   "cell_type": "code",
   "execution_count": 15,
   "id": "954d4202",
   "metadata": {},
   "outputs": [
    {
     "name": "stdout",
     "output_type": "stream",
     "text": [
      "Sample 1:\n",
      "  Predicted Price: $28712.75\n",
      "  Actual Price: $28636.00\n",
      "  Error: $76.75\n",
      "\n",
      "Sample 2:\n",
      "  Predicted Price: $59804.12\n",
      "  Actual Price: $59783.00\n",
      "  Error: $21.12\n",
      "\n",
      "Sample 3:\n",
      "  Predicted Price: $14784.83\n",
      "  Actual Price: $14865.00\n",
      "  Error: $80.17\n",
      "\n",
      "Sample 4:\n",
      "  Predicted Price: $2351.72\n",
      "  Actual Price: $2219.00\n",
      "  Error: $132.72\n",
      "\n",
      "Sample 5:\n",
      "  Predicted Price: $989.99\n",
      "  Actual Price: $1001.00\n",
      "  Error: $11.01\n",
      "\n"
     ]
    },
    {
     "name": "stderr",
     "output_type": "stream",
     "text": [
      "/opt/anaconda3/lib/python3.12/site-packages/sklearn/base.py:493: UserWarning: X does not have valid feature names, but StandardScaler was fitted with feature names\n",
      "  warnings.warn(\n",
      "/opt/anaconda3/lib/python3.12/site-packages/sklearn/base.py:493: UserWarning: X does not have valid feature names, but StandardScaler was fitted with feature names\n",
      "  warnings.warn(\n",
      "/opt/anaconda3/lib/python3.12/site-packages/sklearn/base.py:493: UserWarning: X does not have valid feature names, but StandardScaler was fitted with feature names\n",
      "  warnings.warn(\n",
      "/opt/anaconda3/lib/python3.12/site-packages/sklearn/base.py:493: UserWarning: X does not have valid feature names, but StandardScaler was fitted with feature names\n",
      "  warnings.warn(\n",
      "/opt/anaconda3/lib/python3.12/site-packages/sklearn/base.py:493: UserWarning: X does not have valid feature names, but StandardScaler was fitted with feature names\n",
      "  warnings.warn(\n"
     ]
    }
   ],
   "source": [
    "\"Test prediction on samples from test set\"\n",
    "sample_new_data = X_test.iloc[:5].copy()  # Test samples\n",
    "actual_prices = y_test.iloc[:5].copy()    # Actual prices (for comparison)\n",
    "\n",
    "for i in range(len(sample_new_data)):\n",
    "    sample_scaled = scaler.transform([sample_new_data.iloc[i]])\n",
    "    \n",
    "    # Make prediction\n",
    "    predicted_price = model.predict(sample_scaled, verbose=0)[0][0]\n",
    "    actual_price = actual_prices.iloc[i]\n",
    "    \n",
    "    print(f\"Sample {i+1}:\")\n",
    "    print(f\"  Predicted Price: ${predicted_price:.2f}\")\n",
    "    print(f\"  Actual Price: ${actual_price:.2f}\")\n",
    "    print(f\"  Error: ${abs(predicted_price - actual_price):.2f}\")\n",
    "    print()"
   ]
  },
  {
   "cell_type": "code",
   "execution_count": 43,
   "id": "9db780fb",
   "metadata": {},
   "outputs": [
    {
     "name": "stdout",
     "output_type": "stream",
     "text": [
      "  Processed 1/25 features...\n",
      "  Processed 11/25 features...\n",
      "  Processed 21/25 features...\n"
     ]
    },
    {
     "data": {
      "image/png": "[encoded data removed]",
      "text/plain": [
       "<Figure size 1200x800 with 1 Axes>"
      ]
     },
     "metadata": {},
     "output_type": "display_data"
    }
   ],
   "source": [
    "\"Feature importance by permutation\"\n",
    "baseline_predictions = final_model.predict(X_test_scaled, verbose=0).flatten()\n",
    "baseline_mse = mean_squared_error(y_test, baseline_predictions)\n",
    "\n",
    "# Calculate importance for each feature\n",
    "feature_importance_scores = []\n",
    "\n",
    "for i, feature_name in enumerate(X_train.columns):\n",
    "    X_test_permuted = X_test_scaled.copy()\n",
    "    np.random.seed(42)\n",
    "    X_test_permuted[:, i] = np.random.permutation(X_test_permuted[:, i])\n",
    "    permuted_predictions = final_model.predict(X_test_permuted, verbose=0).flatten()\n",
    "    permuted_mse = mean_squared_error(y_test, permuted_predictions)\n",
    "    \n",
    "    # Calculate importance \n",
    "    importance = permuted_mse - baseline_mse\n",
    "    feature_importance_scores.append(importance)\n",
    "    \n",
    "    if i % 10 == 0: \n",
    "        print(f\"  Processed {i+1}/{len(X_train.columns)} features...\")\n",
    "\n",
    "feature_importance_df = pd.DataFrame({\n",
    "    'Feature': X_train.columns,\n",
    "    'Importance': feature_importance_scores\n",
    "})\n",
    "\n",
    "def group_feature_importance(df):\n",
    "    grouped_importance = {}\n",
    "    \n",
    "    for _, row in df.iterrows():\n",
    "        feature_name = row['Feature']\n",
    "        importance = row['Importance']\n",
    "        \n",
    "        if feature_name.startswith('Manufacturer_'):\n",
    "            category = 'Manufacturer'\n",
    "        elif feature_name.startswith('Model_'):\n",
    "            category = 'Model'\n",
    "        elif feature_name.startswith('Fuel type_'):\n",
    "            category = 'Fuel type'\n",
    "        else:\n",
    "            category = feature_name\n",
    "        if category in grouped_importance:\n",
    "            grouped_importance[category] += importance\n",
    "        else:\n",
    "            grouped_importance[category] = importance\n",
    "    \n",
    "    return grouped_importance\n",
    "\n",
    "# Group features\n",
    "grouped_scores = group_feature_importance(feature_importance_df)\n",
    "\n",
    "# Sort\n",
    "sort_descending = True \n",
    "\n",
    "grouped_df = pd.DataFrame(list(grouped_scores.items()), \n",
    "                         columns=['Feature', 'Importance']).sort_values('Importance', ascending=True)\n",
    "\n",
    "# Plot top 10 features\n",
    "plt.figure(figsize=(12, 8))\n",
    "top_features = grouped_df.head(10)  # Top 10 grouped features\n",
    "\n",
    "plt.barh(range(len(top_features)), top_features['Importance'], \n",
    "         color='#FF8C00', alpha=0.8)  # Orange color\n",
    "\n",
    "# Labels\n",
    "plt.yticks(range(len(top_features)), top_features['Feature'])\n",
    "plt.xlabel('Importance')\n",
    "\n",
    "sort_label = \"Descending\" if sort_descending else \"Ascending\"\n",
    "plt.title(f'Top 10 Feature Importance ({sort_label})\\nActual Price')\n",
    "\n",
    "if sort_descending:\n",
    "    plt.gca().invert_yaxis()\n",
    "\n",
    "plt.grid(True, alpha=0.3, axis='x')\n",
    "plt.tight_layout()\n",
    "plt.show()"
   ]
  },
  {
   "cell_type": "code",
   "execution_count": 20,
   "id": "a3385050",
   "metadata": {},
   "outputs": [
    {
     "data": {
      "application/vnd.jupyter.widget-view+json": {
       "model_id": "b0e5dd7aac0b48359a1deaccf27d9dc6",
       "version_major": 2,
       "version_minor": 0
      },
      "text/plain": [
       "  0%|          | 0/10 [00:00<?, ?it/s]"
      ]
     },
     "metadata": {},
     "output_type": "display_data"
    },
    {
     "name": "stdout",
     "output_type": "stream",
     "text": [
      "Top 10 Features by SHAP:\n",
      "                 Feature  SHAP_Importance\n",
      "2                Mileage      5613.867149\n",
      "14              Model_M5      5213.039316\n",
      "1    Year of manufacture      5205.053973\n",
      "3                Car_Age      5036.197778\n",
      "0            Engine size      2744.751499\n",
      "19            Model_RAV4      1762.928422\n",
      "6   Manufacturer_Porsche      1498.700090\n",
      "7    Manufacturer_Toyota      1190.979443\n",
      "15          Model_Mondeo       860.885240\n",
      "23      Fuel type_Hybrid       775.753930\n"
     ]
    }
   ],
   "source": [
    "\"SHAP\"\n",
    "# Use smaller sample for faster computation\n",
    "n_background = 50  # Background samples\n",
    "n_explain = 10     # Samples to explain\n",
    "\n",
    "# Create wrapper function\n",
    "def model_predict_shap(X):\n",
    "    return final_model.predict(X, verbose=0).flatten()\n",
    "\n",
    "# Use KernelExplainer instead of DeepExplainer\n",
    "explainer = shap.KernelExplainer(model_predict_shap, X_train_scaled[:n_background])\n",
    "shap_values = explainer.shap_values(X_test_scaled[:n_explain])\n",
    "\n",
    "# Simple feature importance from SHAP\n",
    "feature_importance = np.mean(np.abs(shap_values), axis=0)\n",
    "shap_df = pd.DataFrame({\n",
    "    'Feature': X_train.columns,\n",
    "    'SHAP_Importance': feature_importance\n",
    "}).sort_values('SHAP_Importance', ascending=False)\n",
    "\n",
    "print(\"Top 10 Features by SHAP:\")\n",
    "print(shap_df.head(10))"
   ]
  }
 ],
 "metadata": {
  "kernelspec": {
   "display_name": "base",
   "language": "python",
   "name": "python3"
  },
  "language_info": {
   "codemirror_mode": {
    "name": "ipython",
    "version": 3
   },
   "file_extension": ".py",
   "mimetype": "text/x-python",
   "name": "python",
   "nbconvert_exporter": "python",
   "pygments_lexer": "ipython3",
   "version": "3.12.7"
  }
 },
 "nbformat": 4,
 "nbformat_minor": 5
}
