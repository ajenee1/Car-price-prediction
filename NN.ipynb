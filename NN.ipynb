{
 "cells": [
  {
   "cell_type": "markdown",
   "id": "71dff673",
   "metadata": {},
   "source": [
    "# Neural Network"
   ]
  },
  {
   "cell_type": "code",
   "execution_count": 2,
   "id": "cef21bc3",
   "metadata": {},
   "outputs": [],
   "source": [
    "import pandas as pd\n",
    "import numpy as np\n",
    "import joblib\n",
    "import shap\n",
    "import matplotlib.pyplot as plt\n",
    "\n",
    "from sklearn.model_selection import train_test_split\n",
    "from sklearn.preprocessing import StandardScaler\n",
    "from sklearn.model_selection import KFold\n",
    "from sklearn.metrics import mean_absolute_error, mean_squared_error, r2_score\n",
    "\n",
    "import tensorflow as tf\n",
    "from tensorflow.keras.models import Sequential\n",
    "from tensorflow.keras.layers import Dense\n",
    "from tensorflow.keras.optimizers import Adam\n",
    "from tensorflow.keras.callbacks import EarlyStopping\n",
    "\n",
    "\n"
   ]
  },
  {
   "cell_type": "code",
   "execution_count": 3,
   "id": "90463348",
   "metadata": {},
   "outputs": [],
   "source": [
    "\"Read in clean-data\"\n",
    "df = pd.read_csv(\"clean_df.csv\")"
   ]
  },
  {
   "cell_type": "code",
   "execution_count": 4,
   "id": "8c063701",
   "metadata": {},
   "outputs": [],
   "source": [
    "\"Configure features and target\"\n",
    "# Define target column\n",
    "target_col = \"Price\"\n",
    "\n",
    "# Split features/target\n",
    "x = df.drop(columns=[target_col])\n",
    "y = df[target_col].astype(float)"
   ]
  },
  {
   "cell_type": "code",
   "execution_count": 5,
   "id": "8051672b",
   "metadata": {},
   "outputs": [],
   "source": [
    "\"Configure features and target\"\n",
    "# Define target column\n",
    "target_col = \"Price\"\n",
    "\n",
    "# Split features/target\n",
    "x = df.drop(columns=[target_col])\n",
    "y = df[target_col].astype(float)"
   ]
  },
  {
   "cell_type": "code",
   "execution_count": 6,
   "id": "c9a2f800",
   "metadata": {},
   "outputs": [],
   "source": [
    "\"Split data into training and test sets\"\n",
    "# Split: 80% train, 20% test\n",
    "X_train, X_test, y_train, y_test = train_test_split(\n",
    "    x, y, test_size=0.2, random_state=42\n",
    ")"
   ]
  },
  {
   "cell_type": "code",
   "execution_count": 7,
   "id": "70699031",
   "metadata": {},
   "outputs": [
    {
     "name": "stdout",
     "output_type": "stream",
     "text": [
      "Original X_train shape: (39990, 7)\n",
      "Data types:\n",
      "Manufacturer            object\n",
      "Model                   object\n",
      "Engine size            float64\n",
      "Fuel type               object\n",
      "Year of manufacture      int64\n",
      "Mileage                  int64\n",
      "Car Age                  int64\n",
      "dtype: object\n"
     ]
    }
   ],
   "source": [
    "\"Preprocess data\"\n",
    "print(f\"Original X_train shape: {X_train.shape}\")\n",
    "print(f\"Data types:\\n{X_train.dtypes}\")\n",
    "\n",
    "\n",
    "# One-hot encoding for categorical variables\n",
    "X_train_processed = pd.get_dummies(X_train, drop_first=True)\n",
    "X_test_processed = pd.get_dummies(X_test, drop_first=True)\n",
    "\n",
    "# Update variables for cross-validation\n",
    "X_train = X_train_processed\n",
    "X_test = X_test_processed"
   ]
  },
  {
   "cell_type": "code",
   "execution_count": 8,
   "id": "532f8362",
   "metadata": {},
   "outputs": [],
   "source": [
    "\"Cross-validation setup\"\n",
    "k_folds = 5 # Number of folds\n",
    "kf = KFold(n_splits=k_folds, shuffle=True, random_state=42)\n",
    "\n",
    "# Define parameter grid to test \n",
    "param_combinations = [\n",
    "    {'learning_rate': 0.001, 'batch_size': 32, 'epochs': 50, 'hidden_size': 64},\n",
    "    {'learning_rate': 0.01, 'batch_size': 32, 'epochs': 50, 'hidden_size': 128},\n",
    "    {'learning_rate': 0.001, 'batch_size': 64, 'epochs': 100, 'hidden_size': 64},\n",
    "]"
   ]
  },
  {
   "cell_type": "code",
   "execution_count": 9,
   "id": "da498ad0",
   "metadata": {},
   "outputs": [],
   "source": [
    "\"Cross-validation function\"\n",
    "def cv_params(X_train, y_train, param_list, k_folds=5):\n",
    "    \"\"\"Cross-validation for neural network hyperparameters\"\"\"\n",
    "    kf = KFold(n_splits=k_folds, shuffle=True, random_state=42)\n",
    "    best_score, best_params = float('inf'), None\n",
    "    \n",
    "    for i, params in enumerate(param_list):\n",
    "        print(f\"\\nTesting {i+1}/{len(param_list)}: {params}\")\n",
    "        scores = []\n",
    "        \n",
    "        # Split and scale data\n",
    "        for fold, (train_idx, val_idx) in enumerate(kf.split(X_train)):\n",
    "            scaler = StandardScaler()\n",
    "            X_tr = scaler.fit_transform(X_train.iloc[train_idx])\n",
    "            X_val = scaler.transform(X_train.iloc[val_idx])\n",
    "            y_tr, y_val = y_train.iloc[train_idx], y_train.iloc[val_idx]\n",
    "            \n",
    "            # Build model\n",
    "            model = Sequential([\n",
    "                Dense(params['hidden_size'], activation='relu', input_dim=X_tr.shape[1]),\n",
    "                Dense(params['hidden_size']//2, activation='relu'),\n",
    "                Dense(params['hidden_size']//4, activation='relu'),\n",
    "                Dense(1)\n",
    "            ])\n",
    "            model.compile(optimizer=Adam(learning_rate=params['learning_rate']), loss='mse')\n",
    "            \n",
    "            # Train\n",
    "            model.fit(X_tr, y_tr, epochs=params['epochs'], batch_size=params['batch_size'],\n",
    "                     validation_data=(X_val, y_val), verbose=0,\n",
    "                     callbacks=[EarlyStopping(patience=10, restore_best_weights=True)])\n",
    "            \n",
    "            # Evaluate\n",
    "            score = mean_squared_error(y_val, model.predict(X_val, verbose=0))\n",
    "            scores.append(score)\n",
    "            print(f\"  Fold {fold+1}: {score:.4f}\")\n",
    "        \n",
    "        # Track best\n",
    "        avg_score = np.mean(scores)\n",
    "        print(f\"  Average: {avg_score:.4f} ± {np.std(scores):.4f}\")\n",
    "        \n",
    "        if avg_score < best_score:\n",
    "            best_score, best_params = avg_score, params\n",
    "    \n",
    "    print(f\"Best: {best_params} (MSE: {best_score:.4f})\")\n",
    "    return best_params, best_score, []"
   ]
  },
  {
   "cell_type": "code",
   "execution_count": 10,
   "id": "6de9cf2e",
   "metadata": {},
   "outputs": [
    {
     "name": "stdout",
     "output_type": "stream",
     "text": [
      "\n",
      "Testing 1/3: {'learning_rate': 0.001, 'batch_size': 32, 'epochs': 50, 'hidden_size': 64}\n"
     ]
    },
    {
     "name": "stderr",
     "output_type": "stream",
     "text": [
      "c:\\Users\\Georg\\AppData\\Local\\Programs\\Python\\Python312\\Lib\\site-packages\\keras\\src\\layers\\core\\dense.py:92: UserWarning: Do not pass an `input_shape`/`input_dim` argument to a layer. When using Sequential models, prefer using an `Input(shape)` object as the first layer in the model instead.\n",
      "  super().__init__(activity_regularizer=activity_regularizer, **kwargs)\n"
     ]
    },
    {
     "name": "stdout",
     "output_type": "stream",
     "text": [
      "  Fold 1: 53690.3938\n"
     ]
    },
    {
     "name": "stderr",
     "output_type": "stream",
     "text": [
      "c:\\Users\\Georg\\AppData\\Local\\Programs\\Python\\Python312\\Lib\\site-packages\\keras\\src\\layers\\core\\dense.py:92: UserWarning: Do not pass an `input_shape`/`input_dim` argument to a layer. When using Sequential models, prefer using an `Input(shape)` object as the first layer in the model instead.\n",
      "  super().__init__(activity_regularizer=activity_regularizer, **kwargs)\n"
     ]
    },
    {
     "name": "stdout",
     "output_type": "stream",
     "text": [
      "  Fold 2: 51432.3725\n"
     ]
    },
    {
     "name": "stderr",
     "output_type": "stream",
     "text": [
      "c:\\Users\\Georg\\AppData\\Local\\Programs\\Python\\Python312\\Lib\\site-packages\\keras\\src\\layers\\core\\dense.py:92: UserWarning: Do not pass an `input_shape`/`input_dim` argument to a layer. When using Sequential models, prefer using an `Input(shape)` object as the first layer in the model instead.\n",
      "  super().__init__(activity_regularizer=activity_regularizer, **kwargs)\n"
     ]
    },
    {
     "name": "stdout",
     "output_type": "stream",
     "text": [
      "  Fold 3: 56082.8694\n"
     ]
    },
    {
     "name": "stderr",
     "output_type": "stream",
     "text": [
      "c:\\Users\\Georg\\AppData\\Local\\Programs\\Python\\Python312\\Lib\\site-packages\\keras\\src\\layers\\core\\dense.py:92: UserWarning: Do not pass an `input_shape`/`input_dim` argument to a layer. When using Sequential models, prefer using an `Input(shape)` object as the first layer in the model instead.\n",
      "  super().__init__(activity_regularizer=activity_regularizer, **kwargs)\n"
     ]
    },
    {
     "name": "stdout",
     "output_type": "stream",
     "text": [
      "  Fold 4: 50242.4070\n"
     ]
    },
    {
     "name": "stderr",
     "output_type": "stream",
     "text": [
      "c:\\Users\\Georg\\AppData\\Local\\Programs\\Python\\Python312\\Lib\\site-packages\\keras\\src\\layers\\core\\dense.py:92: UserWarning: Do not pass an `input_shape`/`input_dim` argument to a layer. When using Sequential models, prefer using an `Input(shape)` object as the first layer in the model instead.\n",
      "  super().__init__(activity_regularizer=activity_regularizer, **kwargs)\n"
     ]
    },
    {
     "name": "stdout",
     "output_type": "stream",
     "text": [
      "  Fold 5: 36788.9304\n",
      "  Average: 49647.3946 ± 6732.6290\n",
      "\n",
      "Testing 2/3: {'learning_rate': 0.01, 'batch_size': 32, 'epochs': 50, 'hidden_size': 128}\n"
     ]
    },
    {
     "name": "stderr",
     "output_type": "stream",
     "text": [
      "c:\\Users\\Georg\\AppData\\Local\\Programs\\Python\\Python312\\Lib\\site-packages\\keras\\src\\layers\\core\\dense.py:92: UserWarning: Do not pass an `input_shape`/`input_dim` argument to a layer. When using Sequential models, prefer using an `Input(shape)` object as the first layer in the model instead.\n",
      "  super().__init__(activity_regularizer=activity_regularizer, **kwargs)\n"
     ]
    },
    {
     "name": "stdout",
     "output_type": "stream",
     "text": [
      "  Fold 1: 47526.1569\n"
     ]
    },
    {
     "name": "stderr",
     "output_type": "stream",
     "text": [
      "c:\\Users\\Georg\\AppData\\Local\\Programs\\Python\\Python312\\Lib\\site-packages\\keras\\src\\layers\\core\\dense.py:92: UserWarning: Do not pass an `input_shape`/`input_dim` argument to a layer. When using Sequential models, prefer using an `Input(shape)` object as the first layer in the model instead.\n",
      "  super().__init__(activity_regularizer=activity_regularizer, **kwargs)\n"
     ]
    },
    {
     "name": "stdout",
     "output_type": "stream",
     "text": [
      "  Fold 2: 65140.4320\n"
     ]
    },
    {
     "name": "stderr",
     "output_type": "stream",
     "text": [
      "c:\\Users\\Georg\\AppData\\Local\\Programs\\Python\\Python312\\Lib\\site-packages\\keras\\src\\layers\\core\\dense.py:92: UserWarning: Do not pass an `input_shape`/`input_dim` argument to a layer. When using Sequential models, prefer using an `Input(shape)` object as the first layer in the model instead.\n",
      "  super().__init__(activity_regularizer=activity_regularizer, **kwargs)\n"
     ]
    },
    {
     "name": "stdout",
     "output_type": "stream",
     "text": [
      "  Fold 3: 53882.6570\n"
     ]
    },
    {
     "name": "stderr",
     "output_type": "stream",
     "text": [
      "c:\\Users\\Georg\\AppData\\Local\\Programs\\Python\\Python312\\Lib\\site-packages\\keras\\src\\layers\\core\\dense.py:92: UserWarning: Do not pass an `input_shape`/`input_dim` argument to a layer. When using Sequential models, prefer using an `Input(shape)` object as the first layer in the model instead.\n",
      "  super().__init__(activity_regularizer=activity_regularizer, **kwargs)\n"
     ]
    },
    {
     "name": "stdout",
     "output_type": "stream",
     "text": [
      "  Fold 4: 75993.9385\n"
     ]
    },
    {
     "name": "stderr",
     "output_type": "stream",
     "text": [
      "c:\\Users\\Georg\\AppData\\Local\\Programs\\Python\\Python312\\Lib\\site-packages\\keras\\src\\layers\\core\\dense.py:92: UserWarning: Do not pass an `input_shape`/`input_dim` argument to a layer. When using Sequential models, prefer using an `Input(shape)` object as the first layer in the model instead.\n",
      "  super().__init__(activity_regularizer=activity_regularizer, **kwargs)\n"
     ]
    },
    {
     "name": "stdout",
     "output_type": "stream",
     "text": [
      "  Fold 5: 53439.0673\n",
      "  Average: 59196.4503 ± 10149.5432\n",
      "\n",
      "Testing 3/3: {'learning_rate': 0.001, 'batch_size': 64, 'epochs': 100, 'hidden_size': 64}\n"
     ]
    },
    {
     "name": "stderr",
     "output_type": "stream",
     "text": [
      "c:\\Users\\Georg\\AppData\\Local\\Programs\\Python\\Python312\\Lib\\site-packages\\keras\\src\\layers\\core\\dense.py:92: UserWarning: Do not pass an `input_shape`/`input_dim` argument to a layer. When using Sequential models, prefer using an `Input(shape)` object as the first layer in the model instead.\n",
      "  super().__init__(activity_regularizer=activity_regularizer, **kwargs)\n"
     ]
    },
    {
     "name": "stdout",
     "output_type": "stream",
     "text": [
      "  Fold 1: 31219.2078\n"
     ]
    },
    {
     "name": "stderr",
     "output_type": "stream",
     "text": [
      "c:\\Users\\Georg\\AppData\\Local\\Programs\\Python\\Python312\\Lib\\site-packages\\keras\\src\\layers\\core\\dense.py:92: UserWarning: Do not pass an `input_shape`/`input_dim` argument to a layer. When using Sequential models, prefer using an `Input(shape)` object as the first layer in the model instead.\n",
      "  super().__init__(activity_regularizer=activity_regularizer, **kwargs)\n"
     ]
    },
    {
     "name": "stdout",
     "output_type": "stream",
     "text": [
      "  Fold 2: 34142.1716\n"
     ]
    },
    {
     "name": "stderr",
     "output_type": "stream",
     "text": [
      "c:\\Users\\Georg\\AppData\\Local\\Programs\\Python\\Python312\\Lib\\site-packages\\keras\\src\\layers\\core\\dense.py:92: UserWarning: Do not pass an `input_shape`/`input_dim` argument to a layer. When using Sequential models, prefer using an `Input(shape)` object as the first layer in the model instead.\n",
      "  super().__init__(activity_regularizer=activity_regularizer, **kwargs)\n"
     ]
    },
    {
     "name": "stdout",
     "output_type": "stream",
     "text": [
      "  Fold 3: 48469.5166\n"
     ]
    },
    {
     "name": "stderr",
     "output_type": "stream",
     "text": [
      "c:\\Users\\Georg\\AppData\\Local\\Programs\\Python\\Python312\\Lib\\site-packages\\keras\\src\\layers\\core\\dense.py:92: UserWarning: Do not pass an `input_shape`/`input_dim` argument to a layer. When using Sequential models, prefer using an `Input(shape)` object as the first layer in the model instead.\n",
      "  super().__init__(activity_regularizer=activity_regularizer, **kwargs)\n"
     ]
    },
    {
     "name": "stdout",
     "output_type": "stream",
     "text": [
      "  Fold 4: 53447.0611\n"
     ]
    },
    {
     "name": "stderr",
     "output_type": "stream",
     "text": [
      "c:\\Users\\Georg\\AppData\\Local\\Programs\\Python\\Python312\\Lib\\site-packages\\keras\\src\\layers\\core\\dense.py:92: UserWarning: Do not pass an `input_shape`/`input_dim` argument to a layer. When using Sequential models, prefer using an `Input(shape)` object as the first layer in the model instead.\n",
      "  super().__init__(activity_regularizer=activity_regularizer, **kwargs)\n"
     ]
    },
    {
     "name": "stdout",
     "output_type": "stream",
     "text": [
      "  Fold 5: 33381.6632\n",
      "  Average: 40131.9241 ± 9029.8172\n",
      "Best: {'learning_rate': 0.001, 'batch_size': 64, 'epochs': 100, 'hidden_size': 64} (MSE: 40131.9241)\n",
      "\n",
      "All parameter combinations tested:\n",
      "   BEST PARAMETERS FOUND:\n",
      "   Parameters: {'learning_rate': 0.001, 'batch_size': 64, 'epochs': 100, 'hidden_size': 64}\n",
      "   Best CV Score (MSE): 40131.9241\n",
      "   Best CV Score (RMSE): 200.3295\n"
     ]
    }
   ],
   "source": [
    "\"Run cross-validation to find best parameters\"\n",
    "best_params, best_score, all_results = cv_params(\n",
    "    X_train, y_train, \n",
    "    param_combinations, \n",
    "    k_folds=5\n",
    ")\n",
    "\n",
    "print(\"\\nAll parameter combinations tested:\")\n",
    "for i, result in enumerate(all_results):\n",
    "    print(f\"\\n{i+1}. {result['params']}\")\n",
    "    print(f\"   Average MSE: {result['avg_score']:.4f} ± {result['std_score']:.4f}\")\n",
    "    print(f\"   Fold scores: {[f'{score:.4f}' for score in result['fold_scores']]}\")\n",
    "\n",
    "# Print best parameters\n",
    "print(f\"   BEST PARAMETERS FOUND:\")\n",
    "print(f\"   Parameters: {best_params}\")\n",
    "print(f\"   Best CV Score (MSE): {best_score:.4f}\")\n",
    "print(f\"   Best CV Score (RMSE): {np.sqrt(best_score):.4f}\")"
   ]
  },
  {
   "cell_type": "code",
   "execution_count": 11,
   "id": "a55139da",
   "metadata": {},
   "outputs": [
    {
     "name": "stdout",
     "output_type": "stream",
     "text": [
      "Epoch 1/100\n"
     ]
    },
    {
     "name": "stderr",
     "output_type": "stream",
     "text": [
      "c:\\Users\\Georg\\AppData\\Local\\Programs\\Python\\Python312\\Lib\\site-packages\\keras\\src\\layers\\core\\dense.py:92: UserWarning: Do not pass an `input_shape`/`input_dim` argument to a layer. When using Sequential models, prefer using an `Input(shape)` object as the first layer in the model instead.\n",
      "  super().__init__(activity_regularizer=activity_regularizer, **kwargs)\n"
     ]
    },
    {
     "name": "stdout",
     "output_type": "stream",
     "text": [
      "\u001b[1m500/500\u001b[0m \u001b[32m━━━━━━━━━━━━━━━━━━━━\u001b[0m\u001b[37m\u001b[0m \u001b[1m4s\u001b[0m 4ms/step - loss: 286986528.0000 - mae: 9654.3135 - val_loss: 51408480.0000 - val_mae: 3773.0623\n",
      "Epoch 2/100\n",
      "\u001b[1m500/500\u001b[0m \u001b[32m━━━━━━━━━━━━━━━━━━━━\u001b[0m\u001b[37m\u001b[0m \u001b[1m2s\u001b[0m 3ms/step - loss: 39186032.0000 - mae: 3178.8420 - val_loss: 28676948.0000 - val_mae: 2746.5935\n",
      "Epoch 3/100\n",
      "\u001b[1m500/500\u001b[0m \u001b[32m━━━━━━━━━━━━━━━━━━━━\u001b[0m\u001b[37m\u001b[0m \u001b[1m2s\u001b[0m 3ms/step - loss: 26665108.0000 - mae: 2607.8601 - val_loss: 22134294.0000 - val_mae: 2268.1577\n",
      "Epoch 4/100\n",
      "\u001b[1m500/500\u001b[0m \u001b[32m━━━━━━━━━━━━━━━━━━━━\u001b[0m\u001b[37m\u001b[0m \u001b[1m2s\u001b[0m 3ms/step - loss: 21177182.0000 - mae: 2171.1411 - val_loss: 17582492.0000 - val_mae: 1908.6566\n",
      "Epoch 5/100\n",
      "\u001b[1m500/500\u001b[0m \u001b[32m━━━━━━━━━━━━━━━━━━━━\u001b[0m\u001b[37m\u001b[0m \u001b[1m2s\u001b[0m 3ms/step - loss: 16876682.0000 - mae: 1754.9138 - val_loss: 13648266.0000 - val_mae: 1484.7521\n",
      "Epoch 6/100\n",
      "\u001b[1m500/500\u001b[0m \u001b[32m━━━━━━━━━━━━━━━━━━━━\u001b[0m\u001b[37m\u001b[0m \u001b[1m2s\u001b[0m 3ms/step - loss: 12798426.0000 - mae: 1361.9716 - val_loss: 10051006.0000 - val_mae: 1185.9576\n",
      "Epoch 7/100\n",
      "\u001b[1m500/500\u001b[0m \u001b[32m━━━━━━━━━━━━━━━━━━━━\u001b[0m\u001b[37m\u001b[0m \u001b[1m2s\u001b[0m 3ms/step - loss: 9101767.0000 - mae: 1066.9683 - val_loss: 7191550.5000 - val_mae: 931.8937\n",
      "Epoch 8/100\n",
      "\u001b[1m500/500\u001b[0m \u001b[32m━━━━━━━━━━━━━━━━━━━━\u001b[0m\u001b[37m\u001b[0m \u001b[1m3s\u001b[0m 3ms/step - loss: 6338084.0000 - mae: 869.6875 - val_loss: 5055065.0000 - val_mae: 763.0092\n",
      "Epoch 9/100\n",
      "\u001b[1m500/500\u001b[0m \u001b[32m━━━━━━━━━━━━━━━━━━━━\u001b[0m\u001b[37m\u001b[0m \u001b[1m2s\u001b[0m 3ms/step - loss: 4468897.0000 - mae: 746.9397 - val_loss: 3730214.0000 - val_mae: 700.8925\n",
      "Epoch 10/100\n",
      "\u001b[1m500/500\u001b[0m \u001b[32m━━━━━━━━━━━━━━━━━━━━\u001b[0m\u001b[37m\u001b[0m \u001b[1m2s\u001b[0m 3ms/step - loss: 3256594.2500 - mae: 656.0441 - val_loss: 2678177.5000 - val_mae: 616.2694\n",
      "Epoch 11/100\n",
      "\u001b[1m500/500\u001b[0m \u001b[32m━━━━━━━━━━━━━━━━━━━━\u001b[0m\u001b[37m\u001b[0m \u001b[1m2s\u001b[0m 3ms/step - loss: 2445769.0000 - mae: 592.7531 - val_loss: 2003889.3750 - val_mae: 550.8247\n",
      "Epoch 12/100\n",
      "\u001b[1m500/500\u001b[0m \u001b[32m━━━━━━━━━━━━━━━━━━━━\u001b[0m\u001b[37m\u001b[0m \u001b[1m2s\u001b[0m 3ms/step - loss: 1841025.5000 - mae: 537.2753 - val_loss: 1513212.6250 - val_mae: 516.8525\n",
      "Epoch 13/100\n",
      "\u001b[1m500/500\u001b[0m \u001b[32m━━━━━━━━━━━━━━━━━━━━\u001b[0m\u001b[37m\u001b[0m \u001b[1m2s\u001b[0m 3ms/step - loss: 1442676.7500 - mae: 491.0728 - val_loss: 1252100.5000 - val_mae: 529.6384\n",
      "Epoch 14/100\n",
      "\u001b[1m500/500\u001b[0m \u001b[32m━━━━━━━━━━━━━━━━━━━━\u001b[0m\u001b[37m\u001b[0m \u001b[1m2s\u001b[0m 3ms/step - loss: 1144297.7500 - mae: 450.9448 - val_loss: 1026242.9375 - val_mae: 471.9160\n",
      "Epoch 15/100\n",
      "\u001b[1m500/500\u001b[0m \u001b[32m━━━━━━━━━━━━━━━━━━━━\u001b[0m\u001b[37m\u001b[0m \u001b[1m3s\u001b[0m 3ms/step - loss: 925614.1250 - mae: 418.0209 - val_loss: 776727.0625 - val_mae: 404.0164\n",
      "Epoch 16/100\n",
      "\u001b[1m500/500\u001b[0m \u001b[32m━━━━━━━━━━━━━━━━━━━━\u001b[0m\u001b[37m\u001b[0m \u001b[1m2s\u001b[0m 3ms/step - loss: 760028.2500 - mae: 391.4053 - val_loss: 646796.3125 - val_mae: 392.2062\n",
      "Epoch 17/100\n",
      "\u001b[1m500/500\u001b[0m \u001b[32m━━━━━━━━━━━━━━━━━━━━\u001b[0m\u001b[37m\u001b[0m \u001b[1m2s\u001b[0m 3ms/step - loss: 635877.8125 - mae: 363.5700 - val_loss: 608691.1250 - val_mae: 372.8955\n",
      "Epoch 18/100\n",
      "\u001b[1m500/500\u001b[0m \u001b[32m━━━━━━━━━━━━━━━━━━━━\u001b[0m\u001b[37m\u001b[0m \u001b[1m2s\u001b[0m 3ms/step - loss: 548567.6250 - mae: 345.3535 - val_loss: 440012.4062 - val_mae: 323.3450\n",
      "Epoch 19/100\n",
      "\u001b[1m500/500\u001b[0m \u001b[32m━━━━━━━━━━━━━━━━━━━━\u001b[0m\u001b[37m\u001b[0m \u001b[1m2s\u001b[0m 3ms/step - loss: 469496.1875 - mae: 326.4863 - val_loss: 387197.9375 - val_mae: 308.7570\n",
      "Epoch 20/100\n",
      "\u001b[1m500/500\u001b[0m \u001b[32m━━━━━━━━━━━━━━━━━━━━\u001b[0m\u001b[37m\u001b[0m \u001b[1m2s\u001b[0m 3ms/step - loss: 403507.7500 - mae: 308.4982 - val_loss: 332374.8125 - val_mae: 293.7011\n",
      "Epoch 21/100\n",
      "\u001b[1m500/500\u001b[0m \u001b[32m━━━━━━━━━━━━━━━━━━━━\u001b[0m\u001b[37m\u001b[0m \u001b[1m2s\u001b[0m 3ms/step - loss: 346699.3438 - mae: 291.3585 - val_loss: 276890.9375 - val_mae: 273.1189\n",
      "Epoch 22/100\n",
      "\u001b[1m500/500\u001b[0m \u001b[32m━━━━━━━━━━━━━━━━━━━━\u001b[0m\u001b[37m\u001b[0m \u001b[1m2s\u001b[0m 3ms/step - loss: 302073.0625 - mae: 276.9470 - val_loss: 252478.7500 - val_mae: 262.5170\n",
      "Epoch 23/100\n",
      "\u001b[1m500/500\u001b[0m \u001b[32m━━━━━━━━━━━━━━━━━━━━\u001b[0m\u001b[37m\u001b[0m \u001b[1m2s\u001b[0m 3ms/step - loss: 271032.5000 - mae: 266.8503 - val_loss: 217799.9062 - val_mae: 251.8414\n",
      "Epoch 24/100\n",
      "\u001b[1m500/500\u001b[0m \u001b[32m━━━━━━━━━━━━━━━━━━━━\u001b[0m\u001b[37m\u001b[0m \u001b[1m2s\u001b[0m 3ms/step - loss: 237866.7969 - mae: 255.0670 - val_loss: 237141.9844 - val_mae: 275.5327\n",
      "Epoch 25/100\n",
      "\u001b[1m500/500\u001b[0m \u001b[32m━━━━━━━━━━━━━━━━━━━━\u001b[0m\u001b[37m\u001b[0m \u001b[1m2s\u001b[0m 3ms/step - loss: 217623.3750 - mae: 246.8365 - val_loss: 174535.8125 - val_mae: 240.8289\n",
      "Epoch 26/100\n",
      "\u001b[1m500/500\u001b[0m \u001b[32m━━━━━━━━━━━━━━━━━━━━\u001b[0m\u001b[37m\u001b[0m \u001b[1m2s\u001b[0m 3ms/step - loss: 189738.4531 - mae: 236.8555 - val_loss: 203928.9375 - val_mae: 240.6688\n",
      "Epoch 27/100\n",
      "\u001b[1m500/500\u001b[0m \u001b[32m━━━━━━━━━━━━━━━━━━━━\u001b[0m\u001b[37m\u001b[0m \u001b[1m2s\u001b[0m 3ms/step - loss: 173237.9844 - mae: 229.7510 - val_loss: 180007.4531 - val_mae: 233.7866\n",
      "Epoch 28/100\n",
      "\u001b[1m500/500\u001b[0m \u001b[32m━━━━━━━━━━━━━━━━━━━━\u001b[0m\u001b[37m\u001b[0m \u001b[1m2s\u001b[0m 3ms/step - loss: 159485.9844 - mae: 224.6937 - val_loss: 160598.0000 - val_mae: 242.2447\n",
      "Epoch 29/100\n",
      "\u001b[1m500/500\u001b[0m \u001b[32m━━━━━━━━━━━━━━━━━━━━\u001b[0m\u001b[37m\u001b[0m \u001b[1m2s\u001b[0m 3ms/step - loss: 151486.7344 - mae: 219.3324 - val_loss: 142720.8750 - val_mae: 231.4311\n",
      "Epoch 30/100\n",
      "\u001b[1m500/500\u001b[0m \u001b[32m━━━━━━━━━━━━━━━━━━━━\u001b[0m\u001b[37m\u001b[0m \u001b[1m2s\u001b[0m 3ms/step - loss: 135932.6875 - mae: 214.2754 - val_loss: 160533.5938 - val_mae: 247.8835\n",
      "Epoch 31/100\n",
      "\u001b[1m500/500\u001b[0m \u001b[32m━━━━━━━━━━━━━━━━━━━━\u001b[0m\u001b[37m\u001b[0m \u001b[1m2s\u001b[0m 3ms/step - loss: 133251.0625 - mae: 212.3699 - val_loss: 148950.6094 - val_mae: 255.9458\n",
      "Epoch 32/100\n",
      "\u001b[1m500/500\u001b[0m \u001b[32m━━━━━━━━━━━━━━━━━━━━\u001b[0m\u001b[37m\u001b[0m \u001b[1m2s\u001b[0m 3ms/step - loss: 124401.0078 - mae: 206.4135 - val_loss: 121727.5781 - val_mae: 209.9052\n",
      "Epoch 33/100\n",
      "\u001b[1m500/500\u001b[0m \u001b[32m━━━━━━━━━━━━━━━━━━━━\u001b[0m\u001b[37m\u001b[0m \u001b[1m2s\u001b[0m 3ms/step - loss: 115380.6641 - mae: 201.3053 - val_loss: 105164.8125 - val_mae: 196.5357\n",
      "Epoch 34/100\n",
      "\u001b[1m500/500\u001b[0m \u001b[32m━━━━━━━━━━━━━━━━━━━━\u001b[0m\u001b[37m\u001b[0m \u001b[1m2s\u001b[0m 3ms/step - loss: 105263.2578 - mae: 197.0677 - val_loss: 120855.4531 - val_mae: 203.0214\n",
      "Epoch 35/100\n",
      "\u001b[1m500/500\u001b[0m \u001b[32m━━━━━━━━━━━━━━━━━━━━\u001b[0m\u001b[37m\u001b[0m \u001b[1m2s\u001b[0m 3ms/step - loss: 103749.1016 - mae: 195.4298 - val_loss: 90390.8359 - val_mae: 184.7521\n",
      "Epoch 36/100\n",
      "\u001b[1m500/500\u001b[0m \u001b[32m━━━━━━━━━━━━━━━━━━━━\u001b[0m\u001b[37m\u001b[0m \u001b[1m2s\u001b[0m 3ms/step - loss: 101597.9609 - mae: 194.7961 - val_loss: 97467.9062 - val_mae: 198.0965\n",
      "Epoch 37/100\n",
      "\u001b[1m500/500\u001b[0m \u001b[32m━━━━━━━━━━━━━━━━━━━━\u001b[0m\u001b[37m\u001b[0m \u001b[1m2s\u001b[0m 3ms/step - loss: 95183.6562 - mae: 190.1848 - val_loss: 90008.9688 - val_mae: 191.3364\n",
      "Epoch 38/100\n",
      "\u001b[1m500/500\u001b[0m \u001b[32m━━━━━━━━━━━━━━━━━━━━\u001b[0m\u001b[37m\u001b[0m \u001b[1m2s\u001b[0m 3ms/step - loss: 87684.7969 - mae: 185.8160 - val_loss: 84220.5078 - val_mae: 178.0201\n",
      "Epoch 39/100\n",
      "\u001b[1m500/500\u001b[0m \u001b[32m━━━━━━━━━━━━━━━━━━━━\u001b[0m\u001b[37m\u001b[0m \u001b[1m2s\u001b[0m 3ms/step - loss: 87729.6016 - mae: 183.3549 - val_loss: 79587.5859 - val_mae: 174.8426\n",
      "Epoch 40/100\n",
      "\u001b[1m500/500\u001b[0m \u001b[32m━━━━━━━━━━━━━━━━━━━━\u001b[0m\u001b[37m\u001b[0m \u001b[1m2s\u001b[0m 3ms/step - loss: 82167.7969 - mae: 179.0902 - val_loss: 82573.4688 - val_mae: 180.1889\n",
      "Epoch 41/100\n",
      "\u001b[1m500/500\u001b[0m \u001b[32m━━━━━━━━━━━━━━━━━━━━\u001b[0m\u001b[37m\u001b[0m \u001b[1m2s\u001b[0m 3ms/step - loss: 82911.1094 - mae: 181.5737 - val_loss: 108262.7969 - val_mae: 204.8725\n",
      "Epoch 42/100\n",
      "\u001b[1m500/500\u001b[0m \u001b[32m━━━━━━━━━━━━━━━━━━━━\u001b[0m\u001b[37m\u001b[0m \u001b[1m2s\u001b[0m 3ms/step - loss: 83032.1328 - mae: 180.6538 - val_loss: 69979.5625 - val_mae: 171.1609\n",
      "Epoch 43/100\n",
      "\u001b[1m500/500\u001b[0m \u001b[32m━━━━━━━━━━━━━━━━━━━━\u001b[0m\u001b[37m\u001b[0m \u001b[1m2s\u001b[0m 3ms/step - loss: 77413.2891 - mae: 176.0554 - val_loss: 78118.4844 - val_mae: 176.9510\n",
      "Epoch 44/100\n",
      "\u001b[1m500/500\u001b[0m \u001b[32m━━━━━━━━━━━━━━━━━━━━\u001b[0m\u001b[37m\u001b[0m \u001b[1m2s\u001b[0m 3ms/step - loss: 73125.9062 - mae: 171.2666 - val_loss: 71743.6328 - val_mae: 168.8762\n",
      "Epoch 45/100\n",
      "\u001b[1m500/500\u001b[0m \u001b[32m━━━━━━━━━━━━━━━━━━━━\u001b[0m\u001b[37m\u001b[0m \u001b[1m2s\u001b[0m 3ms/step - loss: 75261.2656 - mae: 173.9650 - val_loss: 73517.8594 - val_mae: 178.6248\n",
      "Epoch 46/100\n",
      "\u001b[1m500/500\u001b[0m \u001b[32m━━━━━━━━━━━━━━━━━━━━\u001b[0m\u001b[37m\u001b[0m \u001b[1m2s\u001b[0m 3ms/step - loss: 72771.1094 - mae: 171.6682 - val_loss: 71102.9297 - val_mae: 174.7219\n",
      "Epoch 47/100\n",
      "\u001b[1m500/500\u001b[0m \u001b[32m━━━━━━━━━━━━━━━━━━━━\u001b[0m\u001b[37m\u001b[0m \u001b[1m2s\u001b[0m 3ms/step - loss: 69460.0078 - mae: 169.1101 - val_loss: 79306.6094 - val_mae: 188.5267\n",
      "Epoch 48/100\n",
      "\u001b[1m500/500\u001b[0m \u001b[32m━━━━━━━━━━━━━━━━━━━━\u001b[0m\u001b[37m\u001b[0m \u001b[1m2s\u001b[0m 3ms/step - loss: 72553.8125 - mae: 171.1971 - val_loss: 66463.8281 - val_mae: 163.5387\n",
      "Epoch 49/100\n",
      "\u001b[1m500/500\u001b[0m \u001b[32m━━━━━━━━━━━━━━━━━━━━\u001b[0m\u001b[37m\u001b[0m \u001b[1m1s\u001b[0m 3ms/step - loss: 66285.6250 - mae: 165.3638 - val_loss: 65313.0859 - val_mae: 166.9309\n",
      "Epoch 50/100\n",
      "\u001b[1m500/500\u001b[0m \u001b[32m━━━━━━━━━━━━━━━━━━━━\u001b[0m\u001b[37m\u001b[0m \u001b[1m2s\u001b[0m 3ms/step - loss: 66019.5703 - mae: 164.3368 - val_loss: 71721.8438 - val_mae: 168.4522\n",
      "Epoch 51/100\n",
      "\u001b[1m500/500\u001b[0m \u001b[32m━━━━━━━━━━━━━━━━━━━━\u001b[0m\u001b[37m\u001b[0m \u001b[1m2s\u001b[0m 3ms/step - loss: 64504.5820 - mae: 163.3068 - val_loss: 65759.0000 - val_mae: 161.9840\n",
      "Epoch 52/100\n",
      "\u001b[1m500/500\u001b[0m \u001b[32m━━━━━━━━━━━━━━━━━━━━\u001b[0m\u001b[37m\u001b[0m \u001b[1m2s\u001b[0m 3ms/step - loss: 64198.0625 - mae: 162.7910 - val_loss: 58526.0664 - val_mae: 157.9751\n",
      "Epoch 53/100\n",
      "\u001b[1m500/500\u001b[0m \u001b[32m━━━━━━━━━━━━━━━━━━━━\u001b[0m\u001b[37m\u001b[0m \u001b[1m1s\u001b[0m 3ms/step - loss: 63791.8477 - mae: 163.7270 - val_loss: 70576.3047 - val_mae: 178.6561\n",
      "Epoch 54/100\n",
      "\u001b[1m500/500\u001b[0m \u001b[32m━━━━━━━━━━━━━━━━━━━━\u001b[0m\u001b[37m\u001b[0m \u001b[1m2s\u001b[0m 3ms/step - loss: 61807.2969 - mae: 161.1873 - val_loss: 68154.3516 - val_mae: 162.6358\n",
      "Epoch 55/100\n",
      "\u001b[1m500/500\u001b[0m \u001b[32m━━━━━━━━━━━━━━━━━━━━\u001b[0m\u001b[37m\u001b[0m \u001b[1m2s\u001b[0m 3ms/step - loss: 61979.3047 - mae: 158.8595 - val_loss: 52948.5820 - val_mae: 149.1372\n",
      "Epoch 56/100\n",
      "\u001b[1m500/500\u001b[0m \u001b[32m━━━━━━━━━━━━━━━━━━━━\u001b[0m\u001b[37m\u001b[0m \u001b[1m2s\u001b[0m 3ms/step - loss: 58024.4844 - mae: 156.0200 - val_loss: 61646.7188 - val_mae: 154.6196\n",
      "Epoch 57/100\n",
      "\u001b[1m500/500\u001b[0m \u001b[32m━━━━━━━━━━━━━━━━━━━━\u001b[0m\u001b[37m\u001b[0m \u001b[1m2s\u001b[0m 3ms/step - loss: 60000.4531 - mae: 158.6109 - val_loss: 53512.3828 - val_mae: 147.9346\n",
      "Epoch 58/100\n",
      "\u001b[1m500/500\u001b[0m \u001b[32m━━━━━━━━━━━━━━━━━━━━\u001b[0m\u001b[37m\u001b[0m \u001b[1m2s\u001b[0m 3ms/step - loss: 57912.9688 - mae: 155.4736 - val_loss: 61433.0781 - val_mae: 156.8837\n",
      "Epoch 59/100\n",
      "\u001b[1m500/500\u001b[0m \u001b[32m━━━━━━━━━━━━━━━━━━━━\u001b[0m\u001b[37m\u001b[0m \u001b[1m2s\u001b[0m 3ms/step - loss: 59748.5859 - mae: 157.8287 - val_loss: 77894.5312 - val_mae: 163.6879\n",
      "Epoch 60/100\n",
      "\u001b[1m500/500\u001b[0m \u001b[32m━━━━━━━━━━━━━━━━━━━━\u001b[0m\u001b[37m\u001b[0m \u001b[1m2s\u001b[0m 3ms/step - loss: 57484.7461 - mae: 155.0714 - val_loss: 62044.6211 - val_mae: 161.9227\n",
      "Epoch 61/100\n",
      "\u001b[1m500/500\u001b[0m \u001b[32m━━━━━━━━━━━━━━━━━━━━\u001b[0m\u001b[37m\u001b[0m \u001b[1m2s\u001b[0m 3ms/step - loss: 55826.7656 - mae: 155.6876 - val_loss: 66231.9922 - val_mae: 161.6160\n",
      "Epoch 62/100\n",
      "\u001b[1m500/500\u001b[0m \u001b[32m━━━━━━━━━━━━━━━━━━━━\u001b[0m\u001b[37m\u001b[0m \u001b[1m2s\u001b[0m 3ms/step - loss: 55317.3008 - mae: 153.4270 - val_loss: 53307.3281 - val_mae: 148.2775\n",
      "Epoch 63/100\n",
      "\u001b[1m500/500\u001b[0m \u001b[32m━━━━━━━━━━━━━━━━━━━━\u001b[0m\u001b[37m\u001b[0m \u001b[1m2s\u001b[0m 3ms/step - loss: 57963.3242 - mae: 155.3589 - val_loss: 50592.1914 - val_mae: 148.2083\n",
      "Epoch 64/100\n",
      "\u001b[1m500/500\u001b[0m \u001b[32m━━━━━━━━━━━━━━━━━━━━\u001b[0m\u001b[37m\u001b[0m \u001b[1m2s\u001b[0m 3ms/step - loss: 55342.8164 - mae: 152.9304 - val_loss: 58353.1328 - val_mae: 155.0061\n",
      "Epoch 65/100\n",
      "\u001b[1m500/500\u001b[0m \u001b[32m━━━━━━━━━━━━━━━━━━━━\u001b[0m\u001b[37m\u001b[0m \u001b[1m2s\u001b[0m 3ms/step - loss: 51266.7891 - mae: 148.2153 - val_loss: 87572.0547 - val_mae: 162.6297\n",
      "Epoch 66/100\n",
      "\u001b[1m500/500\u001b[0m \u001b[32m━━━━━━━━━━━━━━━━━━━━\u001b[0m\u001b[37m\u001b[0m \u001b[1m2s\u001b[0m 3ms/step - loss: 55123.1406 - mae: 151.0858 - val_loss: 53057.7031 - val_mae: 150.1134\n",
      "Epoch 67/100\n",
      "\u001b[1m500/500\u001b[0m \u001b[32m━━━━━━━━━━━━━━━━━━━━\u001b[0m\u001b[37m\u001b[0m \u001b[1m2s\u001b[0m 3ms/step - loss: 54564.1719 - mae: 150.5285 - val_loss: 67192.7422 - val_mae: 155.2385\n",
      "Epoch 68/100\n",
      "\u001b[1m500/500\u001b[0m \u001b[32m━━━━━━━━━━━━━━━━━━━━\u001b[0m\u001b[37m\u001b[0m \u001b[1m2s\u001b[0m 3ms/step - loss: 51203.5664 - mae: 148.0311 - val_loss: 53407.5352 - val_mae: 148.4305\n",
      "Epoch 69/100\n",
      "\u001b[1m500/500\u001b[0m \u001b[32m━━━━━━━━━━━━━━━━━━━━\u001b[0m\u001b[37m\u001b[0m \u001b[1m1s\u001b[0m 3ms/step - loss: 51934.2461 - mae: 147.2577 - val_loss: 55703.1289 - val_mae: 150.4232\n",
      "Epoch 70/100\n",
      "\u001b[1m500/500\u001b[0m \u001b[32m━━━━━━━━━━━━━━━━━━━━\u001b[0m\u001b[37m\u001b[0m \u001b[1m2s\u001b[0m 3ms/step - loss: 50346.7227 - mae: 146.8677 - val_loss: 45767.2109 - val_mae: 139.6448\n",
      "Epoch 71/100\n",
      "\u001b[1m500/500\u001b[0m \u001b[32m━━━━━━━━━━━━━━━━━━━━\u001b[0m\u001b[37m\u001b[0m \u001b[1m2s\u001b[0m 3ms/step - loss: 49461.0156 - mae: 146.1547 - val_loss: 76165.6172 - val_mae: 153.4006\n",
      "Epoch 72/100\n",
      "\u001b[1m500/500\u001b[0m \u001b[32m━━━━━━━━━━━━━━━━━━━━\u001b[0m\u001b[37m\u001b[0m \u001b[1m2s\u001b[0m 3ms/step - loss: 50327.4883 - mae: 145.5462 - val_loss: 56811.6836 - val_mae: 148.5708\n",
      "Epoch 73/100\n",
      "\u001b[1m500/500\u001b[0m \u001b[32m━━━━━━━━━━━━━━━━━━━━\u001b[0m\u001b[37m\u001b[0m \u001b[1m2s\u001b[0m 3ms/step - loss: 49351.1016 - mae: 145.1082 - val_loss: 43924.7305 - val_mae: 137.2880\n",
      "Epoch 74/100\n",
      "\u001b[1m500/500\u001b[0m \u001b[32m━━━━━━━━━━━━━━━━━━━━\u001b[0m\u001b[37m\u001b[0m \u001b[1m1s\u001b[0m 3ms/step - loss: 48387.9883 - mae: 143.9875 - val_loss: 51629.6680 - val_mae: 150.3799\n",
      "Epoch 75/100\n",
      "\u001b[1m500/500\u001b[0m \u001b[32m━━━━━━━━━━━━━━━━━━━━\u001b[0m\u001b[37m\u001b[0m \u001b[1m2s\u001b[0m 3ms/step - loss: 51512.9570 - mae: 147.4834 - val_loss: 55475.8633 - val_mae: 159.7835\n",
      "Epoch 76/100\n",
      "\u001b[1m500/500\u001b[0m \u001b[32m━━━━━━━━━━━━━━━━━━━━\u001b[0m\u001b[37m\u001b[0m \u001b[1m2s\u001b[0m 3ms/step - loss: 49004.2578 - mae: 144.0809 - val_loss: 46700.1523 - val_mae: 144.4788\n",
      "Epoch 77/100\n",
      "\u001b[1m500/500\u001b[0m \u001b[32m━━━━━━━━━━━━━━━━━━━━\u001b[0m\u001b[37m\u001b[0m \u001b[1m2s\u001b[0m 3ms/step - loss: 49669.1250 - mae: 145.2389 - val_loss: 43583.9570 - val_mae: 135.9906\n",
      "Epoch 78/100\n",
      "\u001b[1m500/500\u001b[0m \u001b[32m━━━━━━━━━━━━━━━━━━━━\u001b[0m\u001b[37m\u001b[0m \u001b[1m2s\u001b[0m 3ms/step - loss: 47730.5547 - mae: 141.2447 - val_loss: 42289.1250 - val_mae: 137.0674\n",
      "Epoch 79/100\n",
      "\u001b[1m500/500\u001b[0m \u001b[32m━━━━━━━━━━━━━━━━━━━━\u001b[0m\u001b[37m\u001b[0m \u001b[1m2s\u001b[0m 3ms/step - loss: 47259.0859 - mae: 142.0737 - val_loss: 42793.9727 - val_mae: 135.7207\n",
      "Epoch 80/100\n",
      "\u001b[1m500/500\u001b[0m \u001b[32m━━━━━━━━━━━━━━━━━━━━\u001b[0m\u001b[37m\u001b[0m \u001b[1m2s\u001b[0m 3ms/step - loss: 48116.1914 - mae: 141.6851 - val_loss: 43939.5938 - val_mae: 137.6177\n",
      "Epoch 81/100\n",
      "\u001b[1m500/500\u001b[0m \u001b[32m━━━━━━━━━━━━━━━━━━━━\u001b[0m\u001b[37m\u001b[0m \u001b[1m2s\u001b[0m 3ms/step - loss: 47969.2188 - mae: 143.0589 - val_loss: 46545.4492 - val_mae: 147.0279\n",
      "Epoch 82/100\n",
      "\u001b[1m500/500\u001b[0m \u001b[32m━━━━━━━━━━━━━━━━━━━━\u001b[0m\u001b[37m\u001b[0m \u001b[1m2s\u001b[0m 3ms/step - loss: 47544.8438 - mae: 142.6351 - val_loss: 49200.7695 - val_mae: 147.3034\n",
      "Epoch 83/100\n",
      "\u001b[1m500/500\u001b[0m \u001b[32m━━━━━━━━━━━━━━━━━━━━\u001b[0m\u001b[37m\u001b[0m \u001b[1m1s\u001b[0m 3ms/step - loss: 47780.3633 - mae: 142.2092 - val_loss: 43476.1602 - val_mae: 139.3050\n",
      "Epoch 84/100\n",
      "\u001b[1m500/500\u001b[0m \u001b[32m━━━━━━━━━━━━━━━━━━━━\u001b[0m\u001b[37m\u001b[0m \u001b[1m2s\u001b[0m 3ms/step - loss: 47359.1680 - mae: 140.8911 - val_loss: 41237.8125 - val_mae: 132.2154\n",
      "Epoch 85/100\n",
      "\u001b[1m500/500\u001b[0m \u001b[32m━━━━━━━━━━━━━━━━━━━━\u001b[0m\u001b[37m\u001b[0m \u001b[1m1s\u001b[0m 3ms/step - loss: 45883.3789 - mae: 139.0071 - val_loss: 48632.6875 - val_mae: 143.7647\n",
      "Epoch 86/100\n",
      "\u001b[1m500/500\u001b[0m \u001b[32m━━━━━━━━━━━━━━━━━━━━\u001b[0m\u001b[37m\u001b[0m \u001b[1m2s\u001b[0m 3ms/step - loss: 46224.6133 - mae: 140.0070 - val_loss: 52148.6133 - val_mae: 145.3609\n",
      "Epoch 87/100\n",
      "\u001b[1m500/500\u001b[0m \u001b[32m━━━━━━━━━━━━━━━━━━━━\u001b[0m\u001b[37m\u001b[0m \u001b[1m2s\u001b[0m 3ms/step - loss: 45469.0703 - mae: 138.2646 - val_loss: 44028.3984 - val_mae: 135.7806\n",
      "Epoch 88/100\n",
      "\u001b[1m500/500\u001b[0m \u001b[32m━━━━━━━━━━━━━━━━━━━━\u001b[0m\u001b[37m\u001b[0m \u001b[1m2s\u001b[0m 3ms/step - loss: 46011.1055 - mae: 140.2136 - val_loss: 42665.6836 - val_mae: 134.0025\n",
      "Epoch 89/100\n",
      "\u001b[1m500/500\u001b[0m \u001b[32m━━━━━━━━━━━━━━━━━━━━\u001b[0m\u001b[37m\u001b[0m \u001b[1m3s\u001b[0m 3ms/step - loss: 45687.3242 - mae: 139.1663 - val_loss: 53123.4102 - val_mae: 155.8480\n",
      "Epoch 90/100\n",
      "\u001b[1m500/500\u001b[0m \u001b[32m━━━━━━━━━━━━━━━━━━━━\u001b[0m\u001b[37m\u001b[0m \u001b[1m1s\u001b[0m 3ms/step - loss: 44068.6445 - mae: 137.0197 - val_loss: 43696.8789 - val_mae: 136.6067\n",
      "Epoch 91/100\n",
      "\u001b[1m500/500\u001b[0m \u001b[32m━━━━━━━━━━━━━━━━━━━━\u001b[0m\u001b[37m\u001b[0m \u001b[1m2s\u001b[0m 3ms/step - loss: 44888.0195 - mae: 138.7607 - val_loss: 61283.7148 - val_mae: 173.1287\n",
      "Epoch 92/100\n",
      "\u001b[1m500/500\u001b[0m \u001b[32m━━━━━━━━━━━━━━━━━━━━\u001b[0m\u001b[37m\u001b[0m \u001b[1m2s\u001b[0m 3ms/step - loss: 44201.0586 - mae: 137.2842 - val_loss: 41049.2344 - val_mae: 134.5068\n",
      "Epoch 93/100\n",
      "\u001b[1m500/500\u001b[0m \u001b[32m━━━━━━━━━━━━━━━━━━━━\u001b[0m\u001b[37m\u001b[0m \u001b[1m2s\u001b[0m 3ms/step - loss: 43686.7109 - mae: 136.9375 - val_loss: 40108.3438 - val_mae: 133.6090\n",
      "Epoch 94/100\n",
      "\u001b[1m500/500\u001b[0m \u001b[32m━━━━━━━━━━━━━━━━━━━━\u001b[0m\u001b[37m\u001b[0m \u001b[1m2s\u001b[0m 3ms/step - loss: 45918.4727 - mae: 138.0662 - val_loss: 51199.2852 - val_mae: 144.6059\n",
      "Epoch 95/100\n",
      "\u001b[1m500/500\u001b[0m \u001b[32m━━━━━━━━━━━━━━━━━━━━\u001b[0m\u001b[37m\u001b[0m \u001b[1m2s\u001b[0m 3ms/step - loss: 44761.0078 - mae: 136.3088 - val_loss: 41160.9844 - val_mae: 129.7273\n",
      "Epoch 96/100\n",
      "\u001b[1m500/500\u001b[0m \u001b[32m━━━━━━━━━━━━━━━━━━━━\u001b[0m\u001b[37m\u001b[0m \u001b[1m2s\u001b[0m 3ms/step - loss: 44001.7773 - mae: 136.6871 - val_loss: 41098.0938 - val_mae: 132.8989\n",
      "Epoch 97/100\n",
      "\u001b[1m500/500\u001b[0m \u001b[32m━━━━━━━━━━━━━━━━━━━━\u001b[0m\u001b[37m\u001b[0m \u001b[1m2s\u001b[0m 3ms/step - loss: 41976.8906 - mae: 133.4309 - val_loss: 39567.8867 - val_mae: 134.0540\n",
      "Epoch 98/100\n",
      "\u001b[1m500/500\u001b[0m \u001b[32m━━━━━━━━━━━━━━━━━━━━\u001b[0m\u001b[37m\u001b[0m \u001b[1m2s\u001b[0m 3ms/step - loss: 42422.5195 - mae: 134.5146 - val_loss: 43195.2500 - val_mae: 136.8708\n",
      "Epoch 99/100\n",
      "\u001b[1m500/500\u001b[0m \u001b[32m━━━━━━━━━━━━━━━━━━━━\u001b[0m\u001b[37m\u001b[0m \u001b[1m2s\u001b[0m 3ms/step - loss: 42574.2812 - mae: 135.3477 - val_loss: 39887.6602 - val_mae: 131.3358\n",
      "Epoch 100/100\n",
      "\u001b[1m500/500\u001b[0m \u001b[32m━━━━━━━━━━━━━━━━━━━━\u001b[0m\u001b[37m\u001b[0m \u001b[1m2s\u001b[0m 3ms/step - loss: 43549.5469 - mae: 134.4098 - val_loss: 40770.8828 - val_mae: 130.3270\n",
      "Final model training complete!\n"
     ]
    }
   ],
   "source": [
    "\"Training final model with best parameters\"\n",
    "\n",
    "# Scale the full training data\n",
    "scaler = StandardScaler()\n",
    "X_train_scaled = scaler.fit_transform(X_train)\n",
    "X_test_scaled = scaler.transform(X_test)\n",
    "\n",
    "# Create final model with best params\n",
    "def create_final_model(params, input_dim):\n",
    "    model = Sequential([\n",
    "        Dense(params['hidden_size'], activation='relu', input_dim=input_dim),\n",
    "        Dense(params['hidden_size']//2, activation='relu'),\n",
    "        Dense(params['hidden_size']//4, activation='relu'),\n",
    "        Dense(1)  # Output layer for regression\n",
    "    ])\n",
    "    \n",
    "    model.compile(\n",
    "        optimizer=Adam(learning_rate=params['learning_rate']),\n",
    "        loss='mse',\n",
    "        metrics=['mae']\n",
    "    )\n",
    "    return model\n",
    "\n",
    "# Train final model\n",
    "final_model = create_final_model(best_params, X_train_scaled.shape[1])\n",
    "\n",
    "history = final_model.fit(\n",
    "    X_train_scaled, y_train,\n",
    "    epochs=best_params['epochs'],\n",
    "    batch_size=best_params['batch_size'],\n",
    "    validation_split=0.2,  # Use 20% of training data for monitoring\n",
    "    verbose=1,\n",
    "    callbacks=[tf.keras.callbacks.EarlyStopping(patience=15, restore_best_weights=True)]\n",
    ")\n",
    "\n",
    "print(\"Final model training complete!\")"
   ]
  },
  {
   "cell_type": "code",
   "execution_count": 12,
   "id": "d1f8bbc6",
   "metadata": {},
   "outputs": [
    {
     "data": {
      "text/html": [
       "<pre style=\"white-space:pre;overflow-x:auto;line-height:normal;font-family:Menlo,'DejaVu Sans Mono',consolas,'Courier New',monospace\"><span style=\"font-weight: bold\">Model: \"sequential_15\"</span>\n",
       "</pre>\n"
      ],
      "text/plain": [
       "\u001b[1mModel: \"sequential_15\"\u001b[0m\n"
      ]
     },
     "metadata": {},
     "output_type": "display_data"
    },
    {
     "data": {
      "text/html": [
       "<pre style=\"white-space:pre;overflow-x:auto;line-height:normal;font-family:Menlo,'DejaVu Sans Mono',consolas,'Courier New',monospace\">┏━━━━━━━━━━━━━━━━━━━━━━━━━━━━━━━━━┳━━━━━━━━━━━━━━━━━━━━━━━━┳━━━━━━━━━━━━━━━┓\n",
       "┃<span style=\"font-weight: bold\"> Layer (type)                    </span>┃<span style=\"font-weight: bold\"> Output Shape           </span>┃<span style=\"font-weight: bold\">       Param # </span>┃\n",
       "┡━━━━━━━━━━━━━━━━━━━━━━━━━━━━━━━━━╇━━━━━━━━━━━━━━━━━━━━━━━━╇━━━━━━━━━━━━━━━┩\n",
       "│ dense_60 (<span style=\"color: #0087ff; text-decoration-color: #0087ff\">Dense</span>)                │ (<span style=\"color: #00d7ff; text-decoration-color: #00d7ff\">None</span>, <span style=\"color: #00af00; text-decoration-color: #00af00\">64</span>)             │         <span style=\"color: #00af00; text-decoration-color: #00af00\">1,600</span> │\n",
       "├─────────────────────────────────┼────────────────────────┼───────────────┤\n",
       "│ dense_61 (<span style=\"color: #0087ff; text-decoration-color: #0087ff\">Dense</span>)                │ (<span style=\"color: #00d7ff; text-decoration-color: #00d7ff\">None</span>, <span style=\"color: #00af00; text-decoration-color: #00af00\">32</span>)             │         <span style=\"color: #00af00; text-decoration-color: #00af00\">2,080</span> │\n",
       "├─────────────────────────────────┼────────────────────────┼───────────────┤\n",
       "│ dense_62 (<span style=\"color: #0087ff; text-decoration-color: #0087ff\">Dense</span>)                │ (<span style=\"color: #00d7ff; text-decoration-color: #00d7ff\">None</span>, <span style=\"color: #00af00; text-decoration-color: #00af00\">16</span>)             │           <span style=\"color: #00af00; text-decoration-color: #00af00\">528</span> │\n",
       "├─────────────────────────────────┼────────────────────────┼───────────────┤\n",
       "│ dense_63 (<span style=\"color: #0087ff; text-decoration-color: #0087ff\">Dense</span>)                │ (<span style=\"color: #00d7ff; text-decoration-color: #00d7ff\">None</span>, <span style=\"color: #00af00; text-decoration-color: #00af00\">1</span>)              │            <span style=\"color: #00af00; text-decoration-color: #00af00\">17</span> │\n",
       "└─────────────────────────────────┴────────────────────────┴───────────────┘\n",
       "</pre>\n"
      ],
      "text/plain": [
       "┏━━━━━━━━━━━━━━━━━━━━━━━━━━━━━━━━━┳━━━━━━━━━━━━━━━━━━━━━━━━┳━━━━━━━━━━━━━━━┓\n",
       "┃\u001b[1m \u001b[0m\u001b[1mLayer (type)                   \u001b[0m\u001b[1m \u001b[0m┃\u001b[1m \u001b[0m\u001b[1mOutput Shape          \u001b[0m\u001b[1m \u001b[0m┃\u001b[1m \u001b[0m\u001b[1m      Param #\u001b[0m\u001b[1m \u001b[0m┃\n",
       "┡━━━━━━━━━━━━━━━━━━━━━━━━━━━━━━━━━╇━━━━━━━━━━━━━━━━━━━━━━━━╇━━━━━━━━━━━━━━━┩\n",
       "│ dense_60 (\u001b[38;5;33mDense\u001b[0m)                │ (\u001b[38;5;45mNone\u001b[0m, \u001b[38;5;34m64\u001b[0m)             │         \u001b[38;5;34m1,600\u001b[0m │\n",
       "├─────────────────────────────────┼────────────────────────┼───────────────┤\n",
       "│ dense_61 (\u001b[38;5;33mDense\u001b[0m)                │ (\u001b[38;5;45mNone\u001b[0m, \u001b[38;5;34m32\u001b[0m)             │         \u001b[38;5;34m2,080\u001b[0m │\n",
       "├─────────────────────────────────┼────────────────────────┼───────────────┤\n",
       "│ dense_62 (\u001b[38;5;33mDense\u001b[0m)                │ (\u001b[38;5;45mNone\u001b[0m, \u001b[38;5;34m16\u001b[0m)             │           \u001b[38;5;34m528\u001b[0m │\n",
       "├─────────────────────────────────┼────────────────────────┼───────────────┤\n",
       "│ dense_63 (\u001b[38;5;33mDense\u001b[0m)                │ (\u001b[38;5;45mNone\u001b[0m, \u001b[38;5;34m1\u001b[0m)              │            \u001b[38;5;34m17\u001b[0m │\n",
       "└─────────────────────────────────┴────────────────────────┴───────────────┘\n"
      ]
     },
     "metadata": {},
     "output_type": "display_data"
    },
    {
     "data": {
      "text/html": [
       "<pre style=\"white-space:pre;overflow-x:auto;line-height:normal;font-family:Menlo,'DejaVu Sans Mono',consolas,'Courier New',monospace\"><span style=\"font-weight: bold\"> Total params: </span><span style=\"color: #00af00; text-decoration-color: #00af00\">12,677</span> (49.52 KB)\n",
       "</pre>\n"
      ],
      "text/plain": [
       "\u001b[1m Total params: \u001b[0m\u001b[38;5;34m12,677\u001b[0m (49.52 KB)\n"
      ]
     },
     "metadata": {},
     "output_type": "display_data"
    },
    {
     "data": {
      "text/html": [
       "<pre style=\"white-space:pre;overflow-x:auto;line-height:normal;font-family:Menlo,'DejaVu Sans Mono',consolas,'Courier New',monospace\"><span style=\"font-weight: bold\"> Trainable params: </span><span style=\"color: #00af00; text-decoration-color: #00af00\">4,225</span> (16.50 KB)\n",
       "</pre>\n"
      ],
      "text/plain": [
       "\u001b[1m Trainable params: \u001b[0m\u001b[38;5;34m4,225\u001b[0m (16.50 KB)\n"
      ]
     },
     "metadata": {},
     "output_type": "display_data"
    },
    {
     "data": {
      "text/html": [
       "<pre style=\"white-space:pre;overflow-x:auto;line-height:normal;font-family:Menlo,'DejaVu Sans Mono',consolas,'Courier New',monospace\"><span style=\"font-weight: bold\"> Non-trainable params: </span><span style=\"color: #00af00; text-decoration-color: #00af00\">0</span> (0.00 B)\n",
       "</pre>\n"
      ],
      "text/plain": [
       "\u001b[1m Non-trainable params: \u001b[0m\u001b[38;5;34m0\u001b[0m (0.00 B)\n"
      ]
     },
     "metadata": {},
     "output_type": "display_data"
    },
    {
     "data": {
      "text/html": [
       "<pre style=\"white-space:pre;overflow-x:auto;line-height:normal;font-family:Menlo,'DejaVu Sans Mono',consolas,'Courier New',monospace\"><span style=\"font-weight: bold\"> Optimizer params: </span><span style=\"color: #00af00; text-decoration-color: #00af00\">8,452</span> (33.02 KB)\n",
       "</pre>\n"
      ],
      "text/plain": [
       "\u001b[1m Optimizer params: \u001b[0m\u001b[38;5;34m8,452\u001b[0m (33.02 KB)\n"
      ]
     },
     "metadata": {},
     "output_type": "display_data"
    }
   ],
   "source": [
    "\"Newtwork summary and size\"\n",
    "final_model.summary()"
   ]
  },
  {
   "cell_type": "code",
   "execution_count": 22,
   "id": "cc370d28",
   "metadata": {},
   "outputs": [
    {
     "name": "stdout",
     "output_type": "stream",
     "text": [
      "   Final test results:\n",
      "   Mean Squared Error (MSE): 41778.6408\n",
      "   Root Mean Squared Error (RMSE): 204.3982\n",
      "   Mean Absolute Error (MAE): 135.7828\n",
      "   R² Score: 0.9998\n",
      "   Comparison:\n",
      "   Cross-Validation RMSE: 200.3295\n",
      "   Final Test RMSE: 204.3982\n",
      "   Difference: 4.0687\n"
     ]
    },
    {
     "data": {
      "image/png": "[encoded data removed]",
      "text/plain": [
       "<Figure size 1000x800 with 1 Axes>"
      ]
     },
     "metadata": {},
     "output_type": "display_data"
    }
   ],
   "source": [
    "\"Evaluate final model on test set\"\n",
    "\n",
    "# Make predictions on test set\n",
    "test_predictions = final_model.predict(X_test_scaled, verbose=0)\n",
    "\n",
    "# Calculate metrics\n",
    "mse = mean_squared_error(y_test, test_predictions)\n",
    "rmse = np.sqrt(mse)\n",
    "mae = mean_absolute_error(y_test, test_predictions)\n",
    "r2 = r2_score(y_test, test_predictions)\n",
    "\n",
    "# Print results\n",
    "print(f\"   Final test results:\")\n",
    "print(f\"   Mean Squared Error (MSE): {mse:.4f}\")\n",
    "print(f\"   Root Mean Squared Error (RMSE): {rmse:.4f}\")\n",
    "print(f\"   Mean Absolute Error (MAE): {mae:.4f}\")\n",
    "print(f\"   R² Score: {r2:.4f}\")\n",
    "\n",
    "print(f\"   Comparison:\")\n",
    "print(f\"   Cross-Validation RMSE: {np.sqrt(best_score):.4f}\")\n",
    "print(f\"   Final Test RMSE: {rmse:.4f}\")\n",
    "print(f\"   Difference: {abs(rmse - np.sqrt(best_score)):.4f}\")\n",
    "\n",
    "# Plot (predictions vs actual)\n",
    "plt.figure(figsize=(10, 8))\n",
    "plt.scatter(y_test, test_predictions, alpha=0.6, color='blue', label='Predicted vs Actual')\n",
    "plt.plot([y_test.min(), y_test.max()], [y_test.min(), y_test.max()], 'r-', lw=2, label='Predicted Price = Actual Price')\n",
    "plt.xlabel('Actual Price')\n",
    "plt.ylabel('Predicted Price')\n",
    "plt.title('Actual vs Predicted Prices')\n",
    "plt.grid(True, alpha=0.3)\n",
    "plt.legend(loc='best', frameon=True)\n",
    "plt.tight_layout()\n",
    "plt.show()"
   ]
  },
  {
   "cell_type": "code",
   "execution_count": 14,
   "id": "16c451e7",
   "metadata": {},
   "outputs": [],
   "source": [
    "\"Save model\"\n",
    "\n",
    "#Metadata\n",
    "model_info = {\n",
    "    'best_params': best_params,\n",
    "    'best_score': best_score,\n",
    "    'feature_names': list(X_train.columns),\n",
    "    'model_type': 'neural_network'\n",
    "}\n",
    "\n",
    "joblib.dump({\n",
    "    'model': final_model,\n",
    "    'scaler': scaler,\n",
    "    'feature_names': list(X_train.columns),\n",
    "    'metadata': model_info\n",
    "}, 'NN_model.joblib')\n",
    "\n",
    "# Load\n",
    "loaded = joblib.load('NN_model.joblib')\n",
    "model = loaded['model']\n",
    "scaler = loaded['scaler']"
   ]
  },
  {
   "cell_type": "code",
   "execution_count": 15,
   "id": "a85bee94",
   "metadata": {},
   "outputs": [],
   "source": [
    "\"Function to predict on new data\"\n",
    "def predict_price(new_data):    \n",
    "    new_data_scaled = scaler.transform(new_data)\n",
    "    prediction = model.predict(new_data_scaled)\n",
    "    return prediction[0][0]"
   ]
  },
  {
   "cell_type": "code",
   "execution_count": 16,
   "id": "fa828a28",
   "metadata": {},
   "outputs": [],
   "source": [
    "\"Example\"\n",
    "new_car_data = pd.DataFrame({\n",
    "    'Make': ['Toyota'],\n",
    "    'Model': ['Camry'],\n",
    "    'Year': [2023],\n",
    "    'Mileage': [25000],\n",
    "    'Engine_Size': [2.5],\n",
    "})"
   ]
  },
  {
   "cell_type": "code",
   "execution_count": 17,
   "id": "954d4202",
   "metadata": {},
   "outputs": [
    {
     "name": "stderr",
     "output_type": "stream",
     "text": [
      "c:\\Users\\Georg\\AppData\\Local\\Programs\\Python\\Python312\\Lib\\site-packages\\sklearn\\utils\\validation.py:2739: UserWarning: X does not have valid feature names, but StandardScaler was fitted with feature names\n",
      "  warnings.warn(\n"
     ]
    },
    {
     "name": "stdout",
     "output_type": "stream",
     "text": [
      "Sample 1:\n",
      "  Predicted Price: £28,744.7324\n",
      "  Actual Price:    £28,636.0000\n",
      "  Error:           £108.7324\n",
      "\n",
      "Sample 2:\n",
      "  Predicted Price: £60,040.7461\n",
      "  Actual Price:    £59,783.0000\n",
      "  Error:           £257.7461\n",
      "\n"
     ]
    },
    {
     "name": "stderr",
     "output_type": "stream",
     "text": [
      "c:\\Users\\Georg\\AppData\\Local\\Programs\\Python\\Python312\\Lib\\site-packages\\sklearn\\utils\\validation.py:2739: UserWarning: X does not have valid feature names, but StandardScaler was fitted with feature names\n",
      "  warnings.warn(\n",
      "c:\\Users\\Georg\\AppData\\Local\\Programs\\Python\\Python312\\Lib\\site-packages\\sklearn\\utils\\validation.py:2739: UserWarning: X does not have valid feature names, but StandardScaler was fitted with feature names\n",
      "  warnings.warn(\n"
     ]
    },
    {
     "name": "stdout",
     "output_type": "stream",
     "text": [
      "Sample 3:\n",
      "  Predicted Price: £14,605.5518\n",
      "  Actual Price:    £14,865.0000\n",
      "  Error:           £259.4482\n",
      "\n",
      "Sample 4:\n",
      "  Predicted Price: £1,960.8330\n",
      "  Actual Price:    £2,219.0000\n",
      "  Error:           £258.1670\n",
      "\n"
     ]
    },
    {
     "name": "stderr",
     "output_type": "stream",
     "text": [
      "c:\\Users\\Georg\\AppData\\Local\\Programs\\Python\\Python312\\Lib\\site-packages\\sklearn\\utils\\validation.py:2739: UserWarning: X does not have valid feature names, but StandardScaler was fitted with feature names\n",
      "  warnings.warn(\n",
      "c:\\Users\\Georg\\AppData\\Local\\Programs\\Python\\Python312\\Lib\\site-packages\\sklearn\\utils\\validation.py:2739: UserWarning: X does not have valid feature names, but StandardScaler was fitted with feature names\n",
      "  warnings.warn(\n"
     ]
    },
    {
     "name": "stdout",
     "output_type": "stream",
     "text": [
      "Sample 5:\n",
      "  Predicted Price: £938.0250\n",
      "  Actual Price:    £1,001.0000\n",
      "  Error:           £62.9750\n",
      "\n",
      "Sample 6:\n",
      "  Predicted Price: £1,324.5781\n",
      "  Actual Price:    £1,415.0000\n",
      "  Error:           £90.4219\n",
      "\n"
     ]
    },
    {
     "name": "stderr",
     "output_type": "stream",
     "text": [
      "c:\\Users\\Georg\\AppData\\Local\\Programs\\Python\\Python312\\Lib\\site-packages\\sklearn\\utils\\validation.py:2739: UserWarning: X does not have valid feature names, but StandardScaler was fitted with feature names\n",
      "  warnings.warn(\n",
      "c:\\Users\\Georg\\AppData\\Local\\Programs\\Python\\Python312\\Lib\\site-packages\\sklearn\\utils\\validation.py:2739: UserWarning: X does not have valid feature names, but StandardScaler was fitted with feature names\n",
      "  warnings.warn(\n"
     ]
    },
    {
     "name": "stdout",
     "output_type": "stream",
     "text": [
      "Sample 7:\n",
      "  Predicted Price: £105,833.7344\n",
      "  Actual Price:    £106,073.0000\n",
      "  Error:           £239.2656\n",
      "\n",
      "Sample 8:\n",
      "  Predicted Price: £2,132.3315\n",
      "  Actual Price:    £2,023.0000\n",
      "  Error:           £109.3315\n",
      "\n"
     ]
    },
    {
     "name": "stderr",
     "output_type": "stream",
     "text": [
      "c:\\Users\\Georg\\AppData\\Local\\Programs\\Python\\Python312\\Lib\\site-packages\\sklearn\\utils\\validation.py:2739: UserWarning: X does not have valid feature names, but StandardScaler was fitted with feature names\n",
      "  warnings.warn(\n",
      "c:\\Users\\Georg\\AppData\\Local\\Programs\\Python\\Python312\\Lib\\site-packages\\sklearn\\utils\\validation.py:2739: UserWarning: X does not have valid feature names, but StandardScaler was fitted with feature names\n",
      "  warnings.warn(\n"
     ]
    },
    {
     "name": "stdout",
     "output_type": "stream",
     "text": [
      "Sample 9:\n",
      "  Predicted Price: £15,441.4746\n",
      "  Actual Price:    £15,492.0000\n",
      "  Error:           £50.5254\n",
      "\n",
      "Sample 10:\n",
      "  Predicted Price: £3,507.6670\n",
      "  Actual Price:    £3,465.0000\n",
      "  Error:           £42.6670\n",
      "\n"
     ]
    },
    {
     "name": "stderr",
     "output_type": "stream",
     "text": [
      "c:\\Users\\Georg\\AppData\\Local\\Programs\\Python\\Python312\\Lib\\site-packages\\sklearn\\utils\\validation.py:2739: UserWarning: X does not have valid feature names, but StandardScaler was fitted with feature names\n",
      "  warnings.warn(\n"
     ]
    }
   ],
   "source": [
    "\"Test prediction on samples from test set\"\n",
    "sample_new_data = X_test.iloc[:10].copy()  # Test samples\n",
    "actual_prices = y_test.iloc[:10].copy()    # Actual prices (for comparison)\n",
    "\n",
    "for i in range(len(sample_new_data)):\n",
    "    sample_scaled = scaler.transform([sample_new_data.iloc[i]])\n",
    "\n",
    "    # Make prediction\n",
    "    predicted_price = model.predict(sample_scaled, verbose=0)[0][0]\n",
    "    actual_price = actual_prices.iloc[i]\n",
    "    \n",
    "\n",
    "    print(f\"Sample {i+1}:\")\n",
    "    print(f\"  Predicted Price: £{predicted_price:,.4f}\")\n",
    "    print(f\"  Actual Price:    £{actual_price:,.4f}\")\n",
    "    print(f\"  Error:           £{abs(predicted_price - actual_price):,.4f}\\n\")\n",
    "    #print(f\"Sample {i+1}:\")\n",
    "    #print(f\"  Predicted Price: ${predicted_price:.2f}\")\n",
    "    #print(f\"  Actual Price: ${actual_price:.2f}\")\n",
    "    #print(f\"  Error: ${abs(predicted_price - actual_price):.2f}\")\n",
    "    #print()"
   ]
  },
  {
   "cell_type": "code",
   "execution_count": 18,
   "id": "9db780fb",
   "metadata": {},
   "outputs": [
    {
     "name": "stdout",
     "output_type": "stream",
     "text": [
      "  Processed 1/24 features...\n",
      "  Processed 11/24 features...\n",
      "  Processed 21/24 features...\n"
     ]
    },
    {
     "data": {
      "image/png": "[encoded data removed]",
      "text/plain": [
       "<Figure size 1200x800 with 1 Axes>"
      ]
     },
     "metadata": {},
     "output_type": "display_data"
    }
   ],
   "source": [
    "\"Feature importance by permutation\"\n",
    "baseline_predictions = final_model.predict(X_test_scaled, verbose=0).flatten()\n",
    "baseline_mse = mean_squared_error(y_test, baseline_predictions)\n",
    "\n",
    "# Calculate importance for each feature\n",
    "feature_importance_scores = []\n",
    "\n",
    "for i, feature_name in enumerate(X_train.columns):\n",
    "    X_test_permuted = X_test_scaled.copy()\n",
    "    np.random.seed(42)\n",
    "    X_test_permuted[:, i] = np.random.permutation(X_test_permuted[:, i])\n",
    "    permuted_predictions = final_model.predict(X_test_permuted, verbose=0).flatten()\n",
    "    permuted_mse = mean_squared_error(y_test, permuted_predictions)\n",
    "    \n",
    "    # Calculate importance \n",
    "    importance = permuted_mse - baseline_mse\n",
    "    feature_importance_scores.append(importance)\n",
    "    \n",
    "    if i % 10 == 0: \n",
    "        print(f\"  Processed {i+1}/{len(X_train.columns)} features...\")\n",
    "\n",
    "feature_importance_df = pd.DataFrame({\n",
    "    'Feature': X_train.columns,\n",
    "    'Importance': feature_importance_scores\n",
    "})\n",
    "\n",
    "def group_feature_importance(df):\n",
    "    grouped_importance = {}\n",
    "    \n",
    "    for _, row in df.iterrows():\n",
    "        feature_name = row['Feature']\n",
    "        importance = row['Importance']\n",
    "        \n",
    "        if feature_name.startswith('Manufacturer_'):\n",
    "            category = 'Manufacturer'\n",
    "        elif feature_name.startswith('Model_'):\n",
    "            category = 'Model'\n",
    "        elif feature_name.startswith('Fuel type_'):\n",
    "            category = 'Fuel type'\n",
    "        else:\n",
    "            category = feature_name\n",
    "        if category in grouped_importance:\n",
    "            grouped_importance[category] += importance\n",
    "        else:\n",
    "            grouped_importance[category] = importance\n",
    "    \n",
    "    return grouped_importance\n",
    "\n",
    "# Group features\n",
    "grouped_scores = group_feature_importance(feature_importance_df)\n",
    "\n",
    "# Sort\n",
    "sort_descending = True \n",
    "\n",
    "grouped_df = pd.DataFrame(list(grouped_scores.items()), \n",
    "                         columns=['Feature', 'Importance']).sort_values('Importance', ascending=True)\n",
    "\n",
    "# Plot top 10 features\n",
    "plt.figure(figsize=(12, 8))\n",
    "top_features = grouped_df.head(10)  # Top 10 grouped features\n",
    "\n",
    "plt.barh(range(len(top_features)), top_features['Importance'], \n",
    "         color='#FF8C00', alpha=0.8)  # Orange color\n",
    "\n",
    "# Labels\n",
    "plt.yticks(range(len(top_features)), top_features['Feature'])\n",
    "plt.xlabel('Importance')\n",
    "\n",
    "sort_label = \"Descending\" if sort_descending else \"Ascending\"\n",
    "plt.title(f'Top 10 Feature Importance ({sort_label})\\nActual Price')\n",
    "\n",
    "if sort_descending:\n",
    "    plt.gca().invert_yaxis()\n",
    "\n",
    "plt.grid(True, alpha=0.3, axis='x')\n",
    "plt.tight_layout()\n",
    "plt.show()"
   ]
  },
  {
   "cell_type": "code",
   "execution_count": 19,
   "id": "1ef8f0be",
   "metadata": {},
   "outputs": [
    {
     "data": {
      "application/vnd.jupyter.widget-view+json": {
       "model_id": "7759e005d0894790a611509f62f808d5",
       "version_major": 2,
       "version_minor": 0
      },
      "text/plain": [
       "  0%|          | 0/10 [00:00<?, ?it/s]"
      ]
     },
     "metadata": {},
     "output_type": "display_data"
    }
   ],
   "source": [
    "\"SHAP analysis\"\n",
    "# Use smaller sample for faster computation\n",
    "n_background = 50  # Background samples\n",
    "n_explain = 10     # Samples to explain\n",
    "\n",
    "# Create wrapper function\n",
    "def model_predict_shap(X):\n",
    "    return final_model.predict(X, verbose=0).flatten()\n",
    "\n",
    "# Use KernelExplainer\n",
    "explainer = shap.KernelExplainer(model_predict_shap, X_train_scaled[:n_background])\n",
    "shap_values = explainer.shap_values(X_test_scaled[:n_explain])\n",
    "\n",
    "# Calculate feature importance\n",
    "feature_importance = np.mean(np.abs(shap_values), axis=0)\n",
    "\n",
    "# Create mapping of features to their parent categories\n",
    "def get_parent_feature(feature_name):\n",
    "    if feature_name.startswith('Manufacturer_'):\n",
    "        return 'Manufacturer'\n",
    "    elif feature_name.startswith('Model_'):\n",
    "        return 'Model'\n",
    "    elif feature_name.startswith('Fuel type_'):\n",
    "        return 'Fuel type'\n",
    "    else:\n",
    "        return feature_name\n",
    "\n",
    "# Group SHAP values by parent feature and calculate mean\n",
    "grouped_shap = {}\n",
    "feature_counts = {}\n",
    "\n",
    "for i, feature_name in enumerate(X_train.columns):\n",
    "    parent_feature = get_parent_feature(feature_name)\n",
    "    if parent_feature in grouped_shap:\n",
    "        grouped_shap[parent_feature] += feature_importance[i]\n",
    "        feature_counts[parent_feature] += 1\n",
    "    else:\n",
    "        grouped_shap[parent_feature] = feature_importance[i]\n",
    "        feature_counts[parent_feature] = 1\n",
    "\n",
    "# Calculate mean by dividing by count\n",
    "for feature in grouped_shap:\n",
    "    grouped_shap[feature] /= feature_counts[feature]\n",
    "\n",
    "# Create DataFrame with grouped results\n",
    "shap_df = pd.DataFrame({\n",
    "    'Feature': list(grouped_shap.keys()),\n",
    "    'SHAP_Importance': list(grouped_shap.values())\n",
    "}).sort_values('SHAP_Importance', ascending=False)\n",
    "\n",
    "\n"
   ]
  },
  {
   "cell_type": "code",
   "execution_count": 20,
   "id": "4a52f760",
   "metadata": {},
   "outputs": [
    {
     "data": {
      "image/png": "[encoded data removed]",
      "text/plain": [
       "<Figure size 1000x600 with 1 Axes>"
      ]
     },
     "metadata": {},
     "output_type": "display_data"
    }
   ],
   "source": [
    "\"Plot SHAP Feature Importance\"\n",
    "# Sort by importance\n",
    "shap_df_sorted = shap_df.sort_values('SHAP_Importance', ascending=False)\n",
    "\n",
    "# Create horizontal bar plot\n",
    "plt.figure(figsize=(10, 6))\n",
    "plt.barh(shap_df_sorted['Feature'], shap_df_sorted['SHAP_Importance'], color='#1f77b4')\n",
    "\n",
    "plt.xlabel('SHAP Value', fontsize=12)\n",
    "plt.title('SHAP Feature Importance', fontsize=14)\n",
    "plt.tight_layout()\n",
    "plt.show()"
   ]
  }
 ],
 "metadata": {
  "kernelspec": {
   "display_name": "Python 3",
   "language": "python",
   "name": "python3"
  },
  "language_info": {
   "codemirror_mode": {
    "name": "ipython",
    "version": 3
   },
   "file_extension": ".py",
   "mimetype": "text/x-python",
   "name": "python",
   "nbconvert_exporter": "python",
   "pygments_lexer": "ipython3",
   "version": "3.12.2"
  }
 },
 "nbformat": 4,
 "nbformat_minor": 5
}
