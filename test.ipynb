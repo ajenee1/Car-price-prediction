{
 "cells": [
  {
   "cell_type": "code",
   "execution_count": 22,
   "id": "5d8a431e",
   "metadata": {},
   "outputs": [],
   "source": [
    "import os\n",
    "import pandas as pd"
   ]
  },
  {
   "cell_type": "code",
   "execution_count": 40,
   "id": "9f601aeb",
   "metadata": {},
   "outputs": [
    {
     "name": "stdout",
     "output_type": "stream",
     "text": [
      "<class 'pandas.core.frame.DataFrame'>\n",
      "RangeIndex: 123443 entries, 0 to 123442\n",
      "Data columns (total 5 columns):\n",
      " #   Column             Non-Null Count   Dtype  \n",
      "---  ------             --------------   -----  \n",
      " 0   time_id            123443 non-null  int16  \n",
      " 1   seconds_in_bucket  123443 non-null  int16  \n",
      " 2   price              123443 non-null  float32\n",
      " 3   size               123443 non-null  int32  \n",
      " 4   order_count        123443 non-null  int16  \n",
      "dtypes: float32(1), int16(3), int32(1)\n",
      "memory usage: 1.6 MB\n",
      "None\n"
     ]
    }
   ],
   "source": [
    "#Example: load book_train for stock_id=0\n",
    "df_book0 = pd.read_parquet(\"trade_train.parquet/stock_id=0\")\n",
    "print(df_book0.info())\n",
    "\n"
   ]
  },
  {
   "cell_type": "code",
   "execution_count": null,
   "id": "fbb119de",
   "metadata": {},
   "outputs": [
    {
     "name": "stdout",
     "output_type": "stream",
     "text": [
      "    time_id  seconds_in_bucket     price  size  order_count\n",
      "0         5                 21  1.002301   326           12\n",
      "1         5                 46  1.002778   128            4\n",
      "2         5                 50  1.002818    55            1\n",
      "3         5                 57  1.003155   121            5\n",
      "4         5                 68  1.003646     4            1\n",
      "5         5                 78  1.003762   134            5\n",
      "6         5                122  1.004207   102            3\n",
      "7         5                127  1.004577     1            1\n",
      "8         5                144  1.004370     6            1\n",
      "9         5                147  1.003964   233            4\n",
      "10        5                177  1.003853     1            1\n",
      "11        5                183  1.003956     2            1\n",
      "12        5                187  1.004267   165            2\n",
      "13        5                207  1.003543    72            4\n",
      "14        5                218  1.004155    33            5\n",
      "15        5                254  1.003905   100            1\n",
      "16        5                263  1.003905     1            1\n",
      "17        5                265  1.004111     2            2\n",
      "18        5                278  1.004370   106            2\n",
      "19        5                331  1.004680     3            2\n",
      "20        5                366  1.004215     6            2\n",
      "21        5                380  1.004116   432            9\n",
      "22        5                389  1.004422     1            1\n",
      "23        5                398  1.004215   100            1\n",
      "24        5                430  1.003853     2            1\n",
      "25        5                435  1.003905     1            1\n",
      "26        5                464  1.003749     2            1\n",
      "27        5                470  1.003465   200            7\n",
      "28        5                471  1.003646   101            2\n",
      "29        5                488  1.003905     2            1\n",
      "30        5                514  1.004012    29            3\n",
      "31        5                523  1.004008     1            1\n",
      "32        5                540  1.003543     4            1\n",
      "33        5                549  1.003129     2            1\n",
      "34        5                550  1.002799    13            3\n",
      "35        5                551  1.002561   154            5\n",
      "36        5                562  1.002715     1            1\n",
      "37        5                572  1.003191   499            6\n",
      "38        5                581  1.003478     8            3\n",
      "39        5                585  1.003646    26            2\n"
     ]
    }
   ],
   "source": [
    "print(df_book0.head(40))\n"
   ]
  },
  {
   "cell_type": "code",
   "execution_count": 25,
   "id": "38672f58",
   "metadata": {},
   "outputs": [
    {
     "data": {
      "text/html": [
       "<div>\n",
       "<style scoped>\n",
       "    .dataframe tbody tr th:only-of-type {\n",
       "        vertical-align: middle;\n",
       "    }\n",
       "\n",
       "    .dataframe tbody tr th {\n",
       "        vertical-align: top;\n",
       "    }\n",
       "\n",
       "    .dataframe thead th {\n",
       "        text-align: right;\n",
       "    }\n",
       "</style>\n",
       "<table border=\"1\" class=\"dataframe\">\n",
       "  <thead>\n",
       "    <tr style=\"text-align: right;\">\n",
       "      <th></th>\n",
       "      <th>stock_id</th>\n",
       "      <th>time_id</th>\n",
       "      <th>target</th>\n",
       "    </tr>\n",
       "  </thead>\n",
       "  <tbody>\n",
       "    <tr>\n",
       "      <th>0</th>\n",
       "      <td>0</td>\n",
       "      <td>5</td>\n",
       "      <td>0.004136</td>\n",
       "    </tr>\n",
       "    <tr>\n",
       "      <th>1</th>\n",
       "      <td>0</td>\n",
       "      <td>11</td>\n",
       "      <td>0.001445</td>\n",
       "    </tr>\n",
       "    <tr>\n",
       "      <th>2</th>\n",
       "      <td>0</td>\n",
       "      <td>16</td>\n",
       "      <td>0.002168</td>\n",
       "    </tr>\n",
       "    <tr>\n",
       "      <th>3</th>\n",
       "      <td>0</td>\n",
       "      <td>31</td>\n",
       "      <td>0.002195</td>\n",
       "    </tr>\n",
       "    <tr>\n",
       "      <th>4</th>\n",
       "      <td>0</td>\n",
       "      <td>62</td>\n",
       "      <td>0.001747</td>\n",
       "    </tr>\n",
       "  </tbody>\n",
       "</table>\n",
       "</div>"
      ],
      "text/plain": [
       "   stock_id  time_id    target\n",
       "0         0        5  0.004136\n",
       "1         0       11  0.001445\n",
       "2         0       16  0.002168\n",
       "3         0       31  0.002195\n",
       "4         0       62  0.001747"
      ]
     },
     "execution_count": 25,
     "metadata": {},
     "output_type": "execute_result"
    }
   ],
   "source": [
    "import pandas as pd\n",
    "import numpy as np\n",
    "import plotly.express as px\n",
    "train = pd.read_csv('train.csv')\n",
    "train.head()\n",
    "\n"
   ]
  },
  {
   "cell_type": "code",
   "execution_count": 26,
   "id": "84852aaa",
   "metadata": {},
   "outputs": [],
   "source": [
    "book_example = pd.read_parquet('book_train.parquet/stock_id=0')\n",
    "trade_example =  pd.read_parquet('trade_train.parquet/stock_id=0')\n",
    "stock_id = '0'\n",
    "book_example = book_example[book_example['time_id']==5]\n",
    "book_example.loc[:,'stock_id'] = stock_id\n",
    "trade_example = trade_example[trade_example['time_id']==5]\n",
    "trade_example.loc[:,'stock_id'] = stock_id\n"
   ]
  },
  {
   "cell_type": "code",
   "execution_count": 27,
   "id": "9f6ea1ec",
   "metadata": {},
   "outputs": [
    {
     "data": {
      "text/html": [
       "<div>\n",
       "<style scoped>\n",
       "    .dataframe tbody tr th:only-of-type {\n",
       "        vertical-align: middle;\n",
       "    }\n",
       "\n",
       "    .dataframe tbody tr th {\n",
       "        vertical-align: top;\n",
       "    }\n",
       "\n",
       "    .dataframe thead th {\n",
       "        text-align: right;\n",
       "    }\n",
       "</style>\n",
       "<table border=\"1\" class=\"dataframe\">\n",
       "  <thead>\n",
       "    <tr style=\"text-align: right;\">\n",
       "      <th></th>\n",
       "      <th>time_id</th>\n",
       "      <th>seconds_in_bucket</th>\n",
       "      <th>bid_price1</th>\n",
       "      <th>ask_price1</th>\n",
       "      <th>bid_price2</th>\n",
       "      <th>ask_price2</th>\n",
       "      <th>bid_size1</th>\n",
       "      <th>ask_size1</th>\n",
       "      <th>bid_size2</th>\n",
       "      <th>ask_size2</th>\n",
       "      <th>stock_id</th>\n",
       "    </tr>\n",
       "  </thead>\n",
       "  <tbody>\n",
       "    <tr>\n",
       "      <th>0</th>\n",
       "      <td>5</td>\n",
       "      <td>0</td>\n",
       "      <td>1.001422</td>\n",
       "      <td>1.002301</td>\n",
       "      <td>1.00137</td>\n",
       "      <td>1.002353</td>\n",
       "      <td>3</td>\n",
       "      <td>226</td>\n",
       "      <td>2</td>\n",
       "      <td>100</td>\n",
       "      <td>0</td>\n",
       "    </tr>\n",
       "    <tr>\n",
       "      <th>1</th>\n",
       "      <td>5</td>\n",
       "      <td>1</td>\n",
       "      <td>1.001422</td>\n",
       "      <td>1.002301</td>\n",
       "      <td>1.00137</td>\n",
       "      <td>1.002353</td>\n",
       "      <td>3</td>\n",
       "      <td>100</td>\n",
       "      <td>2</td>\n",
       "      <td>100</td>\n",
       "      <td>0</td>\n",
       "    </tr>\n",
       "    <tr>\n",
       "      <th>2</th>\n",
       "      <td>5</td>\n",
       "      <td>5</td>\n",
       "      <td>1.001422</td>\n",
       "      <td>1.002301</td>\n",
       "      <td>1.00137</td>\n",
       "      <td>1.002405</td>\n",
       "      <td>3</td>\n",
       "      <td>100</td>\n",
       "      <td>2</td>\n",
       "      <td>100</td>\n",
       "      <td>0</td>\n",
       "    </tr>\n",
       "    <tr>\n",
       "      <th>3</th>\n",
       "      <td>5</td>\n",
       "      <td>6</td>\n",
       "      <td>1.001422</td>\n",
       "      <td>1.002301</td>\n",
       "      <td>1.00137</td>\n",
       "      <td>1.002405</td>\n",
       "      <td>3</td>\n",
       "      <td>126</td>\n",
       "      <td>2</td>\n",
       "      <td>100</td>\n",
       "      <td>0</td>\n",
       "    </tr>\n",
       "    <tr>\n",
       "      <th>4</th>\n",
       "      <td>5</td>\n",
       "      <td>7</td>\n",
       "      <td>1.001422</td>\n",
       "      <td>1.002301</td>\n",
       "      <td>1.00137</td>\n",
       "      <td>1.002405</td>\n",
       "      <td>3</td>\n",
       "      <td>126</td>\n",
       "      <td>2</td>\n",
       "      <td>100</td>\n",
       "      <td>0</td>\n",
       "    </tr>\n",
       "  </tbody>\n",
       "</table>\n",
       "</div>"
      ],
      "text/plain": [
       "   time_id  seconds_in_bucket  bid_price1  ask_price1  bid_price2  ask_price2  \\\n",
       "0        5                  0    1.001422    1.002301     1.00137    1.002353   \n",
       "1        5                  1    1.001422    1.002301     1.00137    1.002353   \n",
       "2        5                  5    1.001422    1.002301     1.00137    1.002405   \n",
       "3        5                  6    1.001422    1.002301     1.00137    1.002405   \n",
       "4        5                  7    1.001422    1.002301     1.00137    1.002405   \n",
       "\n",
       "   bid_size1  ask_size1  bid_size2  ask_size2 stock_id  \n",
       "0          3        226          2        100        0  \n",
       "1          3        100          2        100        0  \n",
       "2          3        100          2        100        0  \n",
       "3          3        126          2        100        0  \n",
       "4          3        126          2        100        0  "
      ]
     },
     "execution_count": 27,
     "metadata": {},
     "output_type": "execute_result"
    }
   ],
   "source": [
    "book_example.head()\n"
   ]
  },
  {
   "cell_type": "code",
   "execution_count": 28,
   "id": "0e8b53aa",
   "metadata": {},
   "outputs": [
    {
     "data": {
      "text/html": [
       "<div>\n",
       "<style scoped>\n",
       "    .dataframe tbody tr th:only-of-type {\n",
       "        vertical-align: middle;\n",
       "    }\n",
       "\n",
       "    .dataframe tbody tr th {\n",
       "        vertical-align: top;\n",
       "    }\n",
       "\n",
       "    .dataframe thead th {\n",
       "        text-align: right;\n",
       "    }\n",
       "</style>\n",
       "<table border=\"1\" class=\"dataframe\">\n",
       "  <thead>\n",
       "    <tr style=\"text-align: right;\">\n",
       "      <th></th>\n",
       "      <th>time_id</th>\n",
       "      <th>seconds_in_bucket</th>\n",
       "      <th>price</th>\n",
       "      <th>size</th>\n",
       "      <th>order_count</th>\n",
       "      <th>stock_id</th>\n",
       "    </tr>\n",
       "  </thead>\n",
       "  <tbody>\n",
       "    <tr>\n",
       "      <th>0</th>\n",
       "      <td>5</td>\n",
       "      <td>21</td>\n",
       "      <td>1.002301</td>\n",
       "      <td>326</td>\n",
       "      <td>12</td>\n",
       "      <td>0</td>\n",
       "    </tr>\n",
       "    <tr>\n",
       "      <th>1</th>\n",
       "      <td>5</td>\n",
       "      <td>46</td>\n",
       "      <td>1.002778</td>\n",
       "      <td>128</td>\n",
       "      <td>4</td>\n",
       "      <td>0</td>\n",
       "    </tr>\n",
       "    <tr>\n",
       "      <th>2</th>\n",
       "      <td>5</td>\n",
       "      <td>50</td>\n",
       "      <td>1.002818</td>\n",
       "      <td>55</td>\n",
       "      <td>1</td>\n",
       "      <td>0</td>\n",
       "    </tr>\n",
       "    <tr>\n",
       "      <th>3</th>\n",
       "      <td>5</td>\n",
       "      <td>57</td>\n",
       "      <td>1.003155</td>\n",
       "      <td>121</td>\n",
       "      <td>5</td>\n",
       "      <td>0</td>\n",
       "    </tr>\n",
       "    <tr>\n",
       "      <th>4</th>\n",
       "      <td>5</td>\n",
       "      <td>68</td>\n",
       "      <td>1.003646</td>\n",
       "      <td>4</td>\n",
       "      <td>1</td>\n",
       "      <td>0</td>\n",
       "    </tr>\n",
       "  </tbody>\n",
       "</table>\n",
       "</div>"
      ],
      "text/plain": [
       "   time_id  seconds_in_bucket     price  size  order_count stock_id\n",
       "0        5                 21  1.002301   326           12        0\n",
       "1        5                 46  1.002778   128            4        0\n",
       "2        5                 50  1.002818    55            1        0\n",
       "3        5                 57  1.003155   121            5        0\n",
       "4        5                 68  1.003646     4            1        0"
      ]
     },
     "execution_count": 28,
     "metadata": {},
     "output_type": "execute_result"
    }
   ],
   "source": [
    "trade_example.head()\n"
   ]
  },
  {
   "cell_type": "code",
   "execution_count": 29,
   "id": "eecd8916",
   "metadata": {},
   "outputs": [],
   "source": [
    "book_example['wap'] = (book_example['bid_price1'] * book_example['ask_size1'] +\n",
    "                                book_example['ask_price1'] * book_example['bid_size1']) / (\n",
    "                                       book_example['bid_size1']+ book_example['ask_size1'])"
   ]
  },
  {
   "cell_type": "code",
   "execution_count": 30,
   "id": "bbbe5f73",
   "metadata": {},
   "outputs": [
    {
     "data": {
      "application/vnd.plotly.v1+json": {
       "config": {
        "plotlyServerURL": "https://plot.ly"
       },
       "data": [
        {
         "hovertemplate": "seconds_in_bucket=%{x}<br>wap=%{y}<extra></extra>",
         "legendgroup": "",
         "line": {
          "color": "#636efa",
          "dash": "solid"
         },
         "marker": {
          "symbol": "circle"
         },
         "mode": "lines",
         "name": "",
         "orientation": "v",
         "showlegend": false,
         "type": "scatter",
         "x": {
          "bdata": "AAABAAUABgAHAAsADAAOAA8AEAARABIAEwAVABgAGQAsAC4ALwAwADIAMwA3ADkAOwA8AD8ARABFAE4ATwBRAFMAVQBaAFwAXQBeAGEAYgBlAGcAaQBqAG4AbwBxAHIAcwB2AHcAegB7AHwAfgB/AIAAgQCEAIUAhgCKAIwAjQCPAJAAkQCTAJQAlQCWAJcAmACZAJoAngCfAKAAoQCkAKUApgCnAKgAqQCrAK0ArgCvALEAsgC1ALYAtwC5ALoAuwC8AL0AvgC/AMAAwQDCAMMAxADFAMYAxwDIAMkAywDMAM0AzgDPANEA0wDUANUA1wDYANoA2wDdAN4A3wDgAOEA4gDjAOQA5gDnAOgA6QDqAOsA7QDvAPgA/QD+AP8AAAEBAQIBAwEEAQcBCAEJAQ0BFgEaARsBHwEgASIBJQEnASgBKgEtAS8BMAExATIBNAE1ATYBNwE4ATkBOgE8AUIBQwFJAUsBUAFSAVQBWQFcAV4BYQFkAWsBbQFuAW8BdgF6AXwBfgGBAYIBhAGFAYcBigGOAY8BkAGRAZIBkwGUAZYBmgGbAaABqQGqAasBrAGuAa8BsQGyAbMBtQG2AbgBuQG6AbsBvAG9Ab4BvwHAAcEB0AHRAdIB0wHWAdcB2AHZAdoB2wHdAd4B3wHoAekB7wHwAfIB9wH/AQECAgIDAgQCBgIHAggCCQIKAgsCDAINAg4CEAITAhQCFgIXAhoCGwIcAh0CHgIhAiICJAIlAiYCJwIoAisCLgIxAjICMwI7AjwCPQI+Aj8CQwJFAkgCSQJKAksCTAJRAg==",
          "dtype": "i2"
         },
         "xaxis": "x",
         "y": {
          "bdata": "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",
          "dtype": "f8"
         },
         "yaxis": "y"
        }
       ],
       "layout": {
        "legend": {
         "tracegroupgap": 0
        },
        "template": {
         "data": {
          "bar": [
           {
            "error_x": {
             "color": "#2a3f5f"
            },
            "error_y": {
             "color": "#2a3f5f"
            },
            "marker": {
             "line": {
              "color": "#E5ECF6",
              "width": 0.5
             },
             "pattern": {
              "fillmode": "overlay",
              "size": 10,
              "solidity": 0.2
             }
            },
            "type": "bar"
           }
          ],
          "barpolar": [
           {
            "marker": {
             "line": {
              "color": "#E5ECF6",
              "width": 0.5
             },
             "pattern": {
              "fillmode": "overlay",
              "size": 10,
              "solidity": 0.2
             }
            },
            "type": "barpolar"
           }
          ],
          "carpet": [
           {
            "aaxis": {
             "endlinecolor": "#2a3f5f",
             "gridcolor": "white",
             "linecolor": "white",
             "minorgridcolor": "white",
             "startlinecolor": "#2a3f5f"
            },
            "baxis": {
             "endlinecolor": "#2a3f5f",
             "gridcolor": "white",
             "linecolor": "white",
             "minorgridcolor": "white",
             "startlinecolor": "#2a3f5f"
            },
            "type": "carpet"
           }
          ],
          "choropleth": [
           {
            "colorbar": {
             "outlinewidth": 0,
             "ticks": ""
            },
            "type": "choropleth"
           }
          ],
          "contour": [
           {
            "colorbar": {
             "outlinewidth": 0,
             "ticks": ""
            },
            "colorscale": [
             [
              0,
              "#0d0887"
             ],
             [
              0.1111111111111111,
              "#46039f"
             ],
             [
              0.2222222222222222,
              "#7201a8"
             ],
             [
              0.3333333333333333,
              "#9c179e"
             ],
             [
              0.4444444444444444,
              "#bd3786"
             ],
             [
              0.5555555555555556,
              "#d8576b"
             ],
             [
              0.6666666666666666,
              "#ed7953"
             ],
             [
              0.7777777777777778,
              "#fb9f3a"
             ],
             [
              0.8888888888888888,
              "#fdca26"
             ],
             [
              1,
              "#f0f921"
             ]
            ],
            "type": "contour"
           }
          ],
          "contourcarpet": [
           {
            "colorbar": {
             "outlinewidth": 0,
             "ticks": ""
            },
            "type": "contourcarpet"
           }
          ],
          "heatmap": [
           {
            "colorbar": {
             "outlinewidth": 0,
             "ticks": ""
            },
            "colorscale": [
             [
              0,
              "#0d0887"
             ],
             [
              0.1111111111111111,
              "#46039f"
             ],
             [
              0.2222222222222222,
              "#7201a8"
             ],
             [
              0.3333333333333333,
              "#9c179e"
             ],
             [
              0.4444444444444444,
              "#bd3786"
             ],
             [
              0.5555555555555556,
              "#d8576b"
             ],
             [
              0.6666666666666666,
              "#ed7953"
             ],
             [
              0.7777777777777778,
              "#fb9f3a"
             ],
             [
              0.8888888888888888,
              "#fdca26"
             ],
             [
              1,
              "#f0f921"
             ]
            ],
            "type": "heatmap"
           }
          ],
          "histogram": [
           {
            "marker": {
             "pattern": {
              "fillmode": "overlay",
              "size": 10,
              "solidity": 0.2
             }
            },
            "type": "histogram"
           }
          ],
          "histogram2d": [
           {
            "colorbar": {
             "outlinewidth": 0,
             "ticks": ""
            },
            "colorscale": [
             [
              0,
              "#0d0887"
             ],
             [
              0.1111111111111111,
              "#46039f"
             ],
             [
              0.2222222222222222,
              "#7201a8"
             ],
             [
              0.3333333333333333,
              "#9c179e"
             ],
             [
              0.4444444444444444,
              "#bd3786"
             ],
             [
              0.5555555555555556,
              "#d8576b"
             ],
             [
              0.6666666666666666,
              "#ed7953"
             ],
             [
              0.7777777777777778,
              "#fb9f3a"
             ],
             [
              0.8888888888888888,
              "#fdca26"
             ],
             [
              1,
              "#f0f921"
             ]
            ],
            "type": "histogram2d"
           }
          ],
          "histogram2dcontour": [
           {
            "colorbar": {
             "outlinewidth": 0,
             "ticks": ""
            },
            "colorscale": [
             [
              0,
              "#0d0887"
             ],
             [
              0.1111111111111111,
              "#46039f"
             ],
             [
              0.2222222222222222,
              "#7201a8"
             ],
             [
              0.3333333333333333,
              "#9c179e"
             ],
             [
              0.4444444444444444,
              "#bd3786"
             ],
             [
              0.5555555555555556,
              "#d8576b"
             ],
             [
              0.6666666666666666,
              "#ed7953"
             ],
             [
              0.7777777777777778,
              "#fb9f3a"
             ],
             [
              0.8888888888888888,
              "#fdca26"
             ],
             [
              1,
              "#f0f921"
             ]
            ],
            "type": "histogram2dcontour"
           }
          ],
          "mesh3d": [
           {
            "colorbar": {
             "outlinewidth": 0,
             "ticks": ""
            },
            "type": "mesh3d"
           }
          ],
          "parcoords": [
           {
            "line": {
             "colorbar": {
              "outlinewidth": 0,
              "ticks": ""
             }
            },
            "type": "parcoords"
           }
          ],
          "pie": [
           {
            "automargin": true,
            "type": "pie"
           }
          ],
          "scatter": [
           {
            "fillpattern": {
             "fillmode": "overlay",
             "size": 10,
             "solidity": 0.2
            },
            "type": "scatter"
           }
          ],
          "scatter3d": [
           {
            "line": {
             "colorbar": {
              "outlinewidth": 0,
              "ticks": ""
             }
            },
            "marker": {
             "colorbar": {
              "outlinewidth": 0,
              "ticks": ""
             }
            },
            "type": "scatter3d"
           }
          ],
          "scattercarpet": [
           {
            "marker": {
             "colorbar": {
              "outlinewidth": 0,
              "ticks": ""
             }
            },
            "type": "scattercarpet"
           }
          ],
          "scattergeo": [
           {
            "marker": {
             "colorbar": {
              "outlinewidth": 0,
              "ticks": ""
             }
            },
            "type": "scattergeo"
           }
          ],
          "scattergl": [
           {
            "marker": {
             "colorbar": {
              "outlinewidth": 0,
              "ticks": ""
             }
            },
            "type": "scattergl"
           }
          ],
          "scattermap": [
           {
            "marker": {
             "colorbar": {
              "outlinewidth": 0,
              "ticks": ""
             }
            },
            "type": "scattermap"
           }
          ],
          "scattermapbox": [
           {
            "marker": {
             "colorbar": {
              "outlinewidth": 0,
              "ticks": ""
             }
            },
            "type": "scattermapbox"
           }
          ],
          "scatterpolar": [
           {
            "marker": {
             "colorbar": {
              "outlinewidth": 0,
              "ticks": ""
             }
            },
            "type": "scatterpolar"
           }
          ],
          "scatterpolargl": [
           {
            "marker": {
             "colorbar": {
              "outlinewidth": 0,
              "ticks": ""
             }
            },
            "type": "scatterpolargl"
           }
          ],
          "scatterternary": [
           {
            "marker": {
             "colorbar": {
              "outlinewidth": 0,
              "ticks": ""
             }
            },
            "type": "scatterternary"
           }
          ],
          "surface": [
           {
            "colorbar": {
             "outlinewidth": 0,
             "ticks": ""
            },
            "colorscale": [
             [
              0,
              "#0d0887"
             ],
             [
              0.1111111111111111,
              "#46039f"
             ],
             [
              0.2222222222222222,
              "#7201a8"
             ],
             [
              0.3333333333333333,
              "#9c179e"
             ],
             [
              0.4444444444444444,
              "#bd3786"
             ],
             [
              0.5555555555555556,
              "#d8576b"
             ],
             [
              0.6666666666666666,
              "#ed7953"
             ],
             [
              0.7777777777777778,
              "#fb9f3a"
             ],
             [
              0.8888888888888888,
              "#fdca26"
             ],
             [
              1,
              "#f0f921"
             ]
            ],
            "type": "surface"
           }
          ],
          "table": [
           {
            "cells": {
             "fill": {
              "color": "#EBF0F8"
             },
             "line": {
              "color": "white"
             }
            },
            "header": {
             "fill": {
              "color": "#C8D4E3"
             },
             "line": {
              "color": "white"
             }
            },
            "type": "table"
           }
          ]
         },
         "layout": {
          "annotationdefaults": {
           "arrowcolor": "#2a3f5f",
           "arrowhead": 0,
           "arrowwidth": 1
          },
          "autotypenumbers": "strict",
          "coloraxis": {
           "colorbar": {
            "outlinewidth": 0,
            "ticks": ""
           }
          },
          "colorscale": {
           "diverging": [
            [
             0,
             "#8e0152"
            ],
            [
             0.1,
             "#c51b7d"
            ],
            [
             0.2,
             "#de77ae"
            ],
            [
             0.3,
             "#f1b6da"
            ],
            [
             0.4,
             "#fde0ef"
            ],
            [
             0.5,
             "#f7f7f7"
            ],
            [
             0.6,
             "#e6f5d0"
            ],
            [
             0.7,
             "#b8e186"
            ],
            [
             0.8,
             "#7fbc41"
            ],
            [
             0.9,
             "#4d9221"
            ],
            [
             1,
             "#276419"
            ]
           ],
           "sequential": [
            [
             0,
             "#0d0887"
            ],
            [
             0.1111111111111111,
             "#46039f"
            ],
            [
             0.2222222222222222,
             "#7201a8"
            ],
            [
             0.3333333333333333,
             "#9c179e"
            ],
            [
             0.4444444444444444,
             "#bd3786"
            ],
            [
             0.5555555555555556,
             "#d8576b"
            ],
            [
             0.6666666666666666,
             "#ed7953"
            ],
            [
             0.7777777777777778,
             "#fb9f3a"
            ],
            [
             0.8888888888888888,
             "#fdca26"
            ],
            [
             1,
             "#f0f921"
            ]
           ],
           "sequentialminus": [
            [
             0,
             "#0d0887"
            ],
            [
             0.1111111111111111,
             "#46039f"
            ],
            [
             0.2222222222222222,
             "#7201a8"
            ],
            [
             0.3333333333333333,
             "#9c179e"
            ],
            [
             0.4444444444444444,
             "#bd3786"
            ],
            [
             0.5555555555555556,
             "#d8576b"
            ],
            [
             0.6666666666666666,
             "#ed7953"
            ],
            [
             0.7777777777777778,
             "#fb9f3a"
            ],
            [
             0.8888888888888888,
             "#fdca26"
            ],
            [
             1,
             "#f0f921"
            ]
           ]
          },
          "colorway": [
           "#636efa",
           "#EF553B",
           "#00cc96",
           "#ab63fa",
           "#FFA15A",
           "#19d3f3",
           "#FF6692",
           "#B6E880",
           "#FF97FF",
           "#FECB52"
          ],
          "font": {
           "color": "#2a3f5f"
          },
          "geo": {
           "bgcolor": "white",
           "lakecolor": "white",
           "landcolor": "#E5ECF6",
           "showlakes": true,
           "showland": true,
           "subunitcolor": "white"
          },
          "hoverlabel": {
           "align": "left"
          },
          "hovermode": "closest",
          "mapbox": {
           "style": "light"
          },
          "paper_bgcolor": "white",
          "plot_bgcolor": "#E5ECF6",
          "polar": {
           "angularaxis": {
            "gridcolor": "white",
            "linecolor": "white",
            "ticks": ""
           },
           "bgcolor": "#E5ECF6",
           "radialaxis": {
            "gridcolor": "white",
            "linecolor": "white",
            "ticks": ""
           }
          },
          "scene": {
           "xaxis": {
            "backgroundcolor": "#E5ECF6",
            "gridcolor": "white",
            "gridwidth": 2,
            "linecolor": "white",
            "showbackground": true,
            "ticks": "",
            "zerolinecolor": "white"
           },
           "yaxis": {
            "backgroundcolor": "#E5ECF6",
            "gridcolor": "white",
            "gridwidth": 2,
            "linecolor": "white",
            "showbackground": true,
            "ticks": "",
            "zerolinecolor": "white"
           },
           "zaxis": {
            "backgroundcolor": "#E5ECF6",
            "gridcolor": "white",
            "gridwidth": 2,
            "linecolor": "white",
            "showbackground": true,
            "ticks": "",
            "zerolinecolor": "white"
           }
          },
          "shapedefaults": {
           "line": {
            "color": "#2a3f5f"
           }
          },
          "ternary": {
           "aaxis": {
            "gridcolor": "white",
            "linecolor": "white",
            "ticks": ""
           },
           "baxis": {
            "gridcolor": "white",
            "linecolor": "white",
            "ticks": ""
           },
           "bgcolor": "#E5ECF6",
           "caxis": {
            "gridcolor": "white",
            "linecolor": "white",
            "ticks": ""
           }
          },
          "title": {
           "x": 0.05
          },
          "xaxis": {
           "automargin": true,
           "gridcolor": "white",
           "linecolor": "white",
           "ticks": "",
           "title": {
            "standoff": 15
           },
           "zerolinecolor": "white",
           "zerolinewidth": 2
          },
          "yaxis": {
           "automargin": true,
           "gridcolor": "white",
           "linecolor": "white",
           "ticks": "",
           "title": {
            "standoff": 15
           },
           "zerolinecolor": "white",
           "zerolinewidth": 2
          }
         }
        },
        "title": {
         "text": "WAP of stock_id_0, time_id_5"
        },
        "xaxis": {
         "anchor": "y",
         "domain": [
          0,
          1
         ],
         "title": {
          "text": "seconds_in_bucket"
         }
        },
        "yaxis": {
         "anchor": "x",
         "domain": [
          0,
          1
         ],
         "title": {
          "text": "wap"
         }
        }
       }
      }
     },
     "metadata": {},
     "output_type": "display_data"
    }
   ],
   "source": [
    "fig = px.line(book_example, x=\"seconds_in_bucket\", y=\"wap\", title='WAP of stock_id_0, time_id_5')\n",
    "fig.show()"
   ]
  },
  {
   "cell_type": "code",
   "execution_count": 31,
   "id": "b0077c9f",
   "metadata": {},
   "outputs": [],
   "source": [
    "def log_return(list_stock_prices):\n",
    "    return np.log(list_stock_prices).diff() "
   ]
  },
  {
   "cell_type": "code",
   "execution_count": 32,
   "id": "017ff31d",
   "metadata": {},
   "outputs": [],
   "source": [
    "book_example.loc[:,'log_return'] = log_return(book_example['wap'])\n",
    "book_example = book_example[~book_example['log_return'].isnull()]\n"
   ]
  },
  {
   "cell_type": "code",
   "execution_count": 33,
   "id": "40913b7b",
   "metadata": {},
   "outputs": [
    {
     "data": {
      "application/vnd.plotly.v1+json": {
       "config": {
        "plotlyServerURL": "https://plot.ly"
       },
       "data": [
        {
         "hovertemplate": "seconds_in_bucket=%{x}<br>log_return=%{y}<extra></extra>",
         "legendgroup": "",
         "line": {
          "color": "#636efa",
          "dash": "solid"
         },
         "marker": {
          "symbol": "circle"
         },
         "mode": "lines",
         "name": "",
         "orientation": "v",
         "showlegend": false,
         "type": "scatter",
         "x": {
          "bdata": "AQAFAAYABwALAAwADgAPABAAEQASABMAFQAYABkALAAuAC8AMAAyADMANwA5ADsAPAA/AEQARQBOAE8AUQBTAFUAWgBcAF0AXgBhAGIAZQBnAGkAagBuAG8AcQByAHMAdgB3AHoAewB8AH4AfwCAAIEAhACFAIYAigCMAI0AjwCQAJEAkwCUAJUAlgCXAJgAmQCaAJ4AnwCgAKEApAClAKYApwCoAKkAqwCtAK4ArwCxALIAtQC2ALcAuQC6ALsAvAC9AL4AvwDAAMEAwgDDAMQAxQDGAMcAyADJAMsAzADNAM4AzwDRANMA1ADVANcA2ADaANsA3QDeAN8A4ADhAOIA4wDkAOYA5wDoAOkA6gDrAO0A7wD4AP0A/gD/AAABAQECAQMBBAEHAQgBCQENARYBGgEbAR8BIAEiASUBJwEoASoBLQEvATABMQEyATQBNQE2ATcBOAE5AToBPAFCAUMBSQFLAVABUgFUAVkBXAFeAWEBZAFrAW0BbgFvAXYBegF8AX4BgQGCAYQBhQGHAYoBjgGPAZABkQGSAZMBlAGWAZoBmwGgAakBqgGrAawBrgGvAbEBsgGzAbUBtgG4AbkBugG7AbwBvQG+Ab8BwAHBAdAB0QHSAdMB1gHXAdgB2QHaAdsB3QHeAd8B6AHpAe8B8AHyAfcB/wEBAgICAwIEAgYCBwIIAgkCCgILAgwCDQIOAhACEwIUAhYCFwIaAhsCHAIdAh4CIQIiAiQCJQImAicCKAIrAi4CMQIyAjMCOwI8Aj0CPgI/AkMCRQJIAkkCSgJLAkwCUQI=",
          "dtype": "i2"
         },
         "xaxis": "x",
         "y": {
          "bdata": "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",
          "dtype": "f8"
         },
         "yaxis": "y"
        }
       ],
       "layout": {
        "legend": {
         "tracegroupgap": 0
        },
        "template": {
         "data": {
          "bar": [
           {
            "error_x": {
             "color": "#2a3f5f"
            },
            "error_y": {
             "color": "#2a3f5f"
            },
            "marker": {
             "line": {
              "color": "#E5ECF6",
              "width": 0.5
             },
             "pattern": {
              "fillmode": "overlay",
              "size": 10,
              "solidity": 0.2
             }
            },
            "type": "bar"
           }
          ],
          "barpolar": [
           {
            "marker": {
             "line": {
              "color": "#E5ECF6",
              "width": 0.5
             },
             "pattern": {
              "fillmode": "overlay",
              "size": 10,
              "solidity": 0.2
             }
            },
            "type": "barpolar"
           }
          ],
          "carpet": [
           {
            "aaxis": {
             "endlinecolor": "#2a3f5f",
             "gridcolor": "white",
             "linecolor": "white",
             "minorgridcolor": "white",
             "startlinecolor": "#2a3f5f"
            },
            "baxis": {
             "endlinecolor": "#2a3f5f",
             "gridcolor": "white",
             "linecolor": "white",
             "minorgridcolor": "white",
             "startlinecolor": "#2a3f5f"
            },
            "type": "carpet"
           }
          ],
          "choropleth": [
           {
            "colorbar": {
             "outlinewidth": 0,
             "ticks": ""
            },
            "type": "choropleth"
           }
          ],
          "contour": [
           {
            "colorbar": {
             "outlinewidth": 0,
             "ticks": ""
            },
            "colorscale": [
             [
              0,
              "#0d0887"
             ],
             [
              0.1111111111111111,
              "#46039f"
             ],
             [
              0.2222222222222222,
              "#7201a8"
             ],
             [
              0.3333333333333333,
              "#9c179e"
             ],
             [
              0.4444444444444444,
              "#bd3786"
             ],
             [
              0.5555555555555556,
              "#d8576b"
             ],
             [
              0.6666666666666666,
              "#ed7953"
             ],
             [
              0.7777777777777778,
              "#fb9f3a"
             ],
             [
              0.8888888888888888,
              "#fdca26"
             ],
             [
              1,
              "#f0f921"
             ]
            ],
            "type": "contour"
           }
          ],
          "contourcarpet": [
           {
            "colorbar": {
             "outlinewidth": 0,
             "ticks": ""
            },
            "type": "contourcarpet"
           }
          ],
          "heatmap": [
           {
            "colorbar": {
             "outlinewidth": 0,
             "ticks": ""
            },
            "colorscale": [
             [
              0,
              "#0d0887"
             ],
             [
              0.1111111111111111,
              "#46039f"
             ],
             [
              0.2222222222222222,
              "#7201a8"
             ],
             [
              0.3333333333333333,
              "#9c179e"
             ],
             [
              0.4444444444444444,
              "#bd3786"
             ],
             [
              0.5555555555555556,
              "#d8576b"
             ],
             [
              0.6666666666666666,
              "#ed7953"
             ],
             [
              0.7777777777777778,
              "#fb9f3a"
             ],
             [
              0.8888888888888888,
              "#fdca26"
             ],
             [
              1,
              "#f0f921"
             ]
            ],
            "type": "heatmap"
           }
          ],
          "histogram": [
           {
            "marker": {
             "pattern": {
              "fillmode": "overlay",
              "size": 10,
              "solidity": 0.2
             }
            },
            "type": "histogram"
           }
          ],
          "histogram2d": [
           {
            "colorbar": {
             "outlinewidth": 0,
             "ticks": ""
            },
            "colorscale": [
             [
              0,
              "#0d0887"
             ],
             [
              0.1111111111111111,
              "#46039f"
             ],
             [
              0.2222222222222222,
              "#7201a8"
             ],
             [
              0.3333333333333333,
              "#9c179e"
             ],
             [
              0.4444444444444444,
              "#bd3786"
             ],
             [
              0.5555555555555556,
              "#d8576b"
             ],
             [
              0.6666666666666666,
              "#ed7953"
             ],
             [
              0.7777777777777778,
              "#fb9f3a"
             ],
             [
              0.8888888888888888,
              "#fdca26"
             ],
             [
              1,
              "#f0f921"
             ]
            ],
            "type": "histogram2d"
           }
          ],
          "histogram2dcontour": [
           {
            "colorbar": {
             "outlinewidth": 0,
             "ticks": ""
            },
            "colorscale": [
             [
              0,
              "#0d0887"
             ],
             [
              0.1111111111111111,
              "#46039f"
             ],
             [
              0.2222222222222222,
              "#7201a8"
             ],
             [
              0.3333333333333333,
              "#9c179e"
             ],
             [
              0.4444444444444444,
              "#bd3786"
             ],
             [
              0.5555555555555556,
              "#d8576b"
             ],
             [
              0.6666666666666666,
              "#ed7953"
             ],
             [
              0.7777777777777778,
              "#fb9f3a"
             ],
             [
              0.8888888888888888,
              "#fdca26"
             ],
             [
              1,
              "#f0f921"
             ]
            ],
            "type": "histogram2dcontour"
           }
          ],
          "mesh3d": [
           {
            "colorbar": {
             "outlinewidth": 0,
             "ticks": ""
            },
            "type": "mesh3d"
           }
          ],
          "parcoords": [
           {
            "line": {
             "colorbar": {
              "outlinewidth": 0,
              "ticks": ""
             }
            },
            "type": "parcoords"
           }
          ],
          "pie": [
           {
            "automargin": true,
            "type": "pie"
           }
          ],
          "scatter": [
           {
            "fillpattern": {
             "fillmode": "overlay",
             "size": 10,
             "solidity": 0.2
            },
            "type": "scatter"
           }
          ],
          "scatter3d": [
           {
            "line": {
             "colorbar": {
              "outlinewidth": 0,
              "ticks": ""
             }
            },
            "marker": {
             "colorbar": {
              "outlinewidth": 0,
              "ticks": ""
             }
            },
            "type": "scatter3d"
           }
          ],
          "scattercarpet": [
           {
            "marker": {
             "colorbar": {
              "outlinewidth": 0,
              "ticks": ""
             }
            },
            "type": "scattercarpet"
           }
          ],
          "scattergeo": [
           {
            "marker": {
             "colorbar": {
              "outlinewidth": 0,
              "ticks": ""
             }
            },
            "type": "scattergeo"
           }
          ],
          "scattergl": [
           {
            "marker": {
             "colorbar": {
              "outlinewidth": 0,
              "ticks": ""
             }
            },
            "type": "scattergl"
           }
          ],
          "scattermap": [
           {
            "marker": {
             "colorbar": {
              "outlinewidth": 0,
              "ticks": ""
             }
            },
            "type": "scattermap"
           }
          ],
          "scattermapbox": [
           {
            "marker": {
             "colorbar": {
              "outlinewidth": 0,
              "ticks": ""
             }
            },
            "type": "scattermapbox"
           }
          ],
          "scatterpolar": [
           {
            "marker": {
             "colorbar": {
              "outlinewidth": 0,
              "ticks": ""
             }
            },
            "type": "scatterpolar"
           }
          ],
          "scatterpolargl": [
           {
            "marker": {
             "colorbar": {
              "outlinewidth": 0,
              "ticks": ""
             }
            },
            "type": "scatterpolargl"
           }
          ],
          "scatterternary": [
           {
            "marker": {
             "colorbar": {
              "outlinewidth": 0,
              "ticks": ""
             }
            },
            "type": "scatterternary"
           }
          ],
          "surface": [
           {
            "colorbar": {
             "outlinewidth": 0,
             "ticks": ""
            },
            "colorscale": [
             [
              0,
              "#0d0887"
             ],
             [
              0.1111111111111111,
              "#46039f"
             ],
             [
              0.2222222222222222,
              "#7201a8"
             ],
             [
              0.3333333333333333,
              "#9c179e"
             ],
             [
              0.4444444444444444,
              "#bd3786"
             ],
             [
              0.5555555555555556,
              "#d8576b"
             ],
             [
              0.6666666666666666,
              "#ed7953"
             ],
             [
              0.7777777777777778,
              "#fb9f3a"
             ],
             [
              0.8888888888888888,
              "#fdca26"
             ],
             [
              1,
              "#f0f921"
             ]
            ],
            "type": "surface"
           }
          ],
          "table": [
           {
            "cells": {
             "fill": {
              "color": "#EBF0F8"
             },
             "line": {
              "color": "white"
             }
            },
            "header": {
             "fill": {
              "color": "#C8D4E3"
             },
             "line": {
              "color": "white"
             }
            },
            "type": "table"
           }
          ]
         },
         "layout": {
          "annotationdefaults": {
           "arrowcolor": "#2a3f5f",
           "arrowhead": 0,
           "arrowwidth": 1
          },
          "autotypenumbers": "strict",
          "coloraxis": {
           "colorbar": {
            "outlinewidth": 0,
            "ticks": ""
           }
          },
          "colorscale": {
           "diverging": [
            [
             0,
             "#8e0152"
            ],
            [
             0.1,
             "#c51b7d"
            ],
            [
             0.2,
             "#de77ae"
            ],
            [
             0.3,
             "#f1b6da"
            ],
            [
             0.4,
             "#fde0ef"
            ],
            [
             0.5,
             "#f7f7f7"
            ],
            [
             0.6,
             "#e6f5d0"
            ],
            [
             0.7,
             "#b8e186"
            ],
            [
             0.8,
             "#7fbc41"
            ],
            [
             0.9,
             "#4d9221"
            ],
            [
             1,
             "#276419"
            ]
           ],
           "sequential": [
            [
             0,
             "#0d0887"
            ],
            [
             0.1111111111111111,
             "#46039f"
            ],
            [
             0.2222222222222222,
             "#7201a8"
            ],
            [
             0.3333333333333333,
             "#9c179e"
            ],
            [
             0.4444444444444444,
             "#bd3786"
            ],
            [
             0.5555555555555556,
             "#d8576b"
            ],
            [
             0.6666666666666666,
             "#ed7953"
            ],
            [
             0.7777777777777778,
             "#fb9f3a"
            ],
            [
             0.8888888888888888,
             "#fdca26"
            ],
            [
             1,
             "#f0f921"
            ]
           ],
           "sequentialminus": [
            [
             0,
             "#0d0887"
            ],
            [
             0.1111111111111111,
             "#46039f"
            ],
            [
             0.2222222222222222,
             "#7201a8"
            ],
            [
             0.3333333333333333,
             "#9c179e"
            ],
            [
             0.4444444444444444,
             "#bd3786"
            ],
            [
             0.5555555555555556,
             "#d8576b"
            ],
            [
             0.6666666666666666,
             "#ed7953"
            ],
            [
             0.7777777777777778,
             "#fb9f3a"
            ],
            [
             0.8888888888888888,
             "#fdca26"
            ],
            [
             1,
             "#f0f921"
            ]
           ]
          },
          "colorway": [
           "#636efa",
           "#EF553B",
           "#00cc96",
           "#ab63fa",
           "#FFA15A",
           "#19d3f3",
           "#FF6692",
           "#B6E880",
           "#FF97FF",
           "#FECB52"
          ],
          "font": {
           "color": "#2a3f5f"
          },
          "geo": {
           "bgcolor": "white",
           "lakecolor": "white",
           "landcolor": "#E5ECF6",
           "showlakes": true,
           "showland": true,
           "subunitcolor": "white"
          },
          "hoverlabel": {
           "align": "left"
          },
          "hovermode": "closest",
          "mapbox": {
           "style": "light"
          },
          "paper_bgcolor": "white",
          "plot_bgcolor": "#E5ECF6",
          "polar": {
           "angularaxis": {
            "gridcolor": "white",
            "linecolor": "white",
            "ticks": ""
           },
           "bgcolor": "#E5ECF6",
           "radialaxis": {
            "gridcolor": "white",
            "linecolor": "white",
            "ticks": ""
           }
          },
          "scene": {
           "xaxis": {
            "backgroundcolor": "#E5ECF6",
            "gridcolor": "white",
            "gridwidth": 2,
            "linecolor": "white",
            "showbackground": true,
            "ticks": "",
            "zerolinecolor": "white"
           },
           "yaxis": {
            "backgroundcolor": "#E5ECF6",
            "gridcolor": "white",
            "gridwidth": 2,
            "linecolor": "white",
            "showbackground": true,
            "ticks": "",
            "zerolinecolor": "white"
           },
           "zaxis": {
            "backgroundcolor": "#E5ECF6",
            "gridcolor": "white",
            "gridwidth": 2,
            "linecolor": "white",
            "showbackground": true,
            "ticks": "",
            "zerolinecolor": "white"
           }
          },
          "shapedefaults": {
           "line": {
            "color": "#2a3f5f"
           }
          },
          "ternary": {
           "aaxis": {
            "gridcolor": "white",
            "linecolor": "white",
            "ticks": ""
           },
           "baxis": {
            "gridcolor": "white",
            "linecolor": "white",
            "ticks": ""
           },
           "bgcolor": "#E5ECF6",
           "caxis": {
            "gridcolor": "white",
            "linecolor": "white",
            "ticks": ""
           }
          },
          "title": {
           "x": 0.05
          },
          "xaxis": {
           "automargin": true,
           "gridcolor": "white",
           "linecolor": "white",
           "ticks": "",
           "title": {
            "standoff": 15
           },
           "zerolinecolor": "white",
           "zerolinewidth": 2
          },
          "yaxis": {
           "automargin": true,
           "gridcolor": "white",
           "linecolor": "white",
           "ticks": "",
           "title": {
            "standoff": 15
           },
           "zerolinecolor": "white",
           "zerolinewidth": 2
          }
         }
        },
        "title": {
         "text": "Log return of stock_id_0, time_id_5"
        },
        "xaxis": {
         "anchor": "y",
         "domain": [
          0,
          1
         ],
         "title": {
          "text": "seconds_in_bucket"
         }
        },
        "yaxis": {
         "anchor": "x",
         "domain": [
          0,
          1
         ],
         "title": {
          "text": "log_return"
         }
        }
       }
      }
     },
     "metadata": {},
     "output_type": "display_data"
    }
   ],
   "source": [
    "fig = px.line(book_example, x=\"seconds_in_bucket\", y=\"log_return\", title='Log return of stock_id_0, time_id_5')\n",
    "fig.show()"
   ]
  },
  {
   "cell_type": "code",
   "execution_count": 34,
   "id": "9036c2ac",
   "metadata": {},
   "outputs": [
    {
     "name": "stdout",
     "output_type": "stream",
     "text": [
      "Realized volatility for stock_id 0 on time_id 5 is 0.004499364172786558\n"
     ]
    }
   ],
   "source": [
    "def realized_volatility(series_log_return):\n",
    "    return np.sqrt(np.sum(series_log_return**2))\n",
    "realized_vol = realized_volatility(book_example['log_return'])\n",
    "print(f'Realized volatility for stock_id 0 on time_id 5 is {realized_vol}')"
   ]
  },
  {
   "cell_type": "code",
   "execution_count": 35,
   "id": "72689b39",
   "metadata": {},
   "outputs": [],
   "source": [
    "import os\n",
    "from sklearn.metrics import r2_score\n",
    "import glob\n",
    "list_order_book_file_train = glob.glob('/kaggle/input/optiver-realized-volatility-prediction/book_train.parquet/*')"
   ]
  },
  {
   "cell_type": "code",
   "execution_count": 36,
   "id": "c8be3710",
   "metadata": {},
   "outputs": [],
   "source": [
    "def realized_volatility_per_time_id(file_path, prediction_column_name):\n",
    "    df_book_data = pd.read_parquet(file_path)\n",
    "    df_book_data['wap'] =(df_book_data['bid_price1'] * df_book_data['ask_size1']+df_book_data['ask_price1'] * df_book_data['bid_size1'])  / (\n",
    "                                      df_book_data['bid_size1']+ df_book_data[\n",
    "                                  'ask_size1'])\n",
    "    df_book_data['log_return'] = df_book_data.groupby(['time_id'])['wap'].apply(log_return)\n",
    "    df_book_data = df_book_data[~df_book_data['log_return'].isnull()]\n",
    "    df_realized_vol_per_stock =  pd.DataFrame(df_book_data.groupby(['time_id'])['log_return'].agg(realized_volatility)).reset_index()\n",
    "    df_realized_vol_per_stock = df_realized_vol_per_stock.rename(columns = {'log_return':prediction_column_name})\n",
    "    stock_id = file_path.split('=')[1]\n",
    "    df_realized_vol_per_stock['row_id'] = df_realized_vol_per_stock['time_id'].apply(lambda x:f'{stock_id}-{x}')\n",
    "    return df_realized_vol_per_stock[['row_id',prediction_column_name]]"
   ]
  },
  {
   "cell_type": "code",
   "execution_count": 37,
   "id": "291feb95",
   "metadata": {},
   "outputs": [],
   "source": [
    "def past_realized_volatility_per_stock(list_file,prediction_column_name):\n",
    "    df_past_realized = pd.DataFrame()\n",
    "    for file in list_file:\n",
    "        df_past_realized = pd.concat([df_past_realized,\n",
    "                                     realized_volatility_per_time_id(file,prediction_column_name)])\n",
    "    return df_past_realized\n",
    "df_past_realized_train = past_realized_volatility_per_stock(list_file=list_order_book_file_train,\n",
    "                                                           prediction_column_name='pred')\n"
   ]
  },
  {
   "cell_type": "code",
   "execution_count": 38,
   "id": "948edc91",
   "metadata": {},
   "outputs": [
    {
     "ename": "ValueError",
     "evalue": "Need join keys: provide ['stock_id','time_id'] or a 'row_id' (column/index) like '3-57'.",
     "output_type": "error",
     "traceback": [
      "\u001b[31m---------------------------------------------------------------------------\u001b[39m",
      "\u001b[31mValueError\u001b[39m                                Traceback (most recent call last)",
      "\u001b[36mCell\u001b[39m\u001b[36m \u001b[39m\u001b[32mIn[38]\u001b[39m\u001b[32m, line 40\u001b[39m\n\u001b[32m     38\u001b[39m \u001b[38;5;66;03m# ---------- prepare keys ----------\u001b[39;00m\n\u001b[32m     39\u001b[39m train = ensure_keys(train)\n\u001b[32m---> \u001b[39m\u001b[32m40\u001b[39m df_past_realized_train = \u001b[43mensure_keys\u001b[49m\u001b[43m(\u001b[49m\u001b[43mdf_past_realized_train\u001b[49m\u001b[43m)\u001b[49m\n\u001b[32m     42\u001b[39m \u001b[38;5;66;03m# ---------- choose prediction column on the right ----------\u001b[39;00m\n\u001b[32m     43\u001b[39m right_pred_col = find_pred_col(df_past_realized_train)\n",
      "\u001b[36mCell\u001b[39m\u001b[36m \u001b[39m\u001b[32mIn[38]\u001b[39m\u001b[32m, line 26\u001b[39m, in \u001b[36mensure_keys\u001b[39m\u001b[34m(df)\u001b[39m\n\u001b[32m     20\u001b[39m         df = df.assign(\n\u001b[32m     21\u001b[39m             stock_id=parts[\u001b[32m0\u001b[39m].astype(\u001b[38;5;28mint\u001b[39m),\n\u001b[32m     22\u001b[39m             time_id=parts[\u001b[32m1\u001b[39m].astype(\u001b[38;5;28mint\u001b[39m)\n\u001b[32m     23\u001b[39m         )\n\u001b[32m     24\u001b[39m         \u001b[38;5;28;01mreturn\u001b[39;00m df\n\u001b[32m---> \u001b[39m\u001b[32m26\u001b[39m \u001b[38;5;28;01mraise\u001b[39;00m \u001b[38;5;167;01mValueError\u001b[39;00m(\n\u001b[32m     27\u001b[39m     \u001b[33m\"\u001b[39m\u001b[33mNeed join keys: provide [\u001b[39m\u001b[33m'\u001b[39m\u001b[33mstock_id\u001b[39m\u001b[33m'\u001b[39m\u001b[33m,\u001b[39m\u001b[33m'\u001b[39m\u001b[33mtime_id\u001b[39m\u001b[33m'\u001b[39m\u001b[33m] or a \u001b[39m\u001b[33m'\u001b[39m\u001b[33mrow_id\u001b[39m\u001b[33m'\u001b[39m\u001b[33m (column/index) like \u001b[39m\u001b[33m'\u001b[39m\u001b[33m3-57\u001b[39m\u001b[33m'\u001b[39m\u001b[33m.\u001b[39m\u001b[33m\"\u001b[39m\n\u001b[32m     28\u001b[39m )\n",
      "\u001b[31mValueError\u001b[39m: Need join keys: provide ['stock_id','time_id'] or a 'row_id' (column/index) like '3-57'."
     ]
    }
   ],
   "source": [
    "import pandas as pd\n",
    "\n",
    "# ---------- utilities ----------\n",
    "def ensure_keys(df: pd.DataFrame) -> pd.DataFrame:\n",
    "    \"\"\"Make sure df has stock_id and time_id columns.\n",
    "       Accepts either existing columns or a row_id (column or index) like '3-57' and splits it.\n",
    "    \"\"\"\n",
    "    # If both keys already exist, done.\n",
    "    if {'stock_id', 'time_id'}.issubset(df.columns):\n",
    "        return df\n",
    "\n",
    "    # If row_id is the index, reset it to a column first.\n",
    "    if df.index.name == 'row_id' or ('row_id' in getattr(df.index, 'names', [])):\n",
    "        df = df.reset_index()\n",
    "\n",
    "    # If row_id is a column, split \"stock-time\" into two ints.\n",
    "    if 'row_id' in df.columns:\n",
    "        parts = df['row_id'].astype(str).str.split('-', n=1, expand=True)\n",
    "        if parts.shape[1] == 2:\n",
    "            df = df.assign(\n",
    "                stock_id=parts[0].astype(int),\n",
    "                time_id=parts[1].astype(int)\n",
    "            )\n",
    "            return df\n",
    "\n",
    "    raise ValueError(\n",
    "        \"Need join keys: provide ['stock_id','time_id'] or a 'row_id' (column/index) like '3-57'.\"\n",
    "    )\n",
    "\n",
    "def find_pred_col(df: pd.DataFrame) -> str:\n",
    "    \"\"\"Find the prediction/target column name to rename to 'pred' for the merge.\"\"\"\n",
    "    for c in ['pred', 'prediction', 'preds', 'y_pred', 'target',\n",
    "              'past_realized_volatility', 'realized_volatility', 'y', 'label']:\n",
    "        if c in df.columns:\n",
    "            return c\n",
    "    raise KeyError(\"Could not find a prediction/target column in df_past_realized_train.\")\n",
    "\n",
    "# ---------- prepare keys ----------\n",
    "train = ensure_keys(train)\n",
    "df_past_realized_train = ensure_keys(df_past_realized_train)\n",
    "\n",
    "# ---------- choose prediction column on the right ----------\n",
    "right_pred_col = find_pred_col(df_past_realized_train)\n",
    "\n",
    "# ---------- merge on (stock_id, time_id) ----------\n",
    "df_joined = (\n",
    "    train[['stock_id ', 'time_id', 'target']]\n",
    "      .merge(\n",
    "          df_past_realized_train[['stock_id', 'time_id', right_pred_col]]\n",
    "              .rename(columns={right_pred_col: 'pred'}),\n",
    "          on=['stock_id', 'time_id'],\n",
    "          how='left'\n",
    "      )\n",
    ")\n",
    "\n",
    "# (optional) add row_id for convenience\n",
    "df_joined['row_id'] = (\n",
    "    df_joined['stock_id'].astype(str) + '-' + df_joined['time_id'].astype(str)\n",
    ")\n",
    "\n",
    "print(df_joined.head())\n"
   ]
  }
 ],
 "metadata": {
  "kernelspec": {
   "display_name": "Python 3",
   "language": "python",
   "name": "python3"
  },
  "language_info": {
   "codemirror_mode": {
    "name": "ipython",
    "version": 3
   },
   "file_extension": ".py",
   "mimetype": "text/x-python",
   "name": "python",
   "nbconvert_exporter": "python",
   "pygments_lexer": "ipython3",
   "version": "3.13.1"
  }
 },
 "nbformat": 4,
 "nbformat_minor": 5
}
